{
 "cells": [
  {
   "cell_type": "code",
   "execution_count": 1,
   "metadata": {
    "collapsed": false
   },
   "outputs": [],
   "source": [
    "# import some necessary libraries\n",
    "import pandas as pd\n",
    "import numpy as np\n",
    "import matplotlib.pyplot as plt\n",
    "%matplotlib inline"
   ]
  },
  {
   "cell_type": "code",
   "execution_count": 13,
   "metadata": {
    "collapsed": true
   },
   "outputs": [],
   "source": [
    "# read in some basic annual data on drug poisoning mortality by state\n",
    "# from https://catalog.data.gov/dataset/drug-poisoning-mortality-u-s-and-state-trends-united-states-20022014/resource/57f97565-b371-422c-8466-800d4f26f7d9\n",
    "drug_deaths = pd.read_csv('NCHS_-_Drug_Poisoning_Mortality_by_State__United_States.csv')"
   ]
  },
  {
   "cell_type": "code",
   "execution_count": 19,
   "metadata": {
    "collapsed": false
   },
   "outputs": [],
   "source": [
    "# drop the total values from the dataset and preview the data\n",
    "drug_deaths = drug_deaths[drug_deaths['State']!='United States']\n",
    "#for col in ['Population', 'Crude Death Rate', 'Standard Error for Crude Rate', 'Low Confidence Limit for Crude Rate',\n",
    "#           'Upper Confidence Limit for Crude Rate', 'Age-adjusted Rate', 'Standard Error Age-adjusted Rate',\n",
    "#           'Upper Confidence Limit for Age-adjusted Rate', 'State Crude Rate in Range', 'US Crude Rate', 'US Age-adjusted Rate']:\n",
    "#    drug_deaths[col] = drug_deaths[col].astype('float', errors='ignore')\n",
    "for col in ['Year', 'Deaths', 'Age-adjusted Rate', 'US Age-adjusted Rate']:\n",
    "    drug_deaths[col]=drug_deaths[col].astype('float')\n",
    "drug_deaths.to_csv('drug_deaths.csv')"
   ]
  },
  {
   "cell_type": "code",
   "execution_count": null,
   "metadata": {
    "collapsed": false
   },
   "outputs": [],
   "source": []
  },
  {
   "cell_type": "code",
   "execution_count": 11,
   "metadata": {
    "collapsed": false
   },
   "outputs": [
    {
     "data": {
      "text/html": [
       "<div>\n",
       "<table border=\"1\" class=\"dataframe\">\n",
       "  <thead>\n",
       "    <tr style=\"text-align: right;\">\n",
       "      <th></th>\n",
       "      <th>State</th>\n",
       "      <th>Age-adjusted Rate</th>\n",
       "    </tr>\n",
       "  </thead>\n",
       "  <tbody>\n",
       "    <tr>\n",
       "      <th>538</th>\n",
       "      <td>New Mexico</td>\n",
       "      <td>26.7</td>\n",
       "    </tr>\n",
       "    <tr>\n",
       "      <th>2661</th>\n",
       "      <td>West Virginia</td>\n",
       "      <td>25.7</td>\n",
       "    </tr>\n",
       "    <tr>\n",
       "      <th>487</th>\n",
       "      <td>Nevada</td>\n",
       "      <td>19.2</td>\n",
       "    </tr>\n",
       "    <tr>\n",
       "      <th>2593</th>\n",
       "      <td>Utah</td>\n",
       "      <td>19.0</td>\n",
       "    </tr>\n",
       "    <tr>\n",
       "      <th>26</th>\n",
       "      <td>Alaska</td>\n",
       "      <td>18.1</td>\n",
       "    </tr>\n",
       "    <tr>\n",
       "      <th>300</th>\n",
       "      <td>Kentucky</td>\n",
       "      <td>17.9</td>\n",
       "    </tr>\n",
       "    <tr>\n",
       "      <th>674</th>\n",
       "      <td>Rhode Island</td>\n",
       "      <td>17.3</td>\n",
       "    </tr>\n",
       "    <tr>\n",
       "      <th>162</th>\n",
       "      <td>Florida</td>\n",
       "      <td>16.2</td>\n",
       "    </tr>\n",
       "    <tr>\n",
       "      <th>623</th>\n",
       "      <td>Oklahoma</td>\n",
       "      <td>15.6</td>\n",
       "    </tr>\n",
       "    <tr>\n",
       "      <th>606</th>\n",
       "      <td>Ohio</td>\n",
       "      <td>15.1</td>\n",
       "    </tr>\n",
       "  </tbody>\n",
       "</table>\n",
       "</div>"
      ],
      "text/plain": [
       "              State  Age-adjusted Rate\n",
       "538      New Mexico               26.7\n",
       "2661  West Virginia               25.7\n",
       "487          Nevada               19.2\n",
       "2593           Utah               19.0\n",
       "26           Alaska               18.1\n",
       "300        Kentucky               17.9\n",
       "674    Rhode Island               17.3\n",
       "162         Florida               16.2\n",
       "623        Oklahoma               15.6\n",
       "606            Ohio               15.1"
      ]
     },
     "execution_count": 11,
     "metadata": {},
     "output_type": "execute_result"
    }
   ],
   "source": [
    "# find the top 10 states by highest age-adjusted death rate as of 2015\n",
    "# death rate is the number of deaths per year per 100,000 people\n",
    "# age-adjusted death rates take into account differing aging distributions of states\n",
    "top_10 = data[data['Year']==2008].sort_values('Age-adjusted Rate', ascending=False).head(10)\n",
    "top_10[['State', 'Age-adjusted Rate']]"
   ]
  },
  {
   "cell_type": "code",
   "execution_count": 162,
   "metadata": {
    "collapsed": false
   },
   "outputs": [
    {
     "data": {
      "text/plain": [
       "<matplotlib.legend.Legend at 0x1172f3da0>"
      ]
     },
     "execution_count": 162,
     "metadata": {},
     "output_type": "execute_result"
    },
    {
     "data": {
      "image/png": "[encoded data removed]",
      "text/plain": [
       "<matplotlib.figure.Figure at 0x1172f32e8>"
      ]
     },
     "metadata": {},
     "output_type": "display_data"
    }
   ],
   "source": [
    "# create a basic plot to see the 10 states with highest age-adjusted annual death rates for drug poisoning\n",
    "fig, ax = plt.subplots()\n",
    "labels = []\n",
    "for state in top_10['State']:\n",
    "    data[data['State']==state].plot(kind='line', y='Age-adjusted Rate', x='Year', ax=ax, label=state)\n",
    "    labels.append(state)\n",
    "    \n",
    "ax.legend(labels=labels, loc=2, fontsize=8)\n"
   ]
  },
  {
   "cell_type": "code",
   "execution_count": 163,
   "metadata": {
    "collapsed": false
   },
   "outputs": [
    {
     "data": {
      "text/html": [
       "<div>\n",
       "<table border=\"1\" class=\"dataframe\">\n",
       "  <thead>\n",
       "    <tr style=\"text-align: right;\">\n",
       "      <th></th>\n",
       "      <th>Earliest</th>\n",
       "      <th>Latest</th>\n",
       "      <th>Difference</th>\n",
       "    </tr>\n",
       "  </thead>\n",
       "  <tbody>\n",
       "    <tr>\n",
       "      <th>West Virginia</th>\n",
       "      <td>4.1</td>\n",
       "      <td>41.5</td>\n",
       "      <td>37.4</td>\n",
       "    </tr>\n",
       "    <tr>\n",
       "      <th>New Hampshire</th>\n",
       "      <td>4.3</td>\n",
       "      <td>34.3</td>\n",
       "      <td>30</td>\n",
       "    </tr>\n",
       "    <tr>\n",
       "      <th>Ohio</th>\n",
       "      <td>4.2</td>\n",
       "      <td>29.9</td>\n",
       "      <td>25.7</td>\n",
       "    </tr>\n",
       "    <tr>\n",
       "      <th>Kentucky</th>\n",
       "      <td>4.9</td>\n",
       "      <td>29.9</td>\n",
       "      <td>25</td>\n",
       "    </tr>\n",
       "    <tr>\n",
       "      <th>Rhode Island</th>\n",
       "      <td>5.5</td>\n",
       "      <td>28.2</td>\n",
       "      <td>22.7</td>\n",
       "    </tr>\n",
       "    <tr>\n",
       "      <th>Pennsylvania</th>\n",
       "      <td>8.1</td>\n",
       "      <td>26.3</td>\n",
       "      <td>18.2</td>\n",
       "    </tr>\n",
       "    <tr>\n",
       "      <th>Massachusetts</th>\n",
       "      <td>7.5</td>\n",
       "      <td>25.7</td>\n",
       "      <td>18.2</td>\n",
       "    </tr>\n",
       "    <tr>\n",
       "      <th>Indiana</th>\n",
       "      <td>3.2</td>\n",
       "      <td>19.5</td>\n",
       "      <td>16.3</td>\n",
       "    </tr>\n",
       "    <tr>\n",
       "      <th>Tennessee</th>\n",
       "      <td>6.1</td>\n",
       "      <td>22.2</td>\n",
       "      <td>16.1</td>\n",
       "    </tr>\n",
       "    <tr>\n",
       "      <th>Maine</th>\n",
       "      <td>5.3</td>\n",
       "      <td>21.2</td>\n",
       "      <td>15.9</td>\n",
       "    </tr>\n",
       "  </tbody>\n",
       "</table>\n",
       "</div>"
      ],
      "text/plain": [
       "              Earliest Latest Difference\n",
       "West Virginia      4.1   41.5       37.4\n",
       "New Hampshire      4.3   34.3         30\n",
       "Ohio               4.2   29.9       25.7\n",
       "Kentucky           4.9   29.9         25\n",
       "Rhode Island       5.5   28.2       22.7\n",
       "Pennsylvania       8.1   26.3       18.2\n",
       "Massachusetts      7.5   25.7       18.2\n",
       "Indiana            3.2   19.5       16.3\n",
       "Tennessee          6.1   22.2       16.1\n",
       "Maine              5.3   21.2       15.9"
      ]
     },
     "execution_count": 163,
     "metadata": {},
     "output_type": "execute_result"
    }
   ],
   "source": [
    "# what about the 10 states with the largest change in age-adjusted death rate over the time period available?\n",
    "largest_change = pd.DataFrame(index=data['State'].unique(), columns=['Earliest', 'Latest', 'Difference'])\n",
    "\n",
    "\n",
    "for state in data['State'].unique():\n",
    "    largest_change.loc[state, ['Earliest']] = data[data['State']==state].sort_values('Year')['Age-adjusted Rate'].iloc[0]\n",
    "    largest_change.loc[state, ['Latest']] = data[data['State']==state].sort_values('Year')['Age-adjusted Rate'].iloc[-1]\n",
    "    #largest_change.loc[state, ['Difference']] = largest_change['Latest'] - largest_change['Earliest']\n",
    "\n",
    "\n",
    "largest_change['Difference'] = largest_change['Latest'] - largest_change['Earliest']\n",
    "top_10_change = largest_change.sort_values('Difference', ascending=False).head(10)\n",
    "top_10_change"
   ]
  },
  {
   "cell_type": "code",
   "execution_count": 167,
   "metadata": {
    "collapsed": false
   },
   "outputs": [
    {
     "data": {
      "text/plain": [
       "<matplotlib.legend.Legend at 0x117da9358>"
      ]
     },
     "execution_count": 167,
     "metadata": {},
     "output_type": "execute_result"
    },
    {
     "data": {
      "image/png": "[encoded data removed]",
      "text/plain": [
       "<matplotlib.figure.Figure at 0x117da95c0>"
      ]
     },
     "metadata": {},
     "output_type": "display_data"
    }
   ],
   "source": [
    "fig, ax = plt.subplots()\n",
    "labels = []\n",
    "for state in top_10_change.index.values:\n",
    "    data[data['State']==state].plot(kind='line', y='Age-adjusted Rate', x='Year', ax=ax, label=state)\n",
    "    labels.append(state)\n",
    "    \n",
    "ax.legend(labels=labels, loc=2, fontsize=8)"
   ]
  },
  {
   "cell_type": "code",
   "execution_count": 168,
   "metadata": {
    "collapsed": false
   },
   "outputs": [
    {
     "data": {
      "text/html": [
       "<div>\n",
       "<table border=\"1\" class=\"dataframe\">\n",
       "  <thead>\n",
       "    <tr style=\"text-align: right;\">\n",
       "      <th></th>\n",
       "      <th>Year</th>\n",
       "      <th>Gender Code</th>\n",
       "      <th>Deaths</th>\n",
       "      <th>Population</th>\n",
       "      <th>Crude Rate</th>\n",
       "      <th>Age Adjusted Rate</th>\n",
       "      <th>% of Total Deaths</th>\n",
       "    </tr>\n",
       "  </thead>\n",
       "  <tbody>\n",
       "    <tr>\n",
       "      <th>0</th>\n",
       "      <td>1999</td>\n",
       "      <td>F</td>\n",
       "      <td>28.0</td>\n",
       "      <td>931809.0</td>\n",
       "      <td>3.0</td>\n",
       "      <td>3.0</td>\n",
       "      <td>0.4%</td>\n",
       "    </tr>\n",
       "    <tr>\n",
       "      <th>1</th>\n",
       "      <td>1999</td>\n",
       "      <td>M</td>\n",
       "      <td>52.0</td>\n",
       "      <td>879990.0</td>\n",
       "      <td>5.9</td>\n",
       "      <td>5.9</td>\n",
       "      <td>0.8%</td>\n",
       "    </tr>\n",
       "    <tr>\n",
       "      <th>2</th>\n",
       "      <td>1999</td>\n",
       "      <td>T</td>\n",
       "      <td>80.0</td>\n",
       "      <td>1811799.0</td>\n",
       "      <td>4.4</td>\n",
       "      <td>4.4</td>\n",
       "      <td>1.2%</td>\n",
       "    </tr>\n",
       "    <tr>\n",
       "      <th>3</th>\n",
       "      <td>2000</td>\n",
       "      <td>F</td>\n",
       "      <td>46.0</td>\n",
       "      <td>929174.0</td>\n",
       "      <td>5.0</td>\n",
       "      <td>4.8</td>\n",
       "      <td>0.7%</td>\n",
       "    </tr>\n",
       "    <tr>\n",
       "      <th>4</th>\n",
       "      <td>2000</td>\n",
       "      <td>M</td>\n",
       "      <td>76.0</td>\n",
       "      <td>879170.0</td>\n",
       "      <td>8.6</td>\n",
       "      <td>8.7</td>\n",
       "      <td>1.1%</td>\n",
       "    </tr>\n",
       "  </tbody>\n",
       "</table>\n",
       "</div>"
      ],
      "text/plain": [
       "   Year Gender Code  Deaths  Population  Crude Rate  Age Adjusted Rate  \\\n",
       "0  1999           F    28.0    931809.0         3.0                3.0   \n",
       "1  1999           M    52.0    879990.0         5.9                5.9   \n",
       "2  1999           T    80.0   1811799.0         4.4                4.4   \n",
       "3  2000           F    46.0    929174.0         5.0                4.8   \n",
       "4  2000           M    76.0    879170.0         8.6                8.7   \n",
       "\n",
       "  % of Total Deaths  \n",
       "0              0.4%  \n",
       "1              0.8%  \n",
       "2              1.2%  \n",
       "3              0.7%  \n",
       "4              1.1%  "
      ]
     },
     "execution_count": 168,
     "metadata": {},
     "output_type": "execute_result"
    }
   ],
   "source": [
    "# read in query results from CDC WONDER for deaths with drug-induced cause, grouped by year and sex, for West Virginia\n",
    "wv_gender = pd.read_csv('wv_gender.txt', sep='\\t')\n",
    "\n",
    "# clean up the dataframe a bit\n",
    "wv_gender.loc[pd.isnull(wv_gender['Gender Code'])==True, 'Gender Code'] = 'T'\n",
    "wv_gender = wv_gender.drop(['Notes', \"Year Code\", \"Gender\"], axis=1)\n",
    "wv_gender = wv_gender.loc[pd.notnull(wv_gender['Year'])]\n",
    "wv_gender['Year'] = wv_gender['Year'].astype(float).astype(int)\n",
    "wv_gender.head()"
   ]
  },
  {
   "cell_type": "code",
   "execution_count": 95,
   "metadata": {
    "collapsed": false
   },
   "outputs": [
    {
     "data": {
      "text/plain": [
       "<matplotlib.legend.Legend at 0x117553e10>"
      ]
     },
     "execution_count": 95,
     "metadata": {},
     "output_type": "execute_result"
    },
    {
     "data": {
      "image/png": "[encoded data removed]",
      "text/plain": [
       "<matplotlib.figure.Figure at 0x117553be0>"
      ]
     },
     "metadata": {},
     "output_type": "display_data"
    }
   ],
   "source": [
    "fig, ax = plt.subplots()\n",
    "labels = []\n",
    "for code in wv_gender['Gender Code'].unique():\n",
    "    wv_gender[wv_gender['Gender Code']==code].plot(kind='line', x=\"Year\", y =\"Age Adjusted Rate\", ax=ax)\n",
    "    labels.append(code)\n",
    "    \n",
    "ax.legend(labels=labels, loc=2, fontsize=8)"
   ]
  },
  {
   "cell_type": "code",
   "execution_count": 120,
   "metadata": {
    "collapsed": false
   },
   "outputs": [
    {
     "data": {
      "text/html": [
       "<div>\n",
       "<table border=\"1\" class=\"dataframe\">\n",
       "  <thead>\n",
       "    <tr style=\"text-align: right;\">\n",
       "      <th></th>\n",
       "      <th>Notes</th>\n",
       "      <th>Year</th>\n",
       "      <th>Year Code</th>\n",
       "      <th>Month</th>\n",
       "      <th>Month Code</th>\n",
       "      <th>Deaths</th>\n",
       "      <th>Population</th>\n",
       "      <th>Crude Rate</th>\n",
       "      <th>Age Adjusted Rate</th>\n",
       "      <th>% of Total Deaths</th>\n",
       "    </tr>\n",
       "  </thead>\n",
       "  <tbody>\n",
       "    <tr>\n",
       "      <th>0</th>\n",
       "      <td>NaN</td>\n",
       "      <td>1999.0</td>\n",
       "      <td>1999.0</td>\n",
       "      <td>Oct., 1999</td>\n",
       "      <td>1999/10</td>\n",
       "      <td>10.0</td>\n",
       "      <td>Not Applicable</td>\n",
       "      <td>Not Applicable</td>\n",
       "      <td>Not Applicable</td>\n",
       "      <td>0.1%</td>\n",
       "    </tr>\n",
       "    <tr>\n",
       "      <th>1</th>\n",
       "      <td>Total</td>\n",
       "      <td>1999.0</td>\n",
       "      <td>1999.0</td>\n",
       "      <td>NaN</td>\n",
       "      <td>NaN</td>\n",
       "      <td>80.0</td>\n",
       "      <td>Not Applicable</td>\n",
       "      <td>Not Applicable</td>\n",
       "      <td>Not Applicable</td>\n",
       "      <td>1.2%</td>\n",
       "    </tr>\n",
       "    <tr>\n",
       "      <th>2</th>\n",
       "      <td>NaN</td>\n",
       "      <td>2000.0</td>\n",
       "      <td>2000.0</td>\n",
       "      <td>Feb., 2000</td>\n",
       "      <td>2000/02</td>\n",
       "      <td>11.0</td>\n",
       "      <td>Not Applicable</td>\n",
       "      <td>Not Applicable</td>\n",
       "      <td>Not Applicable</td>\n",
       "      <td>0.2%</td>\n",
       "    </tr>\n",
       "    <tr>\n",
       "      <th>3</th>\n",
       "      <td>NaN</td>\n",
       "      <td>2000.0</td>\n",
       "      <td>2000.0</td>\n",
       "      <td>Aug., 2000</td>\n",
       "      <td>2000/08</td>\n",
       "      <td>23.0</td>\n",
       "      <td>Not Applicable</td>\n",
       "      <td>Not Applicable</td>\n",
       "      <td>Not Applicable</td>\n",
       "      <td>0.3%</td>\n",
       "    </tr>\n",
       "    <tr>\n",
       "      <th>4</th>\n",
       "      <td>NaN</td>\n",
       "      <td>2000.0</td>\n",
       "      <td>2000.0</td>\n",
       "      <td>Sep., 2000</td>\n",
       "      <td>2000/09</td>\n",
       "      <td>14.0</td>\n",
       "      <td>Not Applicable</td>\n",
       "      <td>Not Applicable</td>\n",
       "      <td>Not Applicable</td>\n",
       "      <td>0.2%</td>\n",
       "    </tr>\n",
       "  </tbody>\n",
       "</table>\n",
       "</div>"
      ],
      "text/plain": [
       "   Notes    Year  Year Code       Month Month Code  Deaths      Population  \\\n",
       "0    NaN  1999.0     1999.0  Oct., 1999    1999/10    10.0  Not Applicable   \n",
       "1  Total  1999.0     1999.0         NaN        NaN    80.0  Not Applicable   \n",
       "2    NaN  2000.0     2000.0  Feb., 2000    2000/02    11.0  Not Applicable   \n",
       "3    NaN  2000.0     2000.0  Aug., 2000    2000/08    23.0  Not Applicable   \n",
       "4    NaN  2000.0     2000.0  Sep., 2000    2000/09    14.0  Not Applicable   \n",
       "\n",
       "       Crude Rate Age Adjusted Rate % of Total Deaths  \n",
       "0  Not Applicable    Not Applicable              0.1%  \n",
       "1  Not Applicable    Not Applicable              1.2%  \n",
       "2  Not Applicable    Not Applicable              0.2%  \n",
       "3  Not Applicable    Not Applicable              0.3%  \n",
       "4  Not Applicable    Not Applicable              0.2%  "
      ]
     },
     "execution_count": 120,
     "metadata": {},
     "output_type": "execute_result"
    }
   ],
   "source": [
    "wv_month = pd.read_csv('wv_month.txt', sep='\\t')\n",
    "wv_month.head()"
   ]
  },
  {
   "cell_type": "code",
   "execution_count": 121,
   "metadata": {
    "collapsed": false
   },
   "outputs": [
    {
     "data": {
      "text/html": [
       "<div>\n",
       "<table border=\"1\" class=\"dataframe\">\n",
       "  <thead>\n",
       "    <tr style=\"text-align: right;\">\n",
       "      <th></th>\n",
       "      <th>Year</th>\n",
       "      <th>Month</th>\n",
       "      <th>Deaths</th>\n",
       "      <th>% of Total Deaths</th>\n",
       "    </tr>\n",
       "  </thead>\n",
       "  <tbody>\n",
       "    <tr>\n",
       "      <th>0</th>\n",
       "      <td>1999</td>\n",
       "      <td>10</td>\n",
       "      <td>10.0</td>\n",
       "      <td>0.1</td>\n",
       "    </tr>\n",
       "    <tr>\n",
       "      <th>2</th>\n",
       "      <td>2000</td>\n",
       "      <td>02</td>\n",
       "      <td>11.0</td>\n",
       "      <td>0.2</td>\n",
       "    </tr>\n",
       "    <tr>\n",
       "      <th>3</th>\n",
       "      <td>2000</td>\n",
       "      <td>08</td>\n",
       "      <td>23.0</td>\n",
       "      <td>0.3</td>\n",
       "    </tr>\n",
       "    <tr>\n",
       "      <th>4</th>\n",
       "      <td>2000</td>\n",
       "      <td>09</td>\n",
       "      <td>14.0</td>\n",
       "      <td>0.2</td>\n",
       "    </tr>\n",
       "    <tr>\n",
       "      <th>5</th>\n",
       "      <td>2000</td>\n",
       "      <td>11</td>\n",
       "      <td>12.0</td>\n",
       "      <td>0.2</td>\n",
       "    </tr>\n",
       "  </tbody>\n",
       "</table>\n",
       "</div>"
      ],
      "text/plain": [
       "   Year Month  Deaths  % of Total Deaths\n",
       "0  1999    10    10.0                0.1\n",
       "2  2000    02    11.0                0.2\n",
       "3  2000    08    23.0                0.3\n",
       "4  2000    09    14.0                0.2\n",
       "5  2000    11    12.0                0.2"
      ]
     },
     "execution_count": 121,
     "metadata": {},
     "output_type": "execute_result"
    }
   ],
   "source": [
    "wv_month = wv_month.loc[pd.notnull(wv_month['Year'])]\n",
    "wv_month['Month'] = wv_month['Month Code'].str[-2:]\n",
    "wv_month['Year'] = wv_month['Year'].astype(float).astype(int)\n",
    "wv_month['% of Total Deaths'] = wv_month['% of Total Deaths'].str[0:-1]\n",
    "wv_month['% of Total Deaths'] = wv_month['% of Total Deaths'].astype(float)\n",
    "wv_month=wv_month.drop(['Notes', 'Year Code', 'Month Code', 'Population', 'Crude Rate', 'Age Adjusted Rate'], axis=1)\n",
    "wv_monthly_only = wv_month.loc[pd.notnull(wv_month['Month'])]\n",
    "wv_monthly_only.head()"
   ]
  },
  {
   "cell_type": "code",
   "execution_count": 127,
   "metadata": {
    "collapsed": false
   },
   "outputs": [
    {
     "data": {
      "text/plain": [
       "<matplotlib.legend.Legend at 0x118a37c50>"
      ]
     },
     "execution_count": 127,
     "metadata": {},
     "output_type": "execute_result"
    },
    {
     "data": {
      "image/png": "[encoded data removed]",
      "text/plain": [
       "<matplotlib.figure.Figure at 0x116b16a90>"
      ]
     },
     "metadata": {},
     "output_type": "display_data"
    }
   ],
   "source": [
    "fig, ax = plt.subplots()\n",
    "#for year in wv_monthly_only['Year'].unique():\n",
    "years = [2011, 2012, 2013, 2014, 2015]\n",
    "for year in years:\n",
    "    wv_monthly_only[wv_monthly_only['Year']==year].plot(kind='line', y='Deaths', x='Month', ax=ax)\n",
    "    \n",
    "ax.legend(labels=years, loc=2, fontsize=8)"
   ]
  },
  {
   "cell_type": "code",
   "execution_count": 130,
   "metadata": {
    "collapsed": false
   },
   "outputs": [
    {
     "data": {
      "text/html": [
       "<div>\n",
       "<table border=\"1\" class=\"dataframe\">\n",
       "  <thead>\n",
       "    <tr style=\"text-align: right;\">\n",
       "      <th></th>\n",
       "      <th>Notes</th>\n",
       "      <th>State</th>\n",
       "      <th>State Code</th>\n",
       "      <th>Year</th>\n",
       "      <th>Year Code</th>\n",
       "      <th>Month</th>\n",
       "      <th>Month Code</th>\n",
       "      <th>Deaths</th>\n",
       "      <th>Population</th>\n",
       "      <th>Crude Rate</th>\n",
       "      <th>Age Adjusted Rate</th>\n",
       "      <th>% of Total Deaths</th>\n",
       "    </tr>\n",
       "  </thead>\n",
       "  <tbody>\n",
       "    <tr>\n",
       "      <th>0</th>\n",
       "      <td>NaN</td>\n",
       "      <td>Alabama</td>\n",
       "      <td>1.0</td>\n",
       "      <td>1999.0</td>\n",
       "      <td>1999.0</td>\n",
       "      <td>Jan., 1999</td>\n",
       "      <td>1999/01</td>\n",
       "      <td>19.0</td>\n",
       "      <td>Not Applicable</td>\n",
       "      <td>Not Applicable</td>\n",
       "      <td>Not Applicable</td>\n",
       "      <td>0.0%</td>\n",
       "    </tr>\n",
       "    <tr>\n",
       "      <th>1</th>\n",
       "      <td>NaN</td>\n",
       "      <td>Alabama</td>\n",
       "      <td>1.0</td>\n",
       "      <td>1999.0</td>\n",
       "      <td>1999.0</td>\n",
       "      <td>Feb., 1999</td>\n",
       "      <td>1999/02</td>\n",
       "      <td>13.0</td>\n",
       "      <td>Not Applicable</td>\n",
       "      <td>Not Applicable</td>\n",
       "      <td>Not Applicable</td>\n",
       "      <td>0.0%</td>\n",
       "    </tr>\n",
       "    <tr>\n",
       "      <th>2</th>\n",
       "      <td>NaN</td>\n",
       "      <td>Alabama</td>\n",
       "      <td>1.0</td>\n",
       "      <td>1999.0</td>\n",
       "      <td>1999.0</td>\n",
       "      <td>Mar., 1999</td>\n",
       "      <td>1999/03</td>\n",
       "      <td>10.0</td>\n",
       "      <td>Not Applicable</td>\n",
       "      <td>Not Applicable</td>\n",
       "      <td>Not Applicable</td>\n",
       "      <td>0.0%</td>\n",
       "    </tr>\n",
       "    <tr>\n",
       "      <th>3</th>\n",
       "      <td>NaN</td>\n",
       "      <td>Alabama</td>\n",
       "      <td>1.0</td>\n",
       "      <td>1999.0</td>\n",
       "      <td>1999.0</td>\n",
       "      <td>Apr., 1999</td>\n",
       "      <td>1999/04</td>\n",
       "      <td>18.0</td>\n",
       "      <td>Not Applicable</td>\n",
       "      <td>Not Applicable</td>\n",
       "      <td>Not Applicable</td>\n",
       "      <td>0.0%</td>\n",
       "    </tr>\n",
       "    <tr>\n",
       "      <th>4</th>\n",
       "      <td>NaN</td>\n",
       "      <td>Alabama</td>\n",
       "      <td>1.0</td>\n",
       "      <td>1999.0</td>\n",
       "      <td>1999.0</td>\n",
       "      <td>May, 1999</td>\n",
       "      <td>1999/05</td>\n",
       "      <td>18.0</td>\n",
       "      <td>Not Applicable</td>\n",
       "      <td>Not Applicable</td>\n",
       "      <td>Not Applicable</td>\n",
       "      <td>0.0%</td>\n",
       "    </tr>\n",
       "  </tbody>\n",
       "</table>\n",
       "</div>"
      ],
      "text/plain": [
       "  Notes    State  State Code    Year  Year Code       Month Month Code  \\\n",
       "0   NaN  Alabama         1.0  1999.0     1999.0  Jan., 1999    1999/01   \n",
       "1   NaN  Alabama         1.0  1999.0     1999.0  Feb., 1999    1999/02   \n",
       "2   NaN  Alabama         1.0  1999.0     1999.0  Mar., 1999    1999/03   \n",
       "3   NaN  Alabama         1.0  1999.0     1999.0  Apr., 1999    1999/04   \n",
       "4   NaN  Alabama         1.0  1999.0     1999.0   May, 1999    1999/05   \n",
       "\n",
       "   Deaths      Population      Crude Rate Age Adjusted Rate % of Total Deaths  \n",
       "0    19.0  Not Applicable  Not Applicable    Not Applicable              0.0%  \n",
       "1    13.0  Not Applicable  Not Applicable    Not Applicable              0.0%  \n",
       "2    10.0  Not Applicable  Not Applicable    Not Applicable              0.0%  \n",
       "3    18.0  Not Applicable  Not Applicable    Not Applicable              0.0%  \n",
       "4    18.0  Not Applicable  Not Applicable    Not Applicable              0.0%  "
      ]
     },
     "execution_count": 130,
     "metadata": {},
     "output_type": "execute_result"
    }
   ],
   "source": [
    "all_monthly = pd.read_csv('allstates_month.txt', sep=\"\\t\")\n",
    "all_monthly.head()"
   ]
  },
  {
   "cell_type": "code",
   "execution_count": 129,
   "metadata": {
    "collapsed": false
   },
   "outputs": [
    {
     "data": {
      "text/html": [
       "<div>\n",
       "<table border=\"1\" class=\"dataframe\">\n",
       "  <thead>\n",
       "    <tr style=\"text-align: right;\">\n",
       "      <th></th>\n",
       "      <th>State</th>\n",
       "      <th>State Code</th>\n",
       "      <th>Year</th>\n",
       "      <th>Month</th>\n",
       "      <th>Deaths</th>\n",
       "      <th>% of Total Deaths</th>\n",
       "    </tr>\n",
       "  </thead>\n",
       "  <tbody>\n",
       "    <tr>\n",
       "      <th>0</th>\n",
       "      <td>Alabama</td>\n",
       "      <td>1.0</td>\n",
       "      <td>1999</td>\n",
       "      <td>01</td>\n",
       "      <td>19.0</td>\n",
       "      <td>0.0</td>\n",
       "    </tr>\n",
       "    <tr>\n",
       "      <th>1</th>\n",
       "      <td>Alabama</td>\n",
       "      <td>1.0</td>\n",
       "      <td>1999</td>\n",
       "      <td>02</td>\n",
       "      <td>13.0</td>\n",
       "      <td>0.0</td>\n",
       "    </tr>\n",
       "    <tr>\n",
       "      <th>2</th>\n",
       "      <td>Alabama</td>\n",
       "      <td>1.0</td>\n",
       "      <td>1999</td>\n",
       "      <td>03</td>\n",
       "      <td>10.0</td>\n",
       "      <td>0.0</td>\n",
       "    </tr>\n",
       "    <tr>\n",
       "      <th>3</th>\n",
       "      <td>Alabama</td>\n",
       "      <td>1.0</td>\n",
       "      <td>1999</td>\n",
       "      <td>04</td>\n",
       "      <td>18.0</td>\n",
       "      <td>0.0</td>\n",
       "    </tr>\n",
       "    <tr>\n",
       "      <th>4</th>\n",
       "      <td>Alabama</td>\n",
       "      <td>1.0</td>\n",
       "      <td>1999</td>\n",
       "      <td>05</td>\n",
       "      <td>18.0</td>\n",
       "      <td>0.0</td>\n",
       "    </tr>\n",
       "  </tbody>\n",
       "</table>\n",
       "</div>"
      ],
      "text/plain": [
       "     State  State Code  Year Month  Deaths  % of Total Deaths\n",
       "0  Alabama         1.0  1999    01    19.0                0.0\n",
       "1  Alabama         1.0  1999    02    13.0                0.0\n",
       "2  Alabama         1.0  1999    03    10.0                0.0\n",
       "3  Alabama         1.0  1999    04    18.0                0.0\n",
       "4  Alabama         1.0  1999    05    18.0                0.0"
      ]
     },
     "execution_count": 129,
     "metadata": {},
     "output_type": "execute_result"
    }
   ],
   "source": [
    "all_monthly = all_monthly.loc[pd.notnull(all_monthly['Year'])]\n",
    "all_monthly['Month'] = all_monthly['Month Code'].str[-2:]\n",
    "all_monthly['Year'] = all_monthly['Year'].astype(float).astype(int)\n",
    "all_monthly['% of Total Deaths'] = all_monthly['% of Total Deaths'].str[0:-1]\n",
    "all_monthly['% of Total Deaths'] = all_monthly['% of Total Deaths'].astype(float)\n",
    "all_monthly=all_monthly.drop(['Notes', 'Year Code', 'Month Code', 'Population', 'Crude Rate', 'Age Adjusted Rate'], axis=1)\n",
    "all_monthly_only = all_monthly.loc[pd.notnull(all_monthly['Month'])]\n",
    "all_monthly_only.head()"
   ]
  },
  {
   "cell_type": "code",
   "execution_count": 154,
   "metadata": {
    "collapsed": false
   },
   "outputs": [
    {
     "data": {
      "image/png": "[encoded data removed]",
      "text/plain": [
       "<matplotlib.figure.Figure at 0x118068400>"
      ]
     },
     "metadata": {},
     "output_type": "display_data"
    }
   ],
   "source": [
    "years = [2014, 2015]\n",
    "fig, (ax1, ax2) = plt.subplots(2, sharex=True, sharey=True)\n",
    "df2015 = all_monthly_only[all_monthly_only['Year']==2015]\n",
    "df2014 = all_monthly_only[all_monthly_only['Year']==2014]\n",
    "for state in top_10['State']:\n",
    "    df2015[df2015['State']==state].plot(kind='line', y='Deaths', x='Month', ax=ax2)\n",
    "    df2014[df2014['State']==state].plot(kind='line', y='Deaths', x='Month', ax=ax1)\n",
    "ax1.set_title('2014')\n",
    "ax2.set_title('2015')\n",
    "ax1.legend().set_visible(False)\n",
    "ax2.legend().set_visible(False)\n",
    "\n",
    "    \n",
    "#ax.legend(labels=labels, loc=2, fontsize=8)"
   ]
  },
  {
   "cell_type": "code",
   "execution_count": 275,
   "metadata": {
    "collapsed": false
   },
   "outputs": [
    {
     "data": {
      "text/html": [
       "<div>\n",
       "<table border=\"1\" class=\"dataframe\">\n",
       "  <thead>\n",
       "    <tr style=\"text-align: right;\">\n",
       "      <th></th>\n",
       "      <th>Year</th>\n",
       "      <th>ICD Chapter</th>\n",
       "      <th>ICD Chapter Code</th>\n",
       "      <th>Deaths</th>\n",
       "      <th>Population</th>\n",
       "      <th>Age Adjusted Rate</th>\n",
       "    </tr>\n",
       "  </thead>\n",
       "  <tbody>\n",
       "    <tr>\n",
       "      <th>0</th>\n",
       "      <td>1999</td>\n",
       "      <td>Certain infectious and parasitic diseases</td>\n",
       "      <td>A00-B99</td>\n",
       "      <td>382.0</td>\n",
       "      <td>1811799.0</td>\n",
       "      <td>18.5</td>\n",
       "    </tr>\n",
       "    <tr>\n",
       "      <th>1</th>\n",
       "      <td>1999</td>\n",
       "      <td>Neoplasms</td>\n",
       "      <td>C00-D48</td>\n",
       "      <td>4865.0</td>\n",
       "      <td>1811799.0</td>\n",
       "      <td>230.0</td>\n",
       "    </tr>\n",
       "    <tr>\n",
       "      <th>2</th>\n",
       "      <td>1999</td>\n",
       "      <td>Diseases of the blood and blood-forming organs...</td>\n",
       "      <td>D50-D89</td>\n",
       "      <td>72.0</td>\n",
       "      <td>1811799.0</td>\n",
       "      <td>3.5</td>\n",
       "    </tr>\n",
       "    <tr>\n",
       "      <th>3</th>\n",
       "      <td>1999</td>\n",
       "      <td>Endocrine, nutritional and metabolic diseases</td>\n",
       "      <td>E00-E88</td>\n",
       "      <td>1001.0</td>\n",
       "      <td>1811799.0</td>\n",
       "      <td>47.8</td>\n",
       "    </tr>\n",
       "    <tr>\n",
       "      <th>4</th>\n",
       "      <td>1999</td>\n",
       "      <td>Mental and behavioural disorders</td>\n",
       "      <td>F01-F99</td>\n",
       "      <td>325.0</td>\n",
       "      <td>1811799.0</td>\n",
       "      <td>15.9</td>\n",
       "    </tr>\n",
       "    <tr>\n",
       "      <th>5</th>\n",
       "      <td>1999</td>\n",
       "      <td>Diseases of the nervous system</td>\n",
       "      <td>G00-G98</td>\n",
       "      <td>615.0</td>\n",
       "      <td>1811799.0</td>\n",
       "      <td>29.8</td>\n",
       "    </tr>\n",
       "    <tr>\n",
       "      <th>6</th>\n",
       "      <td>1999</td>\n",
       "      <td>Diseases of the circulatory system</td>\n",
       "      <td>I00-I99</td>\n",
       "      <td>8667.0</td>\n",
       "      <td>1811799.0</td>\n",
       "      <td>413.6</td>\n",
       "    </tr>\n",
       "    <tr>\n",
       "      <th>7</th>\n",
       "      <td>1999</td>\n",
       "      <td>Diseases of the respiratory system</td>\n",
       "      <td>J00-J98</td>\n",
       "      <td>2234.0</td>\n",
       "      <td>1811799.0</td>\n",
       "      <td>105.6</td>\n",
       "    </tr>\n",
       "    <tr>\n",
       "      <th>8</th>\n",
       "      <td>1999</td>\n",
       "      <td>Diseases of the digestive system</td>\n",
       "      <td>K00-K92</td>\n",
       "      <td>742.0</td>\n",
       "      <td>1811799.0</td>\n",
       "      <td>35.8</td>\n",
       "    </tr>\n",
       "    <tr>\n",
       "      <th>9</th>\n",
       "      <td>1999</td>\n",
       "      <td>Diseases of the skin and subcutaneous tissue</td>\n",
       "      <td>L00-L98</td>\n",
       "      <td>40.0</td>\n",
       "      <td>1811799.0</td>\n",
       "      <td>1.9</td>\n",
       "    </tr>\n",
       "    <tr>\n",
       "      <th>10</th>\n",
       "      <td>1999</td>\n",
       "      <td>Diseases of the musculoskeletal system and con...</td>\n",
       "      <td>M00-M99</td>\n",
       "      <td>95.0</td>\n",
       "      <td>1811799.0</td>\n",
       "      <td>4.5</td>\n",
       "    </tr>\n",
       "    <tr>\n",
       "      <th>11</th>\n",
       "      <td>1999</td>\n",
       "      <td>Diseases of the genitourinary system</td>\n",
       "      <td>N00-N98</td>\n",
       "      <td>492.0</td>\n",
       "      <td>1811799.0</td>\n",
       "      <td>23.4</td>\n",
       "    </tr>\n",
       "    <tr>\n",
       "      <th>12</th>\n",
       "      <td>1999</td>\n",
       "      <td>Certain conditions originating in the perinata...</td>\n",
       "      <td>P00-P96</td>\n",
       "      <td>73.0</td>\n",
       "      <td>1811799.0</td>\n",
       "      <td>5.0</td>\n",
       "    </tr>\n",
       "    <tr>\n",
       "      <th>13</th>\n",
       "      <td>1999</td>\n",
       "      <td>Congenital malformations, deformations and chr...</td>\n",
       "      <td>Q00-Q99</td>\n",
       "      <td>83.0</td>\n",
       "      <td>1811799.0</td>\n",
       "      <td>4.9</td>\n",
       "    </tr>\n",
       "    <tr>\n",
       "      <th>14</th>\n",
       "      <td>1999</td>\n",
       "      <td>Symptoms, signs and abnormal clinical and labo...</td>\n",
       "      <td>R00-R99</td>\n",
       "      <td>170.0</td>\n",
       "      <td>1811799.0</td>\n",
       "      <td>8.9</td>\n",
       "    </tr>\n",
       "    <tr>\n",
       "      <th>15</th>\n",
       "      <td>1999</td>\n",
       "      <td>External causes of morbidity and mortality</td>\n",
       "      <td>V01-Y89</td>\n",
       "      <td>1189.0</td>\n",
       "      <td>1811799.0</td>\n",
       "      <td>62.9</td>\n",
       "    </tr>\n",
       "    <tr>\n",
       "      <th>17</th>\n",
       "      <td>2000</td>\n",
       "      <td>Certain infectious and parasitic diseases</td>\n",
       "      <td>A00-B99</td>\n",
       "      <td>427.0</td>\n",
       "      <td>1808344.0</td>\n",
       "      <td>20.6</td>\n",
       "    </tr>\n",
       "    <tr>\n",
       "      <th>18</th>\n",
       "      <td>2000</td>\n",
       "      <td>Neoplasms</td>\n",
       "      <td>C00-D48</td>\n",
       "      <td>4884.0</td>\n",
       "      <td>1808344.0</td>\n",
       "      <td>230.1</td>\n",
       "    </tr>\n",
       "    <tr>\n",
       "      <th>19</th>\n",
       "      <td>2000</td>\n",
       "      <td>Diseases of the blood and blood-forming organs...</td>\n",
       "      <td>D50-D89</td>\n",
       "      <td>78.0</td>\n",
       "      <td>1808344.0</td>\n",
       "      <td>3.7</td>\n",
       "    </tr>\n",
       "    <tr>\n",
       "      <th>20</th>\n",
       "      <td>2000</td>\n",
       "      <td>Endocrine, nutritional and metabolic diseases</td>\n",
       "      <td>E00-E88</td>\n",
       "      <td>1029.0</td>\n",
       "      <td>1808344.0</td>\n",
       "      <td>49.0</td>\n",
       "    </tr>\n",
       "  </tbody>\n",
       "</table>\n",
       "</div>"
      ],
      "text/plain": [
       "    Year                                        ICD Chapter ICD Chapter Code  \\\n",
       "0   1999          Certain infectious and parasitic diseases          A00-B99   \n",
       "1   1999                                          Neoplasms          C00-D48   \n",
       "2   1999  Diseases of the blood and blood-forming organs...          D50-D89   \n",
       "3   1999      Endocrine, nutritional and metabolic diseases          E00-E88   \n",
       "4   1999                   Mental and behavioural disorders          F01-F99   \n",
       "5   1999                     Diseases of the nervous system          G00-G98   \n",
       "6   1999                 Diseases of the circulatory system          I00-I99   \n",
       "7   1999                 Diseases of the respiratory system          J00-J98   \n",
       "8   1999                   Diseases of the digestive system          K00-K92   \n",
       "9   1999       Diseases of the skin and subcutaneous tissue          L00-L98   \n",
       "10  1999  Diseases of the musculoskeletal system and con...          M00-M99   \n",
       "11  1999               Diseases of the genitourinary system          N00-N98   \n",
       "12  1999  Certain conditions originating in the perinata...          P00-P96   \n",
       "13  1999  Congenital malformations, deformations and chr...          Q00-Q99   \n",
       "14  1999  Symptoms, signs and abnormal clinical and labo...          R00-R99   \n",
       "15  1999         External causes of morbidity and mortality          V01-Y89   \n",
       "17  2000          Certain infectious and parasitic diseases          A00-B99   \n",
       "18  2000                                          Neoplasms          C00-D48   \n",
       "19  2000  Diseases of the blood and blood-forming organs...          D50-D89   \n",
       "20  2000      Endocrine, nutritional and metabolic diseases          E00-E88   \n",
       "\n",
       "    Deaths  Population  Age Adjusted Rate  \n",
       "0    382.0   1811799.0               18.5  \n",
       "1   4865.0   1811799.0              230.0  \n",
       "2     72.0   1811799.0                3.5  \n",
       "3   1001.0   1811799.0               47.8  \n",
       "4    325.0   1811799.0               15.9  \n",
       "5    615.0   1811799.0               29.8  \n",
       "6   8667.0   1811799.0              413.6  \n",
       "7   2234.0   1811799.0              105.6  \n",
       "8    742.0   1811799.0               35.8  \n",
       "9     40.0   1811799.0                1.9  \n",
       "10    95.0   1811799.0                4.5  \n",
       "11   492.0   1811799.0               23.4  \n",
       "12    73.0   1811799.0                5.0  \n",
       "13    83.0   1811799.0                4.9  \n",
       "14   170.0   1811799.0                8.9  \n",
       "15  1189.0   1811799.0               62.9  \n",
       "17   427.0   1808344.0               20.6  \n",
       "18  4884.0   1808344.0              230.1  \n",
       "19    78.0   1808344.0                3.7  \n",
       "20  1029.0   1808344.0               49.0  "
      ]
     },
     "execution_count": 275,
     "metadata": {},
     "output_type": "execute_result"
    }
   ],
   "source": [
    "wv_icd_chapter = pd.read_csv('wv_icd-chapter.txt', sep='\\t')\n",
    "wv_icd_chapter = wv_icd_chapter.loc[pd.notnull(wv_icd_chapter['ICD Chapter'])]\n",
    "wv_icd_chapter= wv_icd_chapter.drop(['Notes', \"Year Code\", \"Crude Rate\", \"% of Total Deaths\"],axis=1)\n",
    "wv_icd_chapter['Year'] = wv_icd_chapter['Year'].astype(float).astype(int)\n",
    "wv_icd_chapter.head(20)"
   ]
  },
  {
   "cell_type": "code",
   "execution_count": 270,
   "metadata": {
    "collapsed": false
   },
   "outputs": [],
   "source": [
    "years = wv_icd_chapter['Year'].unique().tolist()\n",
    "wv_icd_years = {}\n",
    "for year in years:\n",
    "    wv_icd_years[year] = pd.DataFrame(wv_icd_chapter[wv_icd_chapter['Year']==year])\n",
    "\n"
   ]
  },
  {
   "cell_type": "code",
   "execution_count": 277,
   "metadata": {
    "collapsed": false
   },
   "outputs": [],
   "source": [
    "chapters = wv_icd_chapter['ICD Chapter'].unique().tolist()\n",
    "wv_icd_chapter_dict = {}\n",
    "for chapter in chapters:\n",
    "    wv_icd_chapter_dict[chapter] = wv_icd_chapter[wv_icd_chapter['ICD Chapter']==chapter]\n"
   ]
  },
  {
   "cell_type": "code",
   "execution_count": 296,
   "metadata": {
    "collapsed": false
   },
   "outputs": [],
   "source": [
    "wv_top_5 = wv_icd_years[2015].sort_values('Age Adjusted Rate', ascending=False).head(5)['ICD Chapter'].values.tolist()"
   ]
  },
  {
   "cell_type": "code",
   "execution_count": 297,
   "metadata": {
    "collapsed": false
   },
   "outputs": [
    {
     "data": {
      "text/plain": [
       "<matplotlib.legend.Legend at 0x117881e48>"
      ]
     },
     "execution_count": 297,
     "metadata": {},
     "output_type": "execute_result"
    },
    {
     "data": {
      "image/png": "[encoded data removed]",
      "text/plain": [
       "<matplotlib.figure.Figure at 0x117881a20>"
      ]
     },
     "metadata": {},
     "output_type": "display_data"
    }
   ],
   "source": [
    "fig, ax = plt.subplots()\n",
    "labels = []\n",
    "for chapter in wv_top_5:\n",
    "    labels.append(chapter)\n",
    "    wv_icd_chapter_dict[chapter].plot(kind='line', y='Age Adjusted Rate', x='Year', ax=ax)\n",
    "\n",
    "ax.legend(labels=labels, loc=2, fontsize=8)"
   ]
  },
  {
   "cell_type": "code",
   "execution_count": 332,
   "metadata": {
    "collapsed": false
   },
   "outputs": [
    {
     "data": {
      "text/html": [
       "<div>\n",
       "<table border=\"1\" class=\"dataframe\">\n",
       "  <thead>\n",
       "    <tr style=\"text-align: right;\">\n",
       "      <th></th>\n",
       "      <th>Year</th>\n",
       "      <th>ICD Sub-Chapter</th>\n",
       "      <th>ICD Sub-Chapter Code</th>\n",
       "      <th>Deaths</th>\n",
       "      <th>Population</th>\n",
       "      <th>Age Adjusted Rate</th>\n",
       "    </tr>\n",
       "  </thead>\n",
       "  <tbody>\n",
       "    <tr>\n",
       "      <th>0</th>\n",
       "      <td>1999</td>\n",
       "      <td>Other bacterial diseases</td>\n",
       "      <td>A30-A49</td>\n",
       "      <td>292.0</td>\n",
       "      <td>1811799.0</td>\n",
       "      <td>13.9</td>\n",
       "    </tr>\n",
       "    <tr>\n",
       "      <th>1</th>\n",
       "      <td>1999</td>\n",
       "      <td>Viral hepatitis</td>\n",
       "      <td>B15-B19</td>\n",
       "      <td>20.0</td>\n",
       "      <td>1811799.0</td>\n",
       "      <td>1.0</td>\n",
       "    </tr>\n",
       "    <tr>\n",
       "      <th>2</th>\n",
       "      <td>1999</td>\n",
       "      <td>Human immunodeficiency virus [HIV] disease</td>\n",
       "      <td>B20-B24</td>\n",
       "      <td>21.0</td>\n",
       "      <td>1811799.0</td>\n",
       "      <td>1.2</td>\n",
       "    </tr>\n",
       "    <tr>\n",
       "      <th>5</th>\n",
       "      <td>1999</td>\n",
       "      <td>Malignant neoplasms</td>\n",
       "      <td>C00-C97</td>\n",
       "      <td>4762.0</td>\n",
       "      <td>1811799.0</td>\n",
       "      <td>225.1</td>\n",
       "    </tr>\n",
       "    <tr>\n",
       "      <th>7</th>\n",
       "      <td>1999</td>\n",
       "      <td>Neoplasms of uncertain or unknown behaviour</td>\n",
       "      <td>D37-D48</td>\n",
       "      <td>93.0</td>\n",
       "      <td>1811799.0</td>\n",
       "      <td>4.4</td>\n",
       "    </tr>\n",
       "    <tr>\n",
       "      <th>8</th>\n",
       "      <td>1999</td>\n",
       "      <td>Aplastic and other anaemias</td>\n",
       "      <td>D60-D64</td>\n",
       "      <td>30.0</td>\n",
       "      <td>1811799.0</td>\n",
       "      <td>1.4</td>\n",
       "    </tr>\n",
       "    <tr>\n",
       "      <th>9</th>\n",
       "      <td>1999</td>\n",
       "      <td>Coagulation defects, purpura and other haemorr...</td>\n",
       "      <td>D65-D69</td>\n",
       "      <td>24.0</td>\n",
       "      <td>1811799.0</td>\n",
       "      <td>1.2</td>\n",
       "    </tr>\n",
       "    <tr>\n",
       "      <th>10</th>\n",
       "      <td>1999</td>\n",
       "      <td>Disorders of thyroid gland</td>\n",
       "      <td>E00-E07</td>\n",
       "      <td>28.0</td>\n",
       "      <td>1811799.0</td>\n",
       "      <td>1.3</td>\n",
       "    </tr>\n",
       "    <tr>\n",
       "      <th>11</th>\n",
       "      <td>1999</td>\n",
       "      <td>Diabetes mellitus</td>\n",
       "      <td>E10-E14</td>\n",
       "      <td>734.0</td>\n",
       "      <td>1811799.0</td>\n",
       "      <td>34.8</td>\n",
       "    </tr>\n",
       "    <tr>\n",
       "      <th>13</th>\n",
       "      <td>1999</td>\n",
       "      <td>Malnutrition</td>\n",
       "      <td>E40-E46</td>\n",
       "      <td>39.0</td>\n",
       "      <td>1811799.0</td>\n",
       "      <td>1.9</td>\n",
       "    </tr>\n",
       "  </tbody>\n",
       "</table>\n",
       "</div>"
      ],
      "text/plain": [
       "    Year                                    ICD Sub-Chapter  \\\n",
       "0   1999                           Other bacterial diseases   \n",
       "1   1999                                    Viral hepatitis   \n",
       "2   1999         Human immunodeficiency virus [HIV] disease   \n",
       "5   1999                                Malignant neoplasms   \n",
       "7   1999        Neoplasms of uncertain or unknown behaviour   \n",
       "8   1999                        Aplastic and other anaemias   \n",
       "9   1999  Coagulation defects, purpura and other haemorr...   \n",
       "10  1999                         Disorders of thyroid gland   \n",
       "11  1999                                  Diabetes mellitus   \n",
       "13  1999                                       Malnutrition   \n",
       "\n",
       "   ICD Sub-Chapter Code  Deaths  Population  Age Adjusted Rate  \n",
       "0               A30-A49   292.0   1811799.0               13.9  \n",
       "1               B15-B19    20.0   1811799.0                1.0  \n",
       "2               B20-B24    21.0   1811799.0                1.2  \n",
       "5               C00-C97  4762.0   1811799.0              225.1  \n",
       "7               D37-D48    93.0   1811799.0                4.4  \n",
       "8               D60-D64    30.0   1811799.0                1.4  \n",
       "9               D65-D69    24.0   1811799.0                1.2  \n",
       "10              E00-E07    28.0   1811799.0                1.3  \n",
       "11              E10-E14   734.0   1811799.0               34.8  \n",
       "13              E40-E46    39.0   1811799.0                1.9  "
      ]
     },
     "execution_count": 332,
     "metadata": {},
     "output_type": "execute_result"
    }
   ],
   "source": [
    "wv_icd_sub_chapter = pd.read_csv('wv_icd-sub-chapter.txt', sep='\\t')\n",
    "wv_icd_sub_chapter = wv_icd_sub_chapter.loc[pd.notnull(wv_icd_sub_chapter['ICD Sub-Chapter'])]\n",
    "wv_icd_sub_chapter = wv_icd_sub_chapter[wv_icd_sub_chapter['Age Adjusted Rate']!=\"Unreliable\"]\n",
    "wv_icd_sub_chapter= wv_icd_sub_chapter.drop(['Notes', \"Year Code\", \"Crude Rate\", \"% of Total Deaths\"],axis=1)\n",
    "wv_icd_sub_chapter['Year'] = wv_icd_sub_chapter['Year'].astype(float).astype(int)\n",
    "wv_icd_sub_chapter['Age Adjusted Rate'] = wv_icd_sub_chapter['Age Adjusted Rate'].astype(float)\n",
    "wv_icd_sub_chapter.head(10)"
   ]
  },
  {
   "cell_type": "code",
   "execution_count": 325,
   "metadata": {
    "collapsed": true
   },
   "outputs": [],
   "source": [
    "years = wv_icd_sub_chapter['Year'].unique().tolist()\n",
    "wv_icd_sub_years = {}\n",
    "for year in years:\n",
    "    wv_icd_sub_years[year] = pd.DataFrame(wv_icd_sub_chapter[wv_icd_sub_chapter['Year']==year])\n",
    "    \n",
    "sub_chapters = wv_icd_sub_chapter['ICD Sub-Chapter'].unique().tolist()\n",
    "wv_icd_sub_chapter_dict = {}\n",
    "for sub_chapter in sub_chapters:\n",
    "    wv_icd_sub_chapter_dict[sub_chapter] = wv_icd_sub_chapter[wv_icd_sub_chapter['ICD Sub-Chapter']==sub_chapter]"
   ]
  },
  {
   "cell_type": "code",
   "execution_count": 326,
   "metadata": {
    "collapsed": false
   },
   "outputs": [],
   "source": [
    "wv_icd_sub_years[2015]['Age Adjusted Rate'] = wv_icd_sub_years[2015]['Age Adjusted Rate'].astype(float)\n",
    "wv_top_5_sub = wv_icd_sub_years[2015].sort_values('Age Adjusted Rate', ascending=False).head(5)['ICD Sub-Chapter'].values.tolist()"
   ]
  },
  {
   "cell_type": "code",
   "execution_count": 329,
   "metadata": {
    "collapsed": false
   },
   "outputs": [
    {
     "data": {
      "text/plain": [
       "['Malignant neoplasms',\n",
       " 'Ischaemic heart diseases',\n",
       " 'Chronic lower respiratory diseases',\n",
       " 'Other external causes of accidental injury',\n",
       " 'Other forms of heart disease']"
      ]
     },
     "execution_count": 329,
     "metadata": {},
     "output_type": "execute_result"
    }
   ],
   "source": [
    "wv_top_5_sub"
   ]
  },
  {
   "cell_type": "code",
   "execution_count": 328,
   "metadata": {
    "collapsed": false
   },
   "outputs": [
    {
     "data": {
      "text/plain": [
       "<matplotlib.legend.Legend at 0x1186a76a0>"
      ]
     },
     "execution_count": 328,
     "metadata": {},
     "output_type": "execute_result"
    },
    {
     "data": {
      "image/png": "[encoded data removed]",
      "text/plain": [
       "<matplotlib.figure.Figure at 0x1186a7eb8>"
      ]
     },
     "metadata": {},
     "output_type": "display_data"
    }
   ],
   "source": [
    "fig, ax = plt.subplots()\n",
    "labels = []\n",
    "for chapter in wv_top_5_sub:\n",
    "    labels.append(chapter)\n",
    "    wv_icd_sub_chapter_dict[chapter].plot(kind='line', y='Age Adjusted Rate', x='Year', ax=ax)\n",
    "\n",
    "ax.legend(labels=labels, loc=2, fontsize=8)"
   ]
  },
  {
   "cell_type": "code",
   "execution_count": 370,
   "metadata": {
    "collapsed": false
   },
   "outputs": [
    {
     "data": {
      "text/html": [
       "<div>\n",
       "<table border=\"1\" class=\"dataframe\">\n",
       "  <thead>\n",
       "    <tr style=\"text-align: right;\">\n",
       "      <th></th>\n",
       "      <th>Year</th>\n",
       "      <th>ICD-10 113 Cause List</th>\n",
       "      <th>ICD-10 113 Cause List Code</th>\n",
       "      <th>Deaths</th>\n",
       "      <th>Population</th>\n",
       "      <th>Crude Rate</th>\n",
       "      <th>Age Adjusted Rate</th>\n",
       "    </tr>\n",
       "  </thead>\n",
       "  <tbody>\n",
       "    <tr>\n",
       "      <th>2</th>\n",
       "      <td>1999</td>\n",
       "      <td>Falls (W00-W19)</td>\n",
       "      <td>GR113-118</td>\n",
       "      <td>111.0</td>\n",
       "      <td>1811799.0</td>\n",
       "      <td>6.1</td>\n",
       "      <td>5.4</td>\n",
       "    </tr>\n",
       "    <tr>\n",
       "      <th>4</th>\n",
       "      <td>1999</td>\n",
       "      <td>Accidental drowning and submersion (W65-W74)</td>\n",
       "      <td>GR113-120</td>\n",
       "      <td>23.0</td>\n",
       "      <td>1811799.0</td>\n",
       "      <td>1.3</td>\n",
       "      <td>1.3</td>\n",
       "    </tr>\n",
       "    <tr>\n",
       "      <th>5</th>\n",
       "      <td>1999</td>\n",
       "      <td>Accidental exposure to smoke, fire and flames ...</td>\n",
       "      <td>GR113-121</td>\n",
       "      <td>37.0</td>\n",
       "      <td>1811799.0</td>\n",
       "      <td>2.0</td>\n",
       "      <td>1.9</td>\n",
       "    </tr>\n",
       "    <tr>\n",
       "      <th>6</th>\n",
       "      <td>1999</td>\n",
       "      <td>Accidental poisoning and exposure to noxious s...</td>\n",
       "      <td>GR113-122</td>\n",
       "      <td>46.0</td>\n",
       "      <td>1811799.0</td>\n",
       "      <td>2.5</td>\n",
       "      <td>2.5</td>\n",
       "    </tr>\n",
       "    <tr>\n",
       "      <th>7</th>\n",
       "      <td>1999</td>\n",
       "      <td>Other and unspecified nontransport accidents a...</td>\n",
       "      <td>GR113-123</td>\n",
       "      <td>156.0</td>\n",
       "      <td>1811799.0</td>\n",
       "      <td>8.6</td>\n",
       "      <td>7.9</td>\n",
       "    </tr>\n",
       "    <tr>\n",
       "      <th>10</th>\n",
       "      <td>2000</td>\n",
       "      <td>Falls (W00-W19)</td>\n",
       "      <td>GR113-118</td>\n",
       "      <td>120.0</td>\n",
       "      <td>1808344.0</td>\n",
       "      <td>6.6</td>\n",
       "      <td>5.9</td>\n",
       "    </tr>\n",
       "    <tr>\n",
       "      <th>11</th>\n",
       "      <td>2000</td>\n",
       "      <td>Accidental drowning and submersion (W65-W74)</td>\n",
       "      <td>GR113-120</td>\n",
       "      <td>31.0</td>\n",
       "      <td>1808344.0</td>\n",
       "      <td>1.7</td>\n",
       "      <td>1.7</td>\n",
       "    </tr>\n",
       "    <tr>\n",
       "      <th>12</th>\n",
       "      <td>2000</td>\n",
       "      <td>Accidental exposure to smoke, fire and flames ...</td>\n",
       "      <td>GR113-121</td>\n",
       "      <td>33.0</td>\n",
       "      <td>1808344.0</td>\n",
       "      <td>1.8</td>\n",
       "      <td>1.7</td>\n",
       "    </tr>\n",
       "    <tr>\n",
       "      <th>13</th>\n",
       "      <td>2000</td>\n",
       "      <td>Accidental poisoning and exposure to noxious s...</td>\n",
       "      <td>GR113-122</td>\n",
       "      <td>61.0</td>\n",
       "      <td>1808344.0</td>\n",
       "      <td>3.4</td>\n",
       "      <td>3.3</td>\n",
       "    </tr>\n",
       "    <tr>\n",
       "      <th>14</th>\n",
       "      <td>2000</td>\n",
       "      <td>Other and unspecified nontransport accidents a...</td>\n",
       "      <td>GR113-123</td>\n",
       "      <td>140.0</td>\n",
       "      <td>1808344.0</td>\n",
       "      <td>7.7</td>\n",
       "      <td>7.0</td>\n",
       "    </tr>\n",
       "  </tbody>\n",
       "</table>\n",
       "</div>"
      ],
      "text/plain": [
       "    Year                              ICD-10 113 Cause List  \\\n",
       "2   1999                                    Falls (W00-W19)   \n",
       "4   1999       Accidental drowning and submersion (W65-W74)   \n",
       "5   1999  Accidental exposure to smoke, fire and flames ...   \n",
       "6   1999  Accidental poisoning and exposure to noxious s...   \n",
       "7   1999  Other and unspecified nontransport accidents a...   \n",
       "10  2000                                    Falls (W00-W19)   \n",
       "11  2000       Accidental drowning and submersion (W65-W74)   \n",
       "12  2000  Accidental exposure to smoke, fire and flames ...   \n",
       "13  2000  Accidental poisoning and exposure to noxious s...   \n",
       "14  2000  Other and unspecified nontransport accidents a...   \n",
       "\n",
       "   ICD-10 113 Cause List Code  Deaths  Population Crude Rate  \\\n",
       "2                   GR113-118   111.0   1811799.0        6.1   \n",
       "4                   GR113-120    23.0   1811799.0        1.3   \n",
       "5                   GR113-121    37.0   1811799.0        2.0   \n",
       "6                   GR113-122    46.0   1811799.0        2.5   \n",
       "7                   GR113-123   156.0   1811799.0        8.6   \n",
       "10                  GR113-118   120.0   1808344.0        6.6   \n",
       "11                  GR113-120    31.0   1808344.0        1.7   \n",
       "12                  GR113-121    33.0   1808344.0        1.8   \n",
       "13                  GR113-122    61.0   1808344.0        3.4   \n",
       "14                  GR113-123   140.0   1808344.0        7.7   \n",
       "\n",
       "    Age Adjusted Rate  \n",
       "2                 5.4  \n",
       "4                 1.3  \n",
       "5                 1.9  \n",
       "6                 2.5  \n",
       "7                 7.9  \n",
       "10                5.9  \n",
       "11                1.7  \n",
       "12                1.7  \n",
       "13                3.3  \n",
       "14                7.0  "
      ]
     },
     "execution_count": 370,
     "metadata": {},
     "output_type": "execute_result"
    }
   ],
   "source": [
    "wv_accidents = pd.read_csv('wv_accident.txt', sep='\\t')\n",
    "wv_accidents = wv_accidents.loc[pd.notnull(wv_accidents['ICD-10 113 Cause List'])]\n",
    "wv_accidents = wv_accidents[wv_accidents['Age Adjusted Rate']!=\"Unreliable\"]\n",
    "wv_accidents = wv_accidents[wv_accidents['ICD-10 113 Cause List']!=\"Nontransport accidents (W00-X59,Y86)\"]\n",
    "wv_accidents = wv_accidents[wv_accidents['ICD-10 113 Cause List']!=\"#Accidents (unintentional injuries) (V01-X59,Y85-Y86)\"]\n",
    "wv_accidents= wv_accidents.drop(['Notes', \"Year Code\"],axis=1)\n",
    "wv_accidents['Year'] = wv_accidents['Year'].astype(float).astype(int)\n",
    "wv_accidents['Age Adjusted Rate'] = wv_accidents['Age Adjusted Rate'].astype(float)\n",
    "wv_accidents.head(10)"
   ]
  },
  {
   "cell_type": "code",
   "execution_count": 371,
   "metadata": {
    "collapsed": true
   },
   "outputs": [],
   "source": [
    "years = wv_accidents['Year'].unique().tolist()\n",
    "\n",
    "wv_accident_years = {}\n",
    "for year in years:\n",
    "    wv_accident_years[year] = pd.DataFrame(wv_accidents[wv_accidents['Year']==year])\n",
    "\n",
    "causes = wv_accidents['ICD-10 113 Cause List'].unique().tolist()\n",
    "wv_causes = {}\n",
    "for cause in causes:\n",
    "    wv_causes[cause] = wv_accidents[wv_accidents['ICD-10 113 Cause List']==cause]"
   ]
  },
  {
   "cell_type": "code",
   "execution_count": 372,
   "metadata": {
    "collapsed": false
   },
   "outputs": [],
   "source": [
    "#wv_accident_years[2015]['Age Adjusted Rate'] = wv_accidents[2015]['Age Adjusted Rate'].astype(float)\n",
    "wv_top_accidents = wv_accident_years[2015].sort_values('Age Adjusted Rate', ascending=False).head(5)['ICD-10 113 Cause List'].values.tolist()"
   ]
  },
  {
   "cell_type": "code",
   "execution_count": 373,
   "metadata": {
    "collapsed": false
   },
   "outputs": [
    {
     "data": {
      "text/plain": [
       "<matplotlib.legend.Legend at 0x118a8f198>"
      ]
     },
     "execution_count": 373,
     "metadata": {},
     "output_type": "execute_result"
    },
    {
     "data": {
      "image/png": "[encoded data removed]",
      "text/plain": [
       "<matplotlib.figure.Figure at 0x118a8ffd0>"
      ]
     },
     "metadata": {},
     "output_type": "display_data"
    }
   ],
   "source": [
    "fig, ax = plt.subplots()\n",
    "labels = []\n",
    "for cause in wv_top_accidents:\n",
    "    labels.append(cause)\n",
    "    wv_causes[cause].plot(kind='line', y='Age Adjusted Rate', x='Year', ax=ax)\n",
    "\n",
    "ax.legend(labels=labels, loc=2, fontsize=8)"
   ]
  },
  {
   "cell_type": "code",
   "execution_count": 380,
   "metadata": {
    "collapsed": false
   },
   "outputs": [
    {
     "data": {
      "text/html": [
       "<div>\n",
       "<table border=\"1\" class=\"dataframe\">\n",
       "  <thead>\n",
       "    <tr style=\"text-align: right;\">\n",
       "      <th></th>\n",
       "      <th>Year</th>\n",
       "      <th>Cause of death</th>\n",
       "      <th>Cause of death Code</th>\n",
       "      <th>Deaths</th>\n",
       "      <th>Population</th>\n",
       "      <th>Age Adjusted Rate</th>\n",
       "    </tr>\n",
       "  </thead>\n",
       "  <tbody>\n",
       "    <tr>\n",
       "      <th>4</th>\n",
       "      <td>2000</td>\n",
       "      <td>Accidental poisoning by and exposure to other ...</td>\n",
       "      <td>X44</td>\n",
       "      <td>30.0</td>\n",
       "      <td>1808344.0</td>\n",
       "      <td>1.6</td>\n",
       "    </tr>\n",
       "    <tr>\n",
       "      <th>7</th>\n",
       "      <td>2001</td>\n",
       "      <td>Accidental poisoning by and exposure to narcot...</td>\n",
       "      <td>X42</td>\n",
       "      <td>36.0</td>\n",
       "      <td>1801481.0</td>\n",
       "      <td>2.1</td>\n",
       "    </tr>\n",
       "    <tr>\n",
       "      <th>8</th>\n",
       "      <td>2001</td>\n",
       "      <td>Accidental poisoning by and exposure to other ...</td>\n",
       "      <td>X44</td>\n",
       "      <td>72.0</td>\n",
       "      <td>1801481.0</td>\n",
       "      <td>4.0</td>\n",
       "    </tr>\n",
       "    <tr>\n",
       "      <th>10</th>\n",
       "      <td>2002</td>\n",
       "      <td>Accidental poisoning by and exposure to narcot...</td>\n",
       "      <td>X42</td>\n",
       "      <td>57.0</td>\n",
       "      <td>1805414.0</td>\n",
       "      <td>3.3</td>\n",
       "    </tr>\n",
       "    <tr>\n",
       "      <th>11</th>\n",
       "      <td>2002</td>\n",
       "      <td>Accidental poisoning by and exposure to other ...</td>\n",
       "      <td>X44</td>\n",
       "      <td>79.0</td>\n",
       "      <td>1805414.0</td>\n",
       "      <td>4.5</td>\n",
       "    </tr>\n",
       "    <tr>\n",
       "      <th>13</th>\n",
       "      <td>2003</td>\n",
       "      <td>Accidental poisoning by and exposure to narcot...</td>\n",
       "      <td>X42</td>\n",
       "      <td>76.0</td>\n",
       "      <td>1812295.0</td>\n",
       "      <td>4.4</td>\n",
       "    </tr>\n",
       "    <tr>\n",
       "      <th>14</th>\n",
       "      <td>2003</td>\n",
       "      <td>Accidental poisoning by and exposure to other ...</td>\n",
       "      <td>X44</td>\n",
       "      <td>145.0</td>\n",
       "      <td>1812295.0</td>\n",
       "      <td>8.4</td>\n",
       "    </tr>\n",
       "    <tr>\n",
       "      <th>17</th>\n",
       "      <td>2004</td>\n",
       "      <td>Accidental poisoning by and exposure to narcot...</td>\n",
       "      <td>X42</td>\n",
       "      <td>114.0</td>\n",
       "      <td>1816438.0</td>\n",
       "      <td>6.5</td>\n",
       "    </tr>\n",
       "    <tr>\n",
       "      <th>18</th>\n",
       "      <td>2004</td>\n",
       "      <td>Accidental poisoning by and exposure to other ...</td>\n",
       "      <td>X44</td>\n",
       "      <td>148.0</td>\n",
       "      <td>1816438.0</td>\n",
       "      <td>8.4</td>\n",
       "    </tr>\n",
       "    <tr>\n",
       "      <th>20</th>\n",
       "      <td>2005</td>\n",
       "      <td>Accidental poisoning by and exposure to narcot...</td>\n",
       "      <td>X42</td>\n",
       "      <td>72.0</td>\n",
       "      <td>1820492.0</td>\n",
       "      <td>4.2</td>\n",
       "    </tr>\n",
       "  </tbody>\n",
       "</table>\n",
       "</div>"
      ],
      "text/plain": [
       "    Year                                     Cause of death  \\\n",
       "4   2000  Accidental poisoning by and exposure to other ...   \n",
       "7   2001  Accidental poisoning by and exposure to narcot...   \n",
       "8   2001  Accidental poisoning by and exposure to other ...   \n",
       "10  2002  Accidental poisoning by and exposure to narcot...   \n",
       "11  2002  Accidental poisoning by and exposure to other ...   \n",
       "13  2003  Accidental poisoning by and exposure to narcot...   \n",
       "14  2003  Accidental poisoning by and exposure to other ...   \n",
       "17  2004  Accidental poisoning by and exposure to narcot...   \n",
       "18  2004  Accidental poisoning by and exposure to other ...   \n",
       "20  2005  Accidental poisoning by and exposure to narcot...   \n",
       "\n",
       "   Cause of death Code  Deaths  Population  Age Adjusted Rate  \n",
       "4                  X44    30.0   1808344.0                1.6  \n",
       "7                  X42    36.0   1801481.0                2.1  \n",
       "8                  X44    72.0   1801481.0                4.0  \n",
       "10                 X42    57.0   1805414.0                3.3  \n",
       "11                 X44    79.0   1805414.0                4.5  \n",
       "13                 X42    76.0   1812295.0                4.4  \n",
       "14                 X44   145.0   1812295.0                8.4  \n",
       "17                 X42   114.0   1816438.0                6.5  \n",
       "18                 X44   148.0   1816438.0                8.4  \n",
       "20                 X42    72.0   1820492.0                4.2  "
      ]
     },
     "execution_count": 380,
     "metadata": {},
     "output_type": "execute_result"
    }
   ],
   "source": [
    "wv_poisoning = pd.read_csv('wv_poisoning.txt', sep='\\t')\n",
    "wv_poisoning = wv_poisoning.loc[pd.notnull(wv_poisoning['Cause of death'])]\n",
    "wv_poisoning = wv_poisoning[wv_poisoning['Age Adjusted Rate']!=\"Unreliable\"]\n",
    "wv_poisoning= wv_poisoning.drop(['Notes', \"Year Code\", \"Crude Rate\"],axis=1)\n",
    "wv_poisoning['Year'] = wv_poisoning['Year'].astype(float).astype(int)\n",
    "wv_poisoning['Age Adjusted Rate'] = wv_poisoning['Age Adjusted Rate'].astype(float)\n",
    "wv_poisoning.head(10)"
   ]
  },
  {
   "cell_type": "code",
   "execution_count": 381,
   "metadata": {
    "collapsed": true
   },
   "outputs": [],
   "source": [
    "years = wv_poisoning['Year'].unique().tolist()\n",
    "\n",
    "wv_poisoning_years = {}\n",
    "for year in years:\n",
    "    wv_poisoning_years[year] = pd.DataFrame(wv_poisoning[wv_poisoning['Year']==year])\n",
    "\n",
    "poisons = wv_poisoning['Cause of death'].unique().tolist()\n",
    "wv_poisons = {}\n",
    "for poison in poisons:\n",
    "    wv_poisons[poison] = wv_poisoning[wv_poisoning['Cause of death']==poison]"
   ]
  },
  {
   "cell_type": "code",
   "execution_count": 397,
   "metadata": {
    "collapsed": false
   },
   "outputs": [],
   "source": [
    "wv_top_poisons = wv_poisoning_years[2015].sort_values('Age Adjusted Rate', ascending=False).head(5)['Cause of death'].values.tolist()"
   ]
  },
  {
   "cell_type": "code",
   "execution_count": 398,
   "metadata": {
    "collapsed": false
   },
   "outputs": [
    {
     "data": {
      "text/plain": [
       "<matplotlib.legend.Legend at 0x11b482dd8>"
      ]
     },
     "execution_count": 398,
     "metadata": {},
     "output_type": "execute_result"
    },
    {
     "data": {
      "image/png": "[encoded data removed]",
      "text/plain": [
       "<matplotlib.figure.Figure at 0x11b4827f0>"
      ]
     },
     "metadata": {},
     "output_type": "display_data"
    }
   ],
   "source": [
    "fig, ax = plt.subplots()\n",
    "labels = []\n",
    "for poison in wv_top_poisons:\n",
    "    labels.append(poison)\n",
    "    wv_poisons[poison].plot(kind='line', y='Age Adjusted Rate', x='Year', ax=ax)\n",
    "\n",
    "ax.legend(labels=labels, loc=2, fontsize=8)"
   ]
  },
  {
   "cell_type": "code",
   "execution_count": null,
   "metadata": {
    "collapsed": true
   },
   "outputs": [],
   "source": []
  },
  {
   "cell_type": "code",
   "execution_count": 4,
   "metadata": {
    "collapsed": true
   },
   "outputs": [],
   "source": [
    "drug_codes = {'1100': 'AMPHETAMINE',\n",
    "              '1100B': 'DL-AMPHETAMINE BASE',\n",
    "              '1100D': 'D-AMPHETAMINE BASE',\n",
    "              '1105B': 'DL-METHAMPHETAMINE RACEMIC BASE',\n",
    "              '1105D': 'D-METHAMPHETAMINE',\n",
    "              '1105L': 'LEVOMETHAMPHETAMINE',\n",
    "              '1205': 'LISDEXAMFETAMINE',\n",
    "              '1248': 'MEPHEDRONE; 4-METHOXYMETHCATHINONE',\n",
    "              '1615': 'PHENDIMETRAZINE',\n",
    "              '1724': 'METHYLPHENIDATE',\n",
    "              '2010': 'GAMMA HYDROXYBUTYRIC ACID',\n",
    "              '2012': 'GAMMA HYDROXYBUTYRIC ACID PREPARATIONS',\n",
    "              '2100': 'BARBITURIC ACID DERIVIATIVE OR SALT',\n",
    "              '2125': 'AMOBARBITAL (SCHEDULE 2)',\n",
    "              '2165': 'BUTALBITAL',\n",
    "              '2270': 'PENTOBARBITAL (SCHEDULE 2)',\n",
    "              '2285': 'PHENOBARBITAL',\n",
    "              '2315': 'SECOBARBITAL (SCHEDULE 2)',\n",
    "              '2765': 'DIAZEPAM',\n",
    "              '2783': 'ZOLPIDEM',\n",
    "              '2885': 'LORAZEPAM',\n",
    "              '4187': 'TESTOSTERONE',\n",
    "              '7285': 'KETAMINE',\n",
    "              '7315D': 'LYSERGIDE(D-LSD)',\n",
    "              '7369': 'DRONABINOL IN SESAME OIL',\n",
    "              '7370': 'TETRAHYDROCANNABINOL,SYNTHETIC',\n",
    "              '7377': 'CANNABICYCLOL',\n",
    "              '7379': 'NABILONE',\n",
    "              '7381': 'MESCALINE',\n",
    "              '7400': '3,4-METHYLENEDIOXYAMPHETAMINE (3,4-MD',\n",
    "              '7431': '5-METHOXY-N,N DIMETHYLTRYPTAMINE',\n",
    "              '7433': 'BUFOTENINE',\n",
    "              '7437': 'PSILOCYBIN',\n",
    "              '7438': 'PSILOCIN',\n",
    "              '7439': '5-METHOXY-N,N-DIISOPROPYLTRYPTAMINE(5',\n",
    "              '7540': 'METHYLONE (3,4-METHYLENEDIOXY-N-METH',\n",
    "              '7444': '4-HYDROXY-3-METHOXY-METHAMPHETAMINE',\n",
    "              '7455': 'ETICYCLIDINE (PCE)',\n",
    "              '7471': 'PHENCYCLIDINE (PCP)',\n",
    "              '9010': 'ALPHAPRODINE',\n",
    "              '9020': 'ANILERIDINE',\n",
    "              '9041': 'COCAINE',\n",
    "              '9041L': 'COCAINE',\n",
    "              '9046': 'NORCOCAINE',\n",
    "              '9050': 'CODEINE',\n",
    "              '9104': 'NORCODEINE',\n",
    "              '9056': 'ETORPHINE',\n",
    "              '9058': 'DIPRENORPHINE',\n",
    "              '9064': 'BUPRENORPHINE',\n",
    "              '9120': 'DIHYDROCODEINE',\n",
    "              '9143': 'OXYCODONE',\n",
    "              '9150': 'HYDROMORPHONE',\n",
    "              '9168': 'DIFENOXIN(I.E.DIPHENOXYLIC ACID)',\n",
    "              '9170': 'DIPHENOXYLATE',\n",
    "              '9180': 'ECGONINE',\n",
    "              '9180L': 'ECGONINE',\n",
    "              '9190': 'ETHYLMORPHINE',\n",
    "              '9193': 'HYDROCODONE',\n",
    "              '9200': 'HEROIN',\n",
    "              '9220L': 'LEVORPHANOL',\n",
    "              '9230': 'MEPERIDINE (PETHIDINE)',\n",
    "              '9273D': 'DEXTROPROPOXYPHENE',\n",
    "              '9250B': 'METHADONE',\n",
    "              '9300': 'MORPHINE',\n",
    "              '9313': 'NORMORPHINE',\n",
    "              '9317': 'NALTREXONE',\n",
    "              '9333': 'THEBAINE',\n",
    "              '9336': 'MORPHINE-3-ETHEREAL SULFATE',\n",
    "              '9411': 'NALOXONE',\n",
    "              '9600': 'OPIUM',\n",
    "              '9603': 'ALPHAACETYLMETHADOL',\n",
    "              '9630': 'OPIUM TINCTURE',\n",
    "              '9639': 'OPIUM POWDERED',\n",
    "              '9652': 'OXYMORPHONE',\n",
    "              '9655': 'PAREGORIC/OPIUM',\n",
    "              '9665': '14-HYDROXYCODEINONE',\n",
    "              '9668': 'NOROXYMORPHONE',\n",
    "              '9670': 'CONCENTRATE OF POPPY STRAW',\n",
    "             '9737': 'ALFENTANIL',\n",
    "             '9739': 'REMIFENTANIL',\n",
    "             '9740': 'SUFENTANIL BASE',\n",
    "             '9743': 'CARFENTANIL',\n",
    "             '9780': 'TAPENTADOL',\n",
    "             '9801': 'FENTANYL BASE',\n",
    "             }"
   ]
  },
  {
   "cell_type": "code",
   "execution_count": 200,
   "metadata": {
    "collapsed": false
   },
   "outputs": [],
   "source": [
    "def clean_txt(dfname, year):\n",
    "\n",
    "    dfname.rename(columns={'ARCOS': \"Zip\", '3':'Q1', '-': 'Q2', 'REPORT': 'Q3', '1':'Q4', 'RETAIL':'TOTAL'}, inplace=True)\n",
    "    dfname.insert(column='Year', loc=0, value=year)\n",
    "    dfname.insert(column='State', loc=1, value=None)\n",
    "    dfname.insert(column='Drug', loc=2, value=None)\n",
    "    dfname.loc[dfname['Zip']=='STATE:', 'State']=dfname['Q1']\n",
    "    dfname.loc[(dfname['Zip']==\"STATE:\") & (pd.notnull(dfname['Q2'])), 'State']=dfname[\"Q1\"]+\" \"+dfname['Q2']\n",
    "    dfname.loc[(dfname['Zip']==\"STATE:\") & (pd.notnull(dfname['Q2'])) & (pd.notnull(dfname['Q3'])), 'State']=dfname[\"Q1\"]+\" \"+dfname['Q2']+\" \"+dfname['Q3']\n",
    "\n",
    "\n",
    "    dfname=dfname.drop(dfname[dfname['Zip']=='REPORTING'].index)\n",
    "    dfname=dfname.drop(dfname[dfname['Zip']=='RETAIL'].index)\n",
    "    dfname=dfname.drop(dfname[dfname['Zip']=='Run'].index)\n",
    "    dfname=dfname.drop(dfname[dfname['Zip']=='ZIP'].index)\n",
    "    dfname=dfname.drop(dfname[dfname['Zip']=='ARCOS'].index)\n",
    "\n",
    "    for key in drug_codes.keys():\n",
    "        dfname.loc[(dfname['Q1'].str.contains(key))&(pd.notnull(dfname['Q1'])), 'Drug'] = drug_codes[key]\n",
    "        dfname.loc[(dfname['Q2'].str.contains(key))&(pd.notnull(dfname['Q2'])), 'Drug'] = drug_codes[key]\n",
    "    dfname['State'] = dfname['State'].fillna(method='ffill')\n",
    "    dfname['Drug'] = dfname['Drug'].fillna(method='ffill')\n",
    "    dfname=dfname.drop(dfname[dfname['Zip']=='DRUG'].index)\n",
    "    dfname=dfname.drop(dfname[dfname['Zip']=='STATE:'].index)\n",
    "    dfname = dfname[['Year', 'State', 'Drug', 'Zip', 'Q1', 'Q2', 'Q3', 'Q4', 'TOTAL']]\n",
    "    dfname = dfname.drop(dfname.loc[pd.isnull(dfname['TOTAL'])].index)\n",
    "    cols = ['Q1', 'Q2', 'Q3', 'Q4', 'TOTAL']\n",
    "    for col in cols:\n",
    "        dfname[col]=dfname[col].str.replace(\",\",\"\").astype(float)\n",
    "    return dfname\n"
   ]
  },
  {
   "cell_type": "code",
   "execution_count": 201,
   "metadata": {
    "collapsed": false
   },
   "outputs": [],
   "source": [
    "zip_2013 = pd.read_csv('zip_2013.txt', delim_whitespace=True)\n",
    "zip_2013 = clean_txt(zip_2013, 2013)"
   ]
  },
  {
   "cell_type": "code",
   "execution_count": 202,
   "metadata": {
    "collapsed": false
   },
   "outputs": [],
   "source": [
    "zip_2012 = pd.read_csv('zip_2012.txt', delim_whitespace=True, thousands  =',')\n",
    "zip_2012=clean_txt(zip_2012, 2012)"
   ]
  },
  {
   "cell_type": "code",
   "execution_count": 203,
   "metadata": {
    "collapsed": false
   },
   "outputs": [],
   "source": [
    "zip_2014 = pd.read_csv('zip_2014.txt', delim_whitespace=True)\n",
    "zip_2014 = clean_txt(zip_2014, 2014)"
   ]
  },
  {
   "cell_type": "code",
   "execution_count": 204,
   "metadata": {
    "collapsed": false
   },
   "outputs": [],
   "source": [
    "zip_2011 = pd.read_csv('zip_2011.txt', delim_whitespace=True, thousands  =',')\n",
    "zip_2011 = clean_txt(zip_2011, 2011)"
   ]
  },
  {
   "cell_type": "code",
   "execution_count": 205,
   "metadata": {
    "collapsed": false
   },
   "outputs": [],
   "source": [
    "zip_2010 = pd.read_csv('zip_2010.txt', delim_whitespace=True, thousands  =',')\n",
    "zip_2010 = clean_txt(zip_2010, 2010)"
   ]
  },
  {
   "cell_type": "code",
   "execution_count": 206,
   "metadata": {
    "collapsed": false
   },
   "outputs": [],
   "source": [
    "zip_2009 = pd.read_csv('zip_2009.txt', delim_whitespace=True, thousands  =',')\n",
    "zip_2009 = clean_txt(zip_2009, 2009)"
   ]
  },
  {
   "cell_type": "code",
   "execution_count": 207,
   "metadata": {
    "collapsed": false
   },
   "outputs": [],
   "source": [
    "zip_2008 = pd.read_csv('zip_2008.txt', delim_whitespace=True, thousands  =',')\n",
    "zip_2008 = clean_txt(zip_2008, 2008)"
   ]
  },
  {
   "cell_type": "code",
   "execution_count": 208,
   "metadata": {
    "collapsed": false
   },
   "outputs": [],
   "source": [
    "zip_2007 = pd.read_csv('zip_2007.txt', delim_whitespace=True, thousands  =',')\n",
    "zip_2007 = clean_txt(zip_2007, 2007)"
   ]
  },
  {
   "cell_type": "code",
   "execution_count": 209,
   "metadata": {
    "collapsed": false
   },
   "outputs": [],
   "source": [
    "zip_2006 = pd.read_csv('zip_2006.txt', delim_whitespace=True, thousands  =',')\n",
    "zip_2006 = clean_txt(zip_2006, 2006)"
   ]
  },
  {
   "cell_type": "code",
   "execution_count": 210,
   "metadata": {
    "collapsed": false
   },
   "outputs": [],
   "source": [
    "zip_2015 = pd.read_csv('zip_2015.txt', delim_whitespace=True, thousands  =',')\n",
    "zip_2015 = clean_txt(zip_2015, 2015)"
   ]
  },
  {
   "cell_type": "code",
   "execution_count": 211,
   "metadata": {
    "collapsed": false
   },
   "outputs": [],
   "source": [
    "zip_2016 = pd.read_csv('zip_2016.txt', delim_whitespace=True, thousands  =',')\n",
    "zip_2016 = clean_txt(zip_2016, 2016)"
   ]
  },
  {
   "cell_type": "markdown",
   "metadata": {},
   "source": []
  },
  {
   "cell_type": "code",
   "execution_count": 212,
   "metadata": {
    "collapsed": false
   },
   "outputs": [],
   "source": [
    "def clean_text_old(dfname, year):\n",
    "    dfname.rename(columns={'ARCOS': \"Zip\", '2':'Q1', '-': 'Q2', 'REPORT': 'Q3', '1':'Q4', 'RETAIL':'TOTAL'}, inplace=True)\n",
    "    start = ['Q1', 'Q2', 'Q3', 'Q4', 'TOTAL']\n",
    "    shift = ['Q2', 'Q3', 'Q4', 'TOTAL', 'DRUG']\n",
    "\n",
    "    dfname.loc[dfname['Zip']=='STATE','Zip'] = dfname['Q1']\n",
    "    for i in range(0,5):\n",
    "        dfname.loc[dfname['Zip']=='TOTAL', start[i]] = dfname[shift[i]]\n",
    "\n",
    "    dfname.insert(column='Year', loc=0, value=year)\n",
    "    dfname.insert(column='State', loc=1, value=None)\n",
    "    dfname.insert(column='Drug', loc=2, value=None)\n",
    "    dfname.loc[dfname['Zip']=='STATE:', 'State']=dfname['Q1']\n",
    "    dfname.loc[(dfname['Zip']==\"STATE:\") & (pd.notnull(dfname['Q2'])), 'State']=dfname[\"Q1\"]+\" \"+dfname['Q2']\n",
    "    dfname.loc[(dfname['Zip']==\"STATE:\") & (pd.notnull(dfname['Q2'])) & (pd.notnull(dfname['Q3'])), 'State']=dfname[\"Q1\"]+\" \"+dfname['Q2']+\" \"+dfname['Q3']\n",
    "\n",
    "    dfname=dfname.drop(dfname[dfname['Q1']=='ENFORCEMENT'].index)\n",
    "    dfname=dfname.drop(dfname[dfname['Zip']=='REPORTING'].index)\n",
    "    dfname=dfname.drop(dfname[dfname['Zip']=='RETAIL'].index)\n",
    "    dfname=dfname.drop(dfname[dfname['Zip']=='DATE:'].index)\n",
    "    dfname=dfname.drop(dfname[dfname['Zip']=='ZIP'].index)\n",
    "    dfname=dfname.drop(dfname[dfname['Zip']=='ARCOS'].index)\n",
    "\n",
    "    for key in drug_codes.keys():\n",
    "        dfname.loc[(dfname['Q1']=='CODE:')&(dfname['Q2']==key), 'Drug'] = drug_codes[key]\n",
    "    dfname['State'] = dfname['State'].fillna(method='ffill')\n",
    "    dfname['Drug'] = dfname['Drug'].fillna(method='ffill')\n",
    "    dfname=dfname.drop(dfname[dfname['Zip']=='DRUG'].index)\n",
    "    dfname=dfname.drop(dfname[dfname['Zip']=='STATE:'].index)\n",
    "    dfname = dfname[['Year', 'State', 'Drug', 'Zip', 'Q1', 'Q2', 'Q3', 'Q4', 'TOTAL']]\n",
    "    dfname = dfname.drop(dfname.loc[pd.isnull(dfname['TOTAL'])].index)\n",
    "    cols = ['Q1', 'Q2', 'Q3', 'Q4', 'TOTAL']\n",
    "    for col in cols:\n",
    "        dfname[col]=dfname[col].str.replace(\",\",\"\").astype(float)\n",
    "    return dfname"
   ]
  },
  {
   "cell_type": "code",
   "execution_count": 213,
   "metadata": {
    "collapsed": false
   },
   "outputs": [],
   "source": [
    "zip_2005 = pd.read_csv('zip_2005.txt', delim_whitespace=True)\n",
    "zip_2005 = clean_text_old(zip_2005, 2005)\n"
   ]
  },
  {
   "cell_type": "code",
   "execution_count": 214,
   "metadata": {
    "collapsed": true
   },
   "outputs": [],
   "source": [
    "zip_2004 = pd.read_csv('zip_2004.txt', delim_whitespace=True)\n",
    "zip_2004 = clean_text_old(zip_2004, 2004)"
   ]
  },
  {
   "cell_type": "code",
   "execution_count": 215,
   "metadata": {
    "collapsed": true
   },
   "outputs": [],
   "source": [
    "zip_2003 = pd.read_csv('zip_2003.txt', delim_whitespace=True)\n",
    "zip_2003 = clean_text_old(zip_2003, 2003)"
   ]
  },
  {
   "cell_type": "code",
   "execution_count": 216,
   "metadata": {
    "collapsed": false
   },
   "outputs": [],
   "source": [
    "zip_2002 = pd.read_csv('zip_2002.txt', delim_whitespace=True)\n",
    "zip_2002 = clean_text_old(zip_2002, 2002)"
   ]
  },
  {
   "cell_type": "code",
   "execution_count": 217,
   "metadata": {
    "collapsed": false
   },
   "outputs": [],
   "source": [
    "zip_2001 = pd.read_csv('zip_2001.txt', delim_whitespace=True)\n",
    "zip_2001 = clean_text_old(zip_2001, 2001)\n",
    "zip_2001.loc[zip_2001['State']=='TRUST TERRITORIES (GUAM)', 'State'] = \"GUAM\""
   ]
  },
  {
   "cell_type": "code",
   "execution_count": 218,
   "metadata": {
    "collapsed": false
   },
   "outputs": [],
   "source": [
    "zip_2000 = pd.read_csv('zip_2000.txt', delim_whitespace=True)\n",
    "zip_2000 = clean_text_old(zip_2000, 2000)\n",
    "zip_2000.loc[zip_2000['State']=='TRUST TERRITORIES (GUAM)', 'State'] = \"GUAM\""
   ]
  },
  {
   "cell_type": "code",
   "execution_count": 219,
   "metadata": {
    "collapsed": false
   },
   "outputs": [],
   "source": [
    "zip_all = pd.concat([zip_2000, zip_2001, zip_2002, zip_2003, zip_2004, zip_2005, zip_2006, zip_2007, zip_2008, zip_2009, zip_2010, zip_2011, \n",
    "                     zip_2012, zip_2013, zip_2014, zip_2015, zip_2016], ignore_index=True)\n",
    "zip_all.to_csv('retail_by_zip.csv', index=False)"
   ]
  },
  {
   "cell_type": "code",
   "execution_count": null,
   "metadata": {
    "collapsed": true
   },
   "outputs": [],
   "source": []
  },
  {
   "cell_type": "code",
   "execution_count": 491,
   "metadata": {
    "collapsed": false
   },
   "outputs": [
    {
     "data": {
      "image/png": "[encoded data removed]",
      "text/plain": [
       "<matplotlib.figure.Figure at 0x11d3f31d0>"
      ]
     },
     "metadata": {},
     "output_type": "display_data"
    }
   ],
   "source": [
    "fig, ax = plt.subplots()\n",
    "labels = []\n",
    "state = zip_all[(zip_all['State']==\"FLORIDA\")&(zip_all['Drug']==\"OXYCODONE\")&(zip_all['Zip']!='TOTAL')]\n",
    "state_zips = state['Zip'].unique()\n",
    "for z in state_zips:\n",
    "    labels.append(z)\n",
    "    state[state['Zip']==z].plot(kind='line', y='TOTAL', x='Year', ax=ax)\n",
    "\n",
    "ax.legend().set_visible(False)"
   ]
  },
  {
   "cell_type": "code",
   "execution_count": 25,
   "metadata": {
    "collapsed": false
   },
   "outputs": [],
   "source": [
    "def plot_state_drug(state, drug):\n",
    "    fig, ax = plt.subplots()\n",
    "    labels = []\n",
    "    df = zip_all[(zip_all['State']==state)&(zip_all['Drug']==drug)&(zip_all['Zip']!='TOTAL')]\n",
    "    zips = df['Zip'].unique()\n",
    "    for z in zips:\n",
    "        labels.append(z)\n",
    "        df[df['Zip']==z].plot(kind='line', y='TOTAL', x='Year', ax=ax)\n",
    "    ax.set(title=\"{} Retail Distribution of {}\".format(state,drug), xlabel = \"Year\", ylabel =\"Total Grams\")\n",
    "    ax.legend().set_visible(False)\n",
    "    \n",
    "def plot_state_drug_top(state, drug, number):\n",
    "    fig, ax = plt.subplots()\n",
    "    labels = []\n",
    "    df = zip_all[(zip_all['State']==state)&(zip_all['Drug']==drug)&(zip_all['Zip']!='TOTAL')]\n",
    "    means = df.groupby('Zip').mean().sort_values('TOTAL', ascending=False)\n",
    "    top_zips = means.head(number).index.tolist()\n",
    "    for z in top_zips:\n",
    "        labels.append(z)\n",
    "        df[df['Zip']==z].plot(kind='line', y='TOTAL', x='Year', ax=ax)\n",
    "    ax.set(title=\"{} Retail Distribution of {}, top {} zip codes\".format(state, drug, number), xlabel = \"Year\", ylabel =\"Total Grams\")\n",
    "    ax.legend(labels=labels, loc=2, fontsize=8)"
   ]
  },
  {
   "cell_type": "code",
   "execution_count": null,
   "metadata": {
    "collapsed": false
   },
   "outputs": [],
   "source": [
    "\n"
   ]
  },
  {
   "cell_type": "code",
   "execution_count": 220,
   "metadata": {
    "collapsed": false
   },
   "outputs": [],
   "source": [
    "\n",
    "def clean_activity_old(dfname, year):\n",
    "    dfname.rename(columns={'ARCOS': \"A\", '2':'B', '-': 'C', 'REPORT': 'D', '5':'E', 'RETAIL':'TOTAL', 'STATISTICAL': 'F'}, inplace=True)\n",
    "    dfname.insert(column='Year', loc=0, value=year)\n",
    "    dfname.insert(column='State', loc=1, value=None)\n",
    "    dfname.insert(column='Business Activity', loc=2, value=None)\n",
    "    dfname.insert(column='Drug', loc=3, value=None)\n",
    "\n",
    "    dfname.loc[dfname['A']=='STATE:', 'State']=dfname['B']\n",
    "    dfname.loc[(dfname['A']==\"STATE:\") & (dfname[\"C\"]!='BUSINESS'), 'State']=dfname[\"B\"]+\" \"+dfname['C']\n",
    "    dfname.loc[(dfname['A']==\"STATE:\") & (dfname[\"C\"]!='BUSINESS') & (dfname[\"C\"]!='ACTIVITY') & (dfname[\"D\"]!='BUSINESS'), 'State']=dfname[\"B\"]+\" \"+dfname['C']+\" \"+dfname['D']\n",
    "\n",
    "    dfname.loc[dfname['D']=='ACTIVITY:', 'Business Activity']=dfname['E']\n",
    "    dfname.loc[(dfname['D']=='ACTIVITY:') & (pd.notnull(dfname['F'])), 'Business Activity']=dfname['E']+\" \"+dfname['F']\n",
    "    dfname.loc[dfname['E']=='ACTIVITY:', 'Business Activity']=dfname['F']\n",
    "    dfname.loc[(dfname['E']=='ACTIVITY:') & (pd.notnull(dfname['SUMMARY'])), 'Business Activity']=dfname['F']+\" \"+dfname['SUMMARY']\n",
    "\n",
    "    dfname['State'] = dfname['State'].fillna(method='ffill')\n",
    "    dfname['Business Activity'] = dfname['Business Activity'].fillna(method='ffill')\n",
    "\n",
    "    drops = ['REPORTING', 'STATE:', 'NUMBER', 'DRUG', 'DATE:', 'PAGE:', 'ARCOS', 'STATISTICAL', 'REPORTING', 'BUSINESS']\n",
    "    for d in drops:\n",
    "        dfname = dfname.drop(dfname[dfname['A']==d].index)\n",
    "\n",
    "    for key in drug_codes.keys():\n",
    "        dfname.loc[(dfname['B']==key)&(pd.notnull(dfname['C'])), 'Drug'] = drug_codes[key]\n",
    "        dfname.loc[(dfname['C']==key)&(pd.notnull(dfname['D'])), 'Drug'] = drug_codes[key]\n",
    "        dfname.loc[(dfname['D']==key)&(pd.notnull(dfname['E'])), 'Drug'] = drug_codes[key]\n",
    "\n",
    "    dfname = dfname.drop(dfname.loc[pd.isnull(dfname['B'])].index)\n",
    "    for col in dfname.columns:\n",
    "        if len(dfname.loc[pd.notnull(dfname[col])])==0:\n",
    "            dfname=dfname.drop(col, axis=1)\n",
    "    dfname.rename(columns={'C': 'Registrants', 'D': 'Total grams sold', 'E': 'Avg grams/registrant'}, inplace=True)\n",
    "\n",
    "    dfname.loc[pd.notnull(dfname['F']), 'Registrants'] = dfname['Total grams sold']\n",
    "    dfname.loc[pd.notnull(dfname['F']), 'Total grams sold'] = dfname['Avg grams/registrant']\n",
    "    dfname.loc[pd.notnull(dfname['F']), 'Avg grams/registrant'] = dfname['F']\n",
    "    dfname = dfname.drop(['A', 'B', 'F'], axis=1)\n",
    "    dfname.loc[dfname['State']=='TRUST TERRITORIES (GUAM)', 'State'] = \"GUAM\"\n",
    "\n",
    "    cols = ['Registrants', 'Total grams sold', 'Avg grams/registrant']\n",
    "    for col in cols:\n",
    "        dfname[col]=dfname[col].str.replace(\",\",\"\").astype(float)\n",
    "    return dfname\n",
    "\n"
   ]
  },
  {
   "cell_type": "code",
   "execution_count": 221,
   "metadata": {
    "collapsed": true
   },
   "outputs": [],
   "source": [
    "activity_2000=pd.read_csv('activity_2000.txt', delim_whitespace=True)\n",
    "activity_2000 = clean_activity_old(activity_2000, 2000)\n",
    "activity_2000.loc[activity_2000['State']=='TRUST TERRITORIES (GUAM)', 'State'] = \"GUAM\""
   ]
  },
  {
   "cell_type": "code",
   "execution_count": 37,
   "metadata": {
    "collapsed": false
   },
   "outputs": [],
   "source": [
    "def clean_activity_old_2(dfname, year):\n",
    "\n",
    "    dfname.rename(columns={'ARCOS': \"A\", '2':'B', '-': 'C', 'REPORT': 'D', '5':'E', 'RETAIL':'TOTAL', 'STATISTICAL': 'F'}, inplace=True)\n",
    "    dfname.insert(column='Year', loc=0, value=year)\n",
    "    dfname.insert(column='State', loc=1, value=None)\n",
    "    dfname.insert(column='Business Activity', loc=2, value=None)\n",
    "    dfname.insert(column='Drug', loc=3, value=None)\n",
    "\n",
    "    dfname.loc[dfname['A']=='STATE:', 'State']=dfname['B']\n",
    "    dfname.loc[(dfname['A']==\"STATE:\") & (dfname[\"C\"]!='BUSINESS'), 'State']=dfname[\"B\"]+\" \"+dfname['C']\n",
    "    dfname.loc[(dfname['A']==\"STATE:\") & (dfname[\"C\"]!='BUSINESS') & (dfname[\"C\"]!='ACTIVITY') & (dfname[\"D\"]!='BUSINESS'), 'State']=dfname[\"B\"]+\" \"+dfname['C']+\" \"+dfname['D']\n",
    "\n",
    "    dfname.loc[dfname['D']=='ACTIVITY:', 'Business Activity']=dfname['E']\n",
    "    dfname.loc[(dfname['D']=='ACTIVITY:') & (pd.notnull(dfname['F'])), 'Business Activity']=dfname['E']+\" \"+dfname['F']\n",
    "    dfname.loc[dfname['E']=='ACTIVITY:', 'Business Activity']=dfname['F']\n",
    "    dfname.loc[(dfname['E']=='ACTIVITY:') & (pd.notnull(dfname['SUMMARY'])), 'Business Activity']=dfname['F']+\" \"+dfname['SUMMARY']\n",
    "\n",
    "    dfname['State'] = dfname['State'].fillna(method='ffill')\n",
    "    dfname['Business Activity'] = dfname['Business Activity'].fillna(method='ffill')\n",
    "\n",
    "    drops = ['REPORTING', 'STATE:', 'NUMBER', 'DRUG', 'DATE:', 'PAGE:', 'ARCOS', 'STATISTICAL', 'REPORTING', 'BUSINESS']\n",
    "    for d in drops:\n",
    "        dfname = dfname.drop(dfname[dfname['A']==d].index)\n",
    "\n",
    "    for key in drug_codes.keys():\n",
    "        dfname.loc[(dfname['B']==key)&(pd.notnull(dfname['C'])), 'Drug'] = drug_codes[key]\n",
    "        dfname.loc[(dfname['C']==key)&(pd.notnull(dfname['D'])), 'Drug'] = drug_codes[key]\n",
    "        dfname.loc[(dfname['D']==key)&(pd.notnull(dfname['E'])), 'Drug'] = drug_codes[key]\n",
    "\n",
    "    dfname = dfname.drop(dfname.loc[pd.isnull(dfname['B'])].index)\n",
    "    for col in dfname.columns:\n",
    "        if len(dfname.loc[pd.notnull(dfname[col])])==0:\n",
    "            dfname=dfname.drop(col, axis=1)\n",
    "    dfname.rename(columns={'C': 'Registrants', 'D': 'Total grams sold', 'E': 'Avg grams/registrant'}, inplace=True)\n",
    "\n",
    "    dfname.loc[pd.notnull(dfname['SUMMARY']), 'Registrants'] = dfname['Avg grams/registrant']\n",
    "    dfname.loc[pd.notnull(dfname['SUMMARY']), 'Total grams sold'] = dfname['F']\n",
    "    dfname.loc[pd.notnull(dfname['SUMMARY']), 'Avg grams/registrant'] = dfname['SUMMARY']\n",
    "\n",
    "    dfname.loc[(pd.notnull(dfname['F']))&(pd.isnull(dfname['SUMMARY'])), 'Registrants'] = dfname['Total grams sold']\n",
    "    dfname.loc[(pd.notnull(dfname['F']))&(pd.isnull(dfname['SUMMARY'])), 'Total grams sold'] = dfname['Avg grams/registrant']\n",
    "    dfname.loc[(pd.notnull(dfname['F']))&(pd.isnull(dfname['SUMMARY'])), 'Avg grams/registrant'] = dfname['F']\n",
    "    dfname = dfname.drop(['A', 'B', 'F', 'SUMMARY'], axis=1)\n",
    "\n",
    "    cols = ['Registrants', 'Total grams sold', 'Avg grams/registrant']\n",
    "    for col in cols:\n",
    "        dfname[col]=dfname[col].str.replace(\",\",\"\").astype(float)\n",
    "\n",
    "    return dfname\n",
    "\n",
    "    "
   ]
  },
  {
   "cell_type": "code",
   "execution_count": 223,
   "metadata": {
    "collapsed": false
   },
   "outputs": [],
   "source": [
    "activity_2001=pd.read_csv('activity_2001.txt', delim_whitespace=True)\n",
    "activity_2001 = clean_activity_old_2(activity_2001, 2001)"
   ]
  },
  {
   "cell_type": "code",
   "execution_count": 224,
   "metadata": {
    "collapsed": false
   },
   "outputs": [],
   "source": [
    "activity_2002=pd.read_csv('activity_2002.txt', delim_whitespace=True)\n",
    "activity_2002 = clean_activity_old(activity_2002, 2002)"
   ]
  },
  {
   "cell_type": "code",
   "execution_count": 225,
   "metadata": {
    "collapsed": false
   },
   "outputs": [],
   "source": [
    "activity_2003=pd.read_csv('activity_2003.txt', delim_whitespace=True)\n",
    "activity_2003 = clean_activity_old(activity_2003, 2003)"
   ]
  },
  {
   "cell_type": "code",
   "execution_count": 226,
   "metadata": {
    "collapsed": false
   },
   "outputs": [],
   "source": [
    "activity_2004=pd.read_csv('activity_2004.txt', delim_whitespace=True)\n",
    "activity_2004 = clean_activity_old(activity_2004, 2004)"
   ]
  },
  {
   "cell_type": "code",
   "execution_count": 227,
   "metadata": {
    "collapsed": false
   },
   "outputs": [],
   "source": [
    "activity_2005=pd.read_csv('activity_2005.txt', delim_whitespace=True)\n",
    "activity_2005 = clean_activity_old(activity_2005, 2005)"
   ]
  },
  {
   "cell_type": "code",
   "execution_count": 228,
   "metadata": {
    "collapsed": true
   },
   "outputs": [],
   "source": [
    "activity_codes = {'A': 'PHARMACIES', 'B': 'HOSPITALS', 'C': 'PRACTITIONERS', 'D': 'TEACHING INSTITUTIONS',\n",
    "                  'M': 'MID-LEVEL PRACTITIONERS', 'N-U': 'NARCOTIC TREATMENT PROGRAMS'}"
   ]
  },
  {
   "cell_type": "code",
   "execution_count": 229,
   "metadata": {
    "collapsed": false
   },
   "outputs": [],
   "source": [
    "def clean_activity(dfname, year):\n",
    "    dfname.rename(columns={'ARCOS': \"A\", '3':'B', '-': 'C', 'REPORT': 'D', '5':'E', \n",
    "                           'RETAIL':'TOTAL', 'STATISTICAL': 'F'}, inplace=True)\n",
    "    dfname.insert(column='Year', loc=0, value=year)\n",
    "    dfname.insert(column='State', loc=1, value=None)\n",
    "    dfname.insert(column='Business Activity', loc=2, value=None)\n",
    "    dfname.insert(column='Drug', loc=3, value=None)\n",
    "\n",
    "    dfname.loc[dfname['A'].str.contains('STATE:'), 'State'] = \\\n",
    "        dfname.loc[dfname['A'].str.contains('STATE:')]['A'].str.split(\":\", expand=True)[1]\n",
    "    dfname.loc[(dfname['A'].str.contains('STATE:')) & (dfname['B']!='BUSINESS'), 'State']= \\\n",
    "        dfname.loc[dfname['A'].str.contains('STATE:')]['A'].str.split(\":\", expand=True)[1] +\" \"+ \\\n",
    "        dfname.loc[dfname['A'].str.contains('STATE:')]['B']\n",
    "    dfname.loc[(dfname['A'].str.contains('STATE:')) & (dfname['B']!='BUSINESS') & (dfname['C']!='BUSINESS'), 'State']= \\\n",
    "        dfname.loc[dfname['A'].str.contains('STATE:')]['A'].str.split(\":\", expand=True)[1] +\" \"+ \\\n",
    "        dfname.loc[dfname['A'].str.contains('STATE:')]['B'] +\" \"+dfname.loc[dfname['A'].str.contains('STATE:')]['C']\n",
    "\n",
    "    dfname.loc[dfname['B']=='BUSINESS', 'Business Activity']= \\\n",
    "        dfname.loc[dfname['B']=='BUSINESS']['C'].str.split(':', expand=True)[1]\n",
    "    dfname.loc[dfname['C']=='BUSINESS', 'Business Activity']= \\\n",
    "        dfname.loc[dfname['C']=='BUSINESS']['D'].str.split(':', expand=True)[1]\n",
    "\n",
    "    for key in activity_codes.keys():\n",
    "        dfname.loc[dfname['Business Activity']==key, 'Business Activity']=activity_codes[key]\n",
    "\n",
    "    dfname['State'] = dfname['State'].fillna(method='ffill')\n",
    "    dfname['Business Activity'] = dfname['Business Activity'].fillna(method='ffill')\n",
    "\n",
    "    drops = ['PERIOD:', 'Date:', 'BUSINESS', 'NAME', 'SUMMARY', 'OF', '3']\n",
    "    for d in drops:\n",
    "        dfname = dfname.drop(dfname[dfname['B']==d].index)\n",
    "        dfname = dfname.drop(dfname[dfname['C']==d].index)\n",
    "\n",
    "    for key in drug_codes.keys():\n",
    "        dfname.loc[(dfname['A']==key)&(pd.notnull(dfname['D'])), 'Drug'] = drug_codes[key]\n",
    "        dfname.loc[(dfname['B']==key)&(pd.notnull(dfname['E'])), 'Drug'] = drug_codes[key]\n",
    "        dfname.loc[(dfname['C']==key)&(pd.notnull(dfname['F'])), 'Drug'] = drug_codes[key]\n",
    "        dfname.loc[(dfname['D']==key)&(pd.notnull(dfname['SUMMARY'])), 'Drug'] = drug_codes[key]\n",
    "        dfname.loc[(dfname['E']==key)&(pd.notnull(dfname['FOR'])), 'Drug'] = drug_codes[key]\n",
    "        \n",
    "    dfname = dfname.drop(dfname.loc[pd.isnull(dfname['B'])].index)\n",
    "    for col in dfname.columns:\n",
    "        if len(dfname.loc[pd.notnull(dfname[col])])==0:\n",
    "            dfname=dfname.drop(col, axis=1)\n",
    "    dfname.rename(columns={'C': 'Registrants', 'D': 'Total grams sold', 'E': 'Avg grams/registrant'}, inplace=True)\n",
    "\n",
    "    dfname.loc[pd.notnull(dfname['SUMMARY']), 'Registrants'] = dfname['Avg grams/registrant']\n",
    "    dfname.loc[pd.notnull(dfname['SUMMARY']), 'Total grams sold'] = dfname['F']\n",
    "    dfname.loc[pd.notnull(dfname['SUMMARY']), 'Avg grams/registrant'] = dfname['SUMMARY']\n",
    "\n",
    "    dfname.loc[(pd.notnull(dfname['F']))&(pd.isnull(dfname['SUMMARY'])), 'Registrants'] = dfname['Total grams sold']\n",
    "    dfname.loc[(pd.notnull(dfname['F']))&(pd.isnull(dfname['SUMMARY'])), 'Total grams sold'] = dfname['Avg grams/registrant']\n",
    "    dfname.loc[(pd.notnull(dfname['F']))&(pd.isnull(dfname['SUMMARY'])), 'Avg grams/registrant'] = dfname['F']\n",
    "\n",
    "\n",
    "    dfname = dfname.drop(['A', 'B', 'F', 'SUMMARY'], axis=1)\n",
    "\n",
    "    cols = ['Registrants', 'Total grams sold', 'Avg grams/registrant']\n",
    "    for col in cols:\n",
    "        dfname[col]=dfname[col].str.replace(\",\",\"\").astype(float)\n",
    "\n",
    "    return dfname"
   ]
  },
  {
   "cell_type": "code",
   "execution_count": 230,
   "metadata": {
    "collapsed": false
   },
   "outputs": [],
   "source": [
    "activity_2006=pd.read_csv('activity_2006.txt', delim_whitespace=True)\n",
    "activity_2006 = clean_activity(activity_2006, 2006)"
   ]
  },
  {
   "cell_type": "code",
   "execution_count": null,
   "metadata": {
    "collapsed": false
   },
   "outputs": [],
   "source": [
    "\n"
   ]
  },
  {
   "cell_type": "code",
   "execution_count": 231,
   "metadata": {
    "collapsed": false
   },
   "outputs": [],
   "source": [
    "def clean_activity_2(dfname, year):\n",
    "    dfname.rename(columns={'ARCOS': \"A\", '3':'B', '-': 'C', 'REPORT': 'D', '5':'E', \n",
    "                           'RETAIL':'TOTAL', 'STATISTICAL': 'F'}, inplace=True)\n",
    "    dfname.insert(column='Year', loc=0, value=year)\n",
    "    dfname.insert(column='State', loc=1, value=None)\n",
    "    dfname.insert(column='Business Activity', loc=2, value=None)\n",
    "    dfname.insert(column='Drug', loc=3, value=None)\n",
    "\n",
    "    dfname.loc[dfname['A'].str.contains('STATE:'), 'State'] = \\\n",
    "        dfname.loc[dfname['A'].str.contains('STATE:')]['A'].str.split(\":\", expand=True)[1]\n",
    "    dfname.loc[(dfname['A'].str.contains('STATE:')) & (dfname['B']!='BUSINESS'), 'State']= \\\n",
    "        dfname.loc[dfname['A'].str.contains('STATE:')]['A'].str.split(\":\", expand=True)[1] +\" \"+ \\\n",
    "        dfname.loc[dfname['A'].str.contains('STATE:')]['B']\n",
    "    dfname.loc[(dfname['A'].str.contains('STATE:')) & (dfname['B']!='BUSINESS') & (dfname['C']!='BUSINESS'), 'State']= \\\n",
    "        dfname.loc[dfname['A'].str.contains('STATE:')]['A'].str.split(\":\", expand=True)[1] +\" \"+ \\\n",
    "        dfname.loc[dfname['A'].str.contains('STATE:')]['B'] +\" \"+dfname.loc[dfname['A'].str.contains('STATE:')]['C']\n",
    "\n",
    "    dfname.loc[dfname['B']=='BUSINESS', 'Business Activity']= \\\n",
    "        dfname.loc[dfname['B']=='BUSINESS']['C'].str.split(':', expand=True)[1]\n",
    "    dfname.loc[dfname['C']=='BUSINESS', 'Business Activity']= \\\n",
    "        dfname.loc[dfname['C']=='BUSINESS']['D'].str.split(':', expand=True)[1]\n",
    "\n",
    "    for key in activity_codes.keys():\n",
    "        dfname.loc[dfname['Business Activity']==key, 'Business Activity']=activity_codes[key]\n",
    "\n",
    "    dfname['State'] = dfname['State'].fillna(method='ffill')\n",
    "    dfname['Business Activity'] = dfname['Business Activity'].fillna(method='ffill')\n",
    "\n",
    "    drops = ['PERIOD:', 'Date:', 'BUSINESS', 'NAME', 'SUMMARY', 'OF', '3']\n",
    "    for d in drops:\n",
    "        dfname = dfname.drop(dfname[dfname['B']==d].index)\n",
    "        dfname = dfname.drop(dfname[dfname['C']==d].index)\n",
    "\n",
    "    for key in drug_codes.keys():\n",
    "        dfname.loc[(dfname['A']==key)&(pd.notnull(dfname['D'])), 'Drug'] = drug_codes[key]\n",
    "        dfname.loc[(dfname['B']==key)&(pd.notnull(dfname['E'])), 'Drug'] = drug_codes[key]\n",
    "        dfname.loc[(dfname['C']==key)&(pd.notnull(dfname['F'])), 'Drug'] = drug_codes[key]\n",
    "        dfname.loc[(dfname['D']==key)&(pd.notnull(dfname['SUMMARY'])), 'Drug'] = drug_codes[key]\n",
    "        dfname.loc[(dfname['E']==key)&(pd.notnull(dfname['FOR'])), 'Drug'] = drug_codes[key]\n",
    "\n",
    "    dfname = dfname.drop(dfname.loc[pd.isnull(dfname['B'])].index)\n",
    "    for col in dfname.columns:\n",
    "        if len(dfname.loc[pd.notnull(dfname[col])])==0:\n",
    "            dfname=dfname.drop(col, axis=1)\n",
    "    dfname.rename(columns={'C': 'Registrants', 'D': 'Total grams sold', 'E': 'Avg grams/registrant'}, inplace=True)\n",
    "\n",
    "    dfname.loc[pd.notnull(dfname['FOR']), 'Registrants'] = dfname['F']\n",
    "    dfname.loc[pd.notnull(dfname['FOR']), 'Total grams sold'] = dfname['SUMMARY']\n",
    "    dfname.loc[pd.notnull(dfname['FOR']), 'Avg grams/registrant'] = dfname['FOR']\n",
    "\n",
    "    dfname.loc[(pd.notnull(dfname['SUMMARY']))&(pd.isnull(dfname['FOR'])), 'Registrants'] = dfname['Avg grams/registrant']\n",
    "    dfname.loc[(pd.notnull(dfname['SUMMARY']))&(pd.isnull(dfname['FOR'])), 'Total grams sold'] = dfname['F']\n",
    "    dfname.loc[(pd.notnull(dfname['SUMMARY']))&(pd.isnull(dfname['FOR'])), 'Avg grams/registrant'] = dfname['SUMMARY']\n",
    "\n",
    "    dfname.loc[(pd.notnull(dfname['F']))&(pd.isnull(dfname['SUMMARY'])), 'Registrants'] = dfname['Total grams sold']\n",
    "    dfname.loc[(pd.notnull(dfname['F']))&(pd.isnull(dfname['SUMMARY'])), 'Total grams sold'] = dfname['Avg grams/registrant']\n",
    "    dfname.loc[(pd.notnull(dfname['F']))&(pd.isnull(dfname['SUMMARY'])), 'Avg grams/registrant'] = dfname['F']\n",
    "\n",
    "\n",
    "    dfname = dfname.drop(['A', 'B', 'F', 'SUMMARY', 'FOR'], axis=1)\n",
    "\n",
    "    cols = ['Registrants', 'Total grams sold', 'Avg grams/registrant']\n",
    "    for col in cols:\n",
    "        dfname[col]=dfname[col].str.replace(\",\",\"\").astype(float)\n",
    "\n",
    "    return dfname\n"
   ]
  },
  {
   "cell_type": "code",
   "execution_count": 232,
   "metadata": {
    "collapsed": false
   },
   "outputs": [],
   "source": [
    "activity_2007=pd.read_csv('activity_2007.txt', delim_whitespace=True)\n",
    "activity_2007 = clean_activity_2(activity_2007, 2007)"
   ]
  },
  {
   "cell_type": "code",
   "execution_count": 233,
   "metadata": {
    "collapsed": false
   },
   "outputs": [],
   "source": [
    "activity_2008=pd.read_csv('activity_2008.txt', delim_whitespace=True)\n",
    "activity_2008 = clean_activity_2(activity_2008, 2008)"
   ]
  },
  {
   "cell_type": "code",
   "execution_count": 234,
   "metadata": {
    "collapsed": false
   },
   "outputs": [],
   "source": [
    "activity_2009=pd.read_csv('activity_2009.txt', delim_whitespace=True)\n",
    "activity_2009 = clean_activity_2(activity_2009, 2009)\n",
    "activity_2009.loc[2545, ['Drug', 'Registrants', 'Total grams sold', 'Avg grams/registrant']] = \\\n",
    "    [drug_codes['2012'], 1.0, 16896952.51, 16896952.51]"
   ]
  },
  {
   "cell_type": "code",
   "execution_count": 235,
   "metadata": {
    "collapsed": false
   },
   "outputs": [],
   "source": [
    "activity_2010=pd.read_csv('activity_2010.txt', delim_whitespace=True)\n",
    "activity_2010 = clean_activity_2(activity_2010, 2010)\n",
    "activity_2010.loc[2538, ['Drug', 'Registrants', 'Total grams sold', 'Avg grams/registrant']] = \\\n",
    "    [drug_codes['2012'], 1.0, 16120104.19, 16120104.19]"
   ]
  },
  {
   "cell_type": "code",
   "execution_count": 236,
   "metadata": {
    "collapsed": false
   },
   "outputs": [],
   "source": [
    "activity_2011=pd.read_csv('activity_2011.txt', delim_whitespace=True)\n",
    "activity_2011 = clean_activity(activity_2011, 2011)\n",
    "activity_2011.loc[2538, ['Drug', 'Registrants', 'Total grams sold', 'Avg grams/registrant']] = \\\n",
    "    [drug_codes['2012'], 1.0, 17577800.06, 17577800.06]"
   ]
  },
  {
   "cell_type": "code",
   "execution_count": 237,
   "metadata": {
    "collapsed": false
   },
   "outputs": [],
   "source": [
    "activity_2012=pd.read_csv('activity_2012.txt', delim_whitespace=True)\n",
    "activity_2012 = clean_activity_2(activity_2012, 2012)"
   ]
  },
  {
   "cell_type": "code",
   "execution_count": 238,
   "metadata": {
    "collapsed": false
   },
   "outputs": [],
   "source": [
    "activity_2013=pd.read_csv('activity_2013.txt', delim_whitespace=True)\n",
    "activity_2013 = clean_activity_2(activity_2013, 2013)"
   ]
  },
  {
   "cell_type": "code",
   "execution_count": 239,
   "metadata": {
    "collapsed": false
   },
   "outputs": [],
   "source": [
    "activity_2014=pd.read_csv('activity_2014.txt', delim_whitespace=True)\n",
    "activity_2014 = clean_activity_2(activity_2014, 2014)"
   ]
  },
  {
   "cell_type": "code",
   "execution_count": 240,
   "metadata": {
    "collapsed": false
   },
   "outputs": [],
   "source": [
    "activity_2015=pd.read_csv('activity_2015.txt', delim_whitespace=True)\n",
    "activity_2015 = clean_activity_2(activity_2015, 2015)"
   ]
  },
  {
   "cell_type": "code",
   "execution_count": 241,
   "metadata": {
    "collapsed": false
   },
   "outputs": [],
   "source": [
    "activity_2016=pd.read_csv('activity_2016.txt', delim_whitespace=True)\n",
    "def clean_activity_2016(dfname, year):\n",
    "    dfname.rename(columns={'ARCOS': \"A\", '3':'B', '-': 'C', 'REPORT': 'D', '5':'E', \n",
    "                           'RETAIL':'TOTAL', 'STATISTICAL': 'F'}, inplace=True)\n",
    "    dfname.insert(column='Year', loc=0, value=year)\n",
    "    dfname.insert(column='State', loc=1, value=None)\n",
    "    dfname.insert(column='Business Activity', loc=2, value=None)\n",
    "    dfname.insert(column='Drug', loc=3, value=None)\n",
    "\n",
    "    dfname.loc[dfname['A'].str.contains('STATE:'), 'State'] = \\\n",
    "        dfname.loc[dfname['A'].str.contains('STATE:')]['A'].str.split(\":\", expand=True)[1]\n",
    "    dfname.loc[(dfname['A'].str.contains('STATE:')) & (dfname['B']!='BUSINESS'), 'State']= \\\n",
    "        dfname.loc[dfname['A'].str.contains('STATE:')]['A'].str.split(\":\", expand=True)[1] +\" \"+ \\\n",
    "        dfname.loc[dfname['A'].str.contains('STATE:')]['B']\n",
    "    dfname.loc[(dfname['A'].str.contains('STATE:')) & (dfname['B']!='BUSINESS') & (dfname['C']!='BUSINESS'), 'State']= \\\n",
    "        dfname.loc[dfname['A'].str.contains('STATE:')]['A'].str.split(\":\", expand=True)[1] +\" \"+ \\\n",
    "        dfname.loc[dfname['A'].str.contains('STATE:')]['B'] +\" \"+dfname.loc[dfname['A'].str.contains('STATE:')]['C']\n",
    "\n",
    "    dfname.loc[dfname['B']=='BUSINESS', 'Business Activity']= \\\n",
    "        dfname.loc[dfname['B']=='BUSINESS']['C'].str.split(':', expand=True)[1]\n",
    "    dfname.loc[dfname['C']=='BUSINESS', 'Business Activity']= \\\n",
    "        dfname.loc[dfname['C']=='BUSINESS']['D'].str.split(':', expand=True)[1]\n",
    "\n",
    "    for key in activity_codes.keys():\n",
    "        dfname.loc[dfname['Business Activity']==key, 'Business Activity']=activity_codes[key]\n",
    "\n",
    "    dfname['State'] = dfname['State'].fillna(method='ffill')\n",
    "    dfname['Business Activity'] = dfname['Business Activity'].fillna(method='ffill')\n",
    "\n",
    "    drops = ['PERIOD:', 'Date:', 'BUSINESS', 'NAME', 'SUMMARY', 'OF', '3']\n",
    "    for d in drops:\n",
    "        dfname = dfname.drop(dfname[dfname['B']==d].index)\n",
    "        dfname = dfname.drop(dfname[dfname['C']==d].index)\n",
    "\n",
    "    for key in drug_codes.keys():\n",
    "        dfname.loc[(dfname['A']==key)&(pd.notnull(dfname['D'])), 'Drug'] = drug_codes[key]\n",
    "        dfname.loc[(dfname['B']==key)&(pd.notnull(dfname['E'])), 'Drug'] = drug_codes[key]\n",
    "        dfname.loc[(dfname['C']==key)&(pd.notnull(dfname['F'])), 'Drug'] = drug_codes[key]\n",
    "        dfname.loc[(dfname['D']==key)&(pd.notnull(dfname['SUMMARY'])), 'Drug'] = drug_codes[key]\n",
    "        dfname.loc[(dfname['E']==key)&(pd.notnull(dfname['FOR'])), 'Drug'] = drug_codes[key]\n",
    "        dfname.loc[(dfname['FOR']==key)&(pd.notnull(dfname['PURCHASES'])), 'Drug'] = drug_codes[key]\n",
    "\n",
    "    dfname = dfname.drop(dfname.loc[pd.isnull(dfname['B'])].index)\n",
    "    for col in dfname.columns:\n",
    "        if len(dfname.loc[pd.notnull(dfname[col])])==0:\n",
    "            dfname=dfname.drop(col, axis=1)\n",
    "    dfname.rename(columns={'C': 'Registrants', 'D': 'Total grams sold', 'E': 'Avg grams/registrant'}, inplace=True)\n",
    "\n",
    "    dfname.loc[pd.notnull(dfname['PURCHASES']), 'Registrants'] = dfname['TOTAL']\n",
    "    dfname.loc[pd.notnull(dfname['PURCHASES']), 'Total grams sold'] = dfname['DRUG']\n",
    "    dfname.loc[pd.notnull(dfname['PURCHASES']), 'Avg grams/registrant'] = dfname['PURCHASES']\n",
    "    dfname.loc[(pd.notnull(dfname['FOR']))&(pd.isnull(dfname['TOTAL'])), 'Registrants'] = dfname['F']\n",
    "    dfname.loc[(pd.notnull(dfname['FOR']))&(pd.isnull(dfname['TOTAL'])), 'Total grams sold'] = dfname['SUMMARY']\n",
    "    dfname.loc[(pd.notnull(dfname['FOR']))&(pd.isnull(dfname['TOTAL'])), 'Avg grams/registrant'] = dfname['FOR']\n",
    "\n",
    "    dfname.loc[(pd.notnull(dfname['SUMMARY']))&(pd.isnull(dfname['FOR'])), 'Registrants'] = dfname['Avg grams/registrant']\n",
    "    dfname.loc[(pd.notnull(dfname['SUMMARY']))&(pd.isnull(dfname['FOR'])), 'Total grams sold'] = dfname['F']\n",
    "    dfname.loc[(pd.notnull(dfname['SUMMARY']))&(pd.isnull(dfname['FOR'])), 'Avg grams/registrant'] = dfname['SUMMARY']\n",
    "\n",
    "    dfname.loc[(pd.notnull(dfname['F']))&(pd.isnull(dfname['SUMMARY'])), 'Registrants'] = dfname['Total grams sold']\n",
    "    dfname.loc[(pd.notnull(dfname['F']))&(pd.isnull(dfname['SUMMARY'])), 'Total grams sold'] = dfname['Avg grams/registrant']\n",
    "    dfname.loc[(pd.notnull(dfname['F']))&(pd.isnull(dfname['SUMMARY'])), 'Avg grams/registrant'] = dfname['F']\n",
    "\n",
    "    dfname = dfname.drop(['A', 'B', 'F', 'SUMMARY', 'FOR', \"TOTAL\", 'DRUG', \"PURCHASES\"], axis=1)\n",
    "\n",
    "    cols = ['Registrants', 'Total grams sold', 'Avg grams/registrant']\n",
    "    for col in cols:\n",
    "        dfname[col]=dfname[col].str.replace(\",\",\"\").astype(float)\n",
    "\n",
    "    return dfname\n"
   ]
  },
  {
   "cell_type": "code",
   "execution_count": 242,
   "metadata": {
    "collapsed": false
   },
   "outputs": [],
   "source": [
    "activity_2016 = clean_activity_2016(activity_2016, 2016)\n",
    "activity_2016.loc[2386, ['Drug', 'Registrants', 'Total grams sold', 'Avg grams/registrant']] = \\\n",
    "    [drug_codes['2012'], 1.0, 25314852.67, 25314852.67]"
   ]
  },
  {
   "cell_type": "code",
   "execution_count": 243,
   "metadata": {
    "collapsed": false
   },
   "outputs": [],
   "source": [
    "activity_all = pd.concat([activity_2000, activity_2001, activity_2002, activity_2003, activity_2004, activity_2005,\n",
    "                          activity_2006, activity_2007, activity_2008, activity_2009, activity_2010, activity_2011, \n",
    "                     activity_2012, activity_2013, activity_2014, activity_2015, activity_2016], ignore_index=True)\n",
    "activity_all.to_csv('activity_by_state.csv', index=False)\n"
   ]
  },
  {
   "cell_type": "code",
   "execution_count": 152,
   "metadata": {
    "collapsed": true
   },
   "outputs": [],
   "source": []
  },
  {
   "cell_type": "code",
   "execution_count": 11,
   "metadata": {
    "collapsed": false
   },
   "outputs": [],
   "source": [
    "def clean_pop_old(dfname, year):\n",
    "    dfname=dfname.drop(dfname.loc[pd.isnull(dfname['REPORT'])].index)\n",
    "    dfname=dfname.drop(dfname[dfname['ARCOS']=='DATE:'].index)\n",
    "    dfname=dfname.drop(dfname[dfname['ARCOS']=='REPORTING'].index)\n",
    "    dfname=dfname.drop(dfname[dfname['ARCOS']=='QUARTERLY'].index)\n",
    "    dfname=dfname.drop(dfname[dfname['ARCOS']=='STATE'].index)\n",
    "    dfname=dfname.drop(dfname[dfname['ARCOS']=='ARCOS'].index)\n",
    "\n",
    "    dfname.rename(columns={'ARCOS': \"State\", '2':'Q1', '-': 'Q2', 'REPORT': 'Q3', '3':'Q4', 'QUARTERLY':'TOTAL TO DATE'}, inplace=True)\n",
    "\n",
    "\n",
    "    dfname.insert(column='Year', loc=0, value=year)\n",
    "    dfname.insert(column='Drug', loc=2, value=None)\n",
    "    for key in drug_codes.keys():\n",
    "        dfname.loc[(dfname['State']=='DRUG')&(dfname['Q2']==key), 'Drug'] = drug_codes[key]\n",
    "    dfname['Drug'] = dfname['Drug'].fillna(method='ffill')\n",
    "    dfname=dfname.drop(dfname[dfname['State']=='DRUG'].index)\n",
    "\n",
    "    dfname.loc[pd.notnull(dfname['DISTRIBUTION']), 'State']=dfname[\"State\"]+\" \"+dfname['Q1']\n",
    "    dfname.loc[pd.notnull(dfname['IN']), 'State']=dfname[\"State\"] +\" \"+dfname['Q2']\n",
    "\n",
    "    \n",
    "    start1 = ['Q1', 'Q2', 'Q3', 'Q4', 'TOTAL TO DATE']\n",
    "    shift1 = ['Q2', 'Q3', 'Q4', 'TOTAL TO DATE', 'DISTRIBUTION']\n",
    "    for i in range(0,5):\n",
    "        dfname.loc[pd.notnull(dfname['DISTRIBUTION']), start1[i]] = dfname[shift1[i]]\n",
    "        \n",
    "    start2 = ['Q1', 'Q2', 'Q3', 'Q4', 'TOTAL TO DATE']\n",
    "    shift2 = ['Q2', 'Q3', 'Q4', 'TOTAL TO DATE', 'IN']\n",
    "    for i in range(0,5):\n",
    "        dfname.loc[pd.notnull(dfname['IN']), start2[i]] = dfname[shift2[i]]        \n",
    "\n",
    "\n",
    "\n",
    "\n",
    "    dfname=dfname.drop(dfname[dfname['State']=='DRUG'].index)\n",
    "    dfname=dfname.drop(dfname[dfname['State']=='DRUG CODE:'].index)\n",
    "    dfname.loc[dfname['State']=='TRUST TERRITORIES (GUAM)', 'State'] = 'GUAM'\n",
    "    dfname = dfname[['Year', 'State', 'Drug', 'Q1', 'Q2', 'Q3', 'Q4', 'TOTAL TO DATE']]\n",
    "    cols = ['Q1', 'Q2', 'Q3', 'Q4', 'TOTAL TO DATE']\n",
    "    for col in cols:\n",
    "        dfname[col]=dfname[col].str.replace(\",\",\"\").astype(float)\n",
    "    return dfname"
   ]
  },
  {
   "cell_type": "code",
   "execution_count": 12,
   "metadata": {
    "collapsed": false
   },
   "outputs": [],
   "source": [
    "pop_2000 = pd.read_csv('population_2000.txt', delim_whitespace=True)\n",
    "pop_2000 = clean_pop_old(pop_2000, 2000)"
   ]
  },
  {
   "cell_type": "code",
   "execution_count": 13,
   "metadata": {
    "collapsed": false
   },
   "outputs": [],
   "source": [
    "pop_2001 = pd.read_csv('pop_2001.txt', delim_whitespace=True)\n",
    "pop_2001 = clean_pop_old(pop_2001, 2001)"
   ]
  },
  {
   "cell_type": "code",
   "execution_count": 14,
   "metadata": {
    "collapsed": false
   },
   "outputs": [],
   "source": [
    "pop_2002 = pd.read_csv('pop_2002.txt', delim_whitespace=True)\n",
    "pop_2002 = clean_pop_old(pop_2002, 2002)"
   ]
  },
  {
   "cell_type": "code",
   "execution_count": 15,
   "metadata": {
    "collapsed": false
   },
   "outputs": [],
   "source": [
    "pop_2003 = pd.read_csv('pop_2003.txt', delim_whitespace=True)\n",
    "pop_2003 = clean_pop_old(pop_2003, 2003)"
   ]
  },
  {
   "cell_type": "code",
   "execution_count": 16,
   "metadata": {
    "collapsed": true
   },
   "outputs": [],
   "source": [
    "def clean_pop_oldv2(dfname, year):\n",
    "    dfname=dfname.drop(dfname.loc[pd.isnull(dfname['REPORT'])].index)\n",
    "    dfname=dfname.drop(dfname[dfname['ARCOS']=='DATE:'].index)\n",
    "    dfname=dfname.drop(dfname[dfname['ARCOS']=='REPORTING'].index)\n",
    "    dfname=dfname.drop(dfname[dfname['ARCOS']=='QUARTERLY'].index)\n",
    "    dfname=dfname.drop(dfname[dfname['ARCOS']=='STATE'].index)\n",
    "    dfname=dfname.drop(dfname[dfname['ARCOS']=='ARCOS'].index)\n",
    "\n",
    "    dfname.rename(columns={'ARCOS': \"State\", '2':'Q1', '-': 'Q2', 'REPORT': 'Q3', '3':'Q4', 'QUARTERLY':'TOTAL TO DATE'}, inplace=True)\n",
    "\n",
    "\n",
    "    dfname.insert(column='Year', loc=0, value=year)\n",
    "    dfname.insert(column='Drug', loc=2, value=None)\n",
    "    for key in drug_codes.keys():\n",
    "        dfname.loc[(dfname['State']=='DRUG')&(dfname['Q2']==key), 'Drug'] = drug_codes[key]\n",
    "    dfname['Drug'] = dfname['Drug'].fillna(method='ffill')\n",
    "    dfname=dfname.drop(dfname[dfname['State']=='DRUG'].index)\n",
    "\n",
    "    dfname.loc[pd.notnull(dfname['DRUG']), 'State']=dfname[\"State\"]+\" \"+dfname['Q1']\n",
    "    dfname.loc[pd.notnull(dfname['DISTRIBUTION']), 'State']=dfname[\"State\"] +\" \"+dfname['Q2']\n",
    "\n",
    "    \n",
    "    start1 = ['Q1', 'Q2', 'Q3', 'Q4', 'TOTAL TO DATE']\n",
    "    shift1 = ['Q2', 'Q3', 'Q4', 'TOTAL TO DATE', 'DRUG']\n",
    "    for i in range(0,5):\n",
    "        dfname.loc[pd.notnull(dfname['DRUG']), start1[i]] = dfname[shift1[i]]\n",
    "        \n",
    "    start2 = ['Q1', 'Q2', 'Q3', 'Q4', 'TOTAL TO DATE']\n",
    "    shift2 = ['Q2', 'Q3', 'Q4', 'TOTAL TO DATE', 'DISTRIBUTION']\n",
    "    for i in range(0,5):\n",
    "        dfname.loc[pd.notnull(dfname['DISTRIBUTION']), start2[i]] = dfname[shift2[i]]        \n",
    "\n",
    "\n",
    "\n",
    "\n",
    "    dfname=dfname.drop(dfname[dfname['State']=='DRUG'].index)\n",
    "    dfname=dfname.drop(dfname[dfname['State']=='DRUG CODE:'].index)\n",
    "    dfname.loc[dfname['State']=='TRUST TERRITORIES (GUAM)', 'State'] = 'GUAM'\n",
    "    dfname = dfname[['Year', 'State', 'Drug', 'Q1', 'Q2', 'Q3', 'Q4', 'TOTAL TO DATE']]\n",
    "    cols = ['Q1', 'Q2', 'Q3', 'Q4', 'TOTAL TO DATE']\n",
    "    for col in cols:\n",
    "        dfname[col]=dfname[col].str.replace(\",\",\"\").astype(float)\n",
    "    return dfname"
   ]
  },
  {
   "cell_type": "code",
   "execution_count": 17,
   "metadata": {
    "collapsed": false
   },
   "outputs": [],
   "source": [
    "pop_2004 = pd.read_csv('pop_2004.txt', delim_whitespace=True)\n",
    "\n",
    "pop_2004 = clean_pop_oldv2(pop_2004, 2004)"
   ]
  },
  {
   "cell_type": "code",
   "execution_count": 18,
   "metadata": {
    "collapsed": false
   },
   "outputs": [],
   "source": [
    "pop_2005 = pd.read_csv('pop_2005.txt', delim_whitespace=True)\n",
    "pop_2005 = clean_pop_oldv2(pop_2005, 2005)"
   ]
  },
  {
   "cell_type": "code",
   "execution_count": 19,
   "metadata": {
    "collapsed": true
   },
   "outputs": [],
   "source": [
    "def clean_pop_new(dfname, year):\n",
    "    dfname=dfname.drop(dfname.loc[pd.isnull(dfname['REPORT'])].index)\n",
    "    dfname=dfname.drop(dfname[dfname['ARCOS']=='DATE:'].index)\n",
    "    dfname=dfname.drop(dfname[dfname['ARCOS']=='REPORTING'].index)\n",
    "    dfname=dfname.drop(dfname[dfname['ARCOS']=='QUARTERLY'].index)\n",
    "    dfname=dfname.drop(dfname[dfname['ARCOS']=='STATE'].index)\n",
    "    dfname=dfname.drop(dfname[dfname['ARCOS']=='ARCOS'].index)\n",
    "\n",
    "    dfname.rename(columns={'ARCOS': \"State\", '3':'Q1', '-': 'Q2', 'REPORT': 'Q3', '3.1':'Q4', 'QUARTERLY':'TOTAL TO DATE'}, inplace=True)\n",
    "\n",
    "\n",
    "    dfname.insert(column='Year', loc=0, value=year)\n",
    "    dfname.insert(column='Drug', loc=2, value=None)\n",
    "    for key in drug_codes.keys():\n",
    "        dfname.loc[(dfname['State']=='DRUG')&(dfname['Q1'].str[5:]==key), 'Drug'] = drug_codes[key]\n",
    "    dfname['Drug'] = dfname['Drug'].fillna(method='ffill')\n",
    "    dfname=dfname.drop(dfname[dfname['State']=='DRUG'].index)\n",
    "\n",
    "    dfname.loc[pd.notnull(dfname['DRUG']), 'State']=dfname[\"State\"]+\" \"+dfname['Q1']\n",
    "    dfname.loc[pd.notnull(dfname['DISTRIBUTION']), 'State']=dfname[\"State\"] +\" \"+dfname['Q2']\n",
    "\n",
    "    \n",
    "    start1 = ['Q1', 'Q2', 'Q3', 'Q4', 'TOTAL TO DATE']\n",
    "    shift1 = ['Q2', 'Q3', 'Q4', 'TOTAL TO DATE', 'DRUG']\n",
    "    for i in range(0,5):\n",
    "        dfname.loc[pd.notnull(dfname['DRUG']), start1[i]] = dfname[shift1[i]]\n",
    "        \n",
    "    start2 = ['Q1', 'Q2', 'Q3', 'Q4', 'TOTAL TO DATE']\n",
    "    shift2 = ['Q2', 'Q3', 'Q4', 'TOTAL TO DATE', 'DISTRIBUTION']\n",
    "    for i in range(0,5):\n",
    "        dfname.loc[pd.notnull(dfname['DISTRIBUTION']), start2[i]] = dfname[shift2[i]]        \n",
    "\n",
    "\n",
    "\n",
    "\n",
    "    dfname=dfname.drop(dfname[dfname['State']=='DRUG'].index)\n",
    "    dfname=dfname.drop(dfname[dfname['State']=='DRUG CODE:'].index)\n",
    "    dfname.loc[dfname['State']=='TRUST TERRITORIES (GUAM)', 'State'] = 'GUAM'\n",
    "    dfname = dfname[['Year', 'State', 'Drug', 'Q1', 'Q2', 'Q3', 'Q4', 'TOTAL TO DATE']]\n",
    "    cols = ['Q1', 'Q2', 'Q3', 'Q4', 'TOTAL TO DATE']\n",
    "    for col in cols:\n",
    "        dfname[col]=dfname[col].str.replace(\",\",\"\").astype(float)\n",
    "    return dfname"
   ]
  },
  {
   "cell_type": "code",
   "execution_count": 20,
   "metadata": {
    "collapsed": false
   },
   "outputs": [],
   "source": [
    "pop_2006 = pd.read_csv('pop_2006.txt', delim_whitespace=True)\n",
    "pop_2006 = clean_pop_new(pop_2006, 2006)"
   ]
  },
  {
   "cell_type": "code",
   "execution_count": 21,
   "metadata": {
    "collapsed": false
   },
   "outputs": [],
   "source": [
    "pop_2007 = pd.read_csv('pop_2007.txt', delim_whitespace=True)\n",
    "pop_2007 = clean_pop_new(pop_2007, 2007)"
   ]
  },
  {
   "cell_type": "code",
   "execution_count": 22,
   "metadata": {
    "collapsed": false
   },
   "outputs": [],
   "source": [
    "pop_2008 = pd.read_csv('pop_2008.txt', delim_whitespace=True)\n",
    "pop_2008 = clean_pop_new(pop_2008, 2008)"
   ]
  },
  {
   "cell_type": "code",
   "execution_count": 23,
   "metadata": {
    "collapsed": false
   },
   "outputs": [],
   "source": [
    "pop_2009 = pd.read_csv('pop_2009.txt', delim_whitespace=True)\n",
    "pop_2009 = clean_pop_new(pop_2009, 2009)"
   ]
  },
  {
   "cell_type": "code",
   "execution_count": 24,
   "metadata": {
    "collapsed": false
   },
   "outputs": [],
   "source": [
    "pop_2010 = pd.read_csv('pop_2010.txt', delim_whitespace=True)\n",
    "pop_2010 = clean_pop_new(pop_2010, 2010)"
   ]
  },
  {
   "cell_type": "code",
   "execution_count": 34,
   "metadata": {
    "collapsed": false
   },
   "outputs": [
    {
     "data": {
      "text/html": [
       "<div>\n",
       "<table border=\"1\" class=\"dataframe\">\n",
       "  <thead>\n",
       "    <tr style=\"text-align: right;\">\n",
       "      <th></th>\n",
       "      <th>Year</th>\n",
       "      <th>State</th>\n",
       "      <th>Drug</th>\n",
       "      <th>Q1</th>\n",
       "      <th>Q2</th>\n",
       "      <th>Q3</th>\n",
       "      <th>Q4</th>\n",
       "      <th>TOTAL TO DATE</th>\n",
       "    </tr>\n",
       "  </thead>\n",
       "  <tbody>\n",
       "    <tr>\n",
       "      <th>5</th>\n",
       "      <td>2011</td>\n",
       "      <td>ALABAMA</td>\n",
       "      <td>AMPHETAMINE</td>\n",
       "      <td>1702327.15</td>\n",
       "      <td>1818963.26</td>\n",
       "      <td>1729651.01</td>\n",
       "      <td>1716517.21</td>\n",
       "      <td>6967458.63</td>\n",
       "    </tr>\n",
       "    <tr>\n",
       "      <th>6</th>\n",
       "      <td>2011</td>\n",
       "      <td>ALASKA</td>\n",
       "      <td>AMPHETAMINE</td>\n",
       "      <td>653615.17</td>\n",
       "      <td>717566.21</td>\n",
       "      <td>727804.90</td>\n",
       "      <td>710114.46</td>\n",
       "      <td>2809100.73</td>\n",
       "    </tr>\n",
       "    <tr>\n",
       "      <th>7</th>\n",
       "      <td>2011</td>\n",
       "      <td>AMERICAN SAMOA</td>\n",
       "      <td>AMPHETAMINE</td>\n",
       "      <td>0.00</td>\n",
       "      <td>4826.83</td>\n",
       "      <td>2896.10</td>\n",
       "      <td>5792.19</td>\n",
       "      <td>13515.12</td>\n",
       "    </tr>\n",
       "    <tr>\n",
       "      <th>8</th>\n",
       "      <td>2011</td>\n",
       "      <td>ARIZONA</td>\n",
       "      <td>AMPHETAMINE</td>\n",
       "      <td>751197.73</td>\n",
       "      <td>798480.54</td>\n",
       "      <td>719581.32</td>\n",
       "      <td>773125.10</td>\n",
       "      <td>3042384.69</td>\n",
       "    </tr>\n",
       "    <tr>\n",
       "      <th>9</th>\n",
       "      <td>2011</td>\n",
       "      <td>ARKANSAS</td>\n",
       "      <td>AMPHETAMINE</td>\n",
       "      <td>1055651.02</td>\n",
       "      <td>1121024.07</td>\n",
       "      <td>1120384.13</td>\n",
       "      <td>1140850.49</td>\n",
       "      <td>4437909.70</td>\n",
       "    </tr>\n",
       "  </tbody>\n",
       "</table>\n",
       "</div>"
      ],
      "text/plain": [
       "   Year           State         Drug          Q1          Q2          Q3  \\\n",
       "5  2011         ALABAMA  AMPHETAMINE  1702327.15  1818963.26  1729651.01   \n",
       "6  2011          ALASKA  AMPHETAMINE   653615.17   717566.21   727804.90   \n",
       "7  2011  AMERICAN SAMOA  AMPHETAMINE        0.00     4826.83     2896.10   \n",
       "8  2011         ARIZONA  AMPHETAMINE   751197.73   798480.54   719581.32   \n",
       "9  2011        ARKANSAS  AMPHETAMINE  1055651.02  1121024.07  1120384.13   \n",
       "\n",
       "           Q4  TOTAL TO DATE  \n",
       "5  1716517.21     6967458.63  \n",
       "6   710114.46     2809100.73  \n",
       "7     5792.19       13515.12  \n",
       "8   773125.10     3042384.69  \n",
       "9  1140850.49     4437909.70  "
      ]
     },
     "execution_count": 34,
     "metadata": {},
     "output_type": "execute_result"
    }
   ],
   "source": [
    "pop_2011 = pd.read_csv('pop_2011.txt', delim_whitespace=True)\n",
    "pop_2011.loc[1520, 'DRUG'] = '1,459,041.39'\n",
    "pop_2011 = clean_pop_new(pop_2011, 2011)\n",
    "# alert! in 2011 the DEA reported in milligrams vs in grams...\n",
    "pop_2011.head()"
   ]
  },
  {
   "cell_type": "code",
   "execution_count": 35,
   "metadata": {
    "collapsed": false
   },
   "outputs": [
    {
     "data": {
      "text/html": [
       "<div>\n",
       "<table border=\"1\" class=\"dataframe\">\n",
       "  <thead>\n",
       "    <tr style=\"text-align: right;\">\n",
       "      <th></th>\n",
       "      <th>Year</th>\n",
       "      <th>State</th>\n",
       "      <th>Drug</th>\n",
       "      <th>Q1</th>\n",
       "      <th>Q2</th>\n",
       "      <th>Q3</th>\n",
       "      <th>Q4</th>\n",
       "      <th>TOTAL TO DATE</th>\n",
       "    </tr>\n",
       "  </thead>\n",
       "  <tbody>\n",
       "    <tr>\n",
       "      <th>5</th>\n",
       "      <td>2011</td>\n",
       "      <td>ALABAMA</td>\n",
       "      <td>AMPHETAMINE</td>\n",
       "      <td>1702.32715</td>\n",
       "      <td>1818.96326</td>\n",
       "      <td>1729.65101</td>\n",
       "      <td>1716.51721</td>\n",
       "      <td>6967.45863</td>\n",
       "    </tr>\n",
       "    <tr>\n",
       "      <th>6</th>\n",
       "      <td>2011</td>\n",
       "      <td>ALASKA</td>\n",
       "      <td>AMPHETAMINE</td>\n",
       "      <td>653.61517</td>\n",
       "      <td>717.56621</td>\n",
       "      <td>727.80490</td>\n",
       "      <td>710.11446</td>\n",
       "      <td>2809.10073</td>\n",
       "    </tr>\n",
       "    <tr>\n",
       "      <th>7</th>\n",
       "      <td>2011</td>\n",
       "      <td>AMERICAN SAMOA</td>\n",
       "      <td>AMPHETAMINE</td>\n",
       "      <td>0.00000</td>\n",
       "      <td>4.82683</td>\n",
       "      <td>2.89610</td>\n",
       "      <td>5.79219</td>\n",
       "      <td>13.51512</td>\n",
       "    </tr>\n",
       "    <tr>\n",
       "      <th>8</th>\n",
       "      <td>2011</td>\n",
       "      <td>ARIZONA</td>\n",
       "      <td>AMPHETAMINE</td>\n",
       "      <td>751.19773</td>\n",
       "      <td>798.48054</td>\n",
       "      <td>719.58132</td>\n",
       "      <td>773.12510</td>\n",
       "      <td>3042.38469</td>\n",
       "    </tr>\n",
       "    <tr>\n",
       "      <th>9</th>\n",
       "      <td>2011</td>\n",
       "      <td>ARKANSAS</td>\n",
       "      <td>AMPHETAMINE</td>\n",
       "      <td>1055.65102</td>\n",
       "      <td>1121.02407</td>\n",
       "      <td>1120.38413</td>\n",
       "      <td>1140.85049</td>\n",
       "      <td>4437.90970</td>\n",
       "    </tr>\n",
       "  </tbody>\n",
       "</table>\n",
       "</div>"
      ],
      "text/plain": [
       "   Year           State         Drug          Q1          Q2          Q3  \\\n",
       "5  2011         ALABAMA  AMPHETAMINE  1702.32715  1818.96326  1729.65101   \n",
       "6  2011          ALASKA  AMPHETAMINE   653.61517   717.56621   727.80490   \n",
       "7  2011  AMERICAN SAMOA  AMPHETAMINE     0.00000     4.82683     2.89610   \n",
       "8  2011         ARIZONA  AMPHETAMINE   751.19773   798.48054   719.58132   \n",
       "9  2011        ARKANSAS  AMPHETAMINE  1055.65102  1121.02407  1120.38413   \n",
       "\n",
       "           Q4  TOTAL TO DATE  \n",
       "5  1716.51721     6967.45863  \n",
       "6   710.11446     2809.10073  \n",
       "7     5.79219       13.51512  \n",
       "8   773.12510     3042.38469  \n",
       "9  1140.85049     4437.90970  "
      ]
     },
     "execution_count": 35,
     "metadata": {},
     "output_type": "execute_result"
    }
   ],
   "source": [
    "pop_2011[['Q1', 'Q2', 'Q3', 'Q4', 'TOTAL TO DATE']] = pop_2011[['Q1', 'Q2', 'Q3', 'Q4', 'TOTAL TO DATE']].divide(1000, axis=0)\n",
    "pop_2011.head()"
   ]
  },
  {
   "cell_type": "code",
   "execution_count": 28,
   "metadata": {
    "collapsed": false
   },
   "outputs": [],
   "source": [
    "pop_2012 = pd.read_csv('pop_2012.txt', delim_whitespace=True)\n",
    "pop_2012 = clean_pop_new(pop_2012, 2012)"
   ]
  },
  {
   "cell_type": "code",
   "execution_count": 29,
   "metadata": {
    "collapsed": false
   },
   "outputs": [],
   "source": [
    "pop_2013 = pd.read_csv('pop_2013.txt', delim_whitespace=True)\n",
    "pop_2013 = clean_pop_new(pop_2013, 2013)"
   ]
  },
  {
   "cell_type": "code",
   "execution_count": 30,
   "metadata": {
    "collapsed": false
   },
   "outputs": [],
   "source": [
    "pop_2014 = pd.read_csv('pop_2014.txt', delim_whitespace=True)\n",
    "pop_2014 = clean_pop_new(pop_2014, 2014)"
   ]
  },
  {
   "cell_type": "code",
   "execution_count": 31,
   "metadata": {
    "collapsed": false
   },
   "outputs": [],
   "source": [
    "pop_2015 = pd.read_csv('pop_2015.txt', delim_whitespace=True)\n",
    "pop_2015 = clean_pop_new(pop_2015, 2015)"
   ]
  },
  {
   "cell_type": "code",
   "execution_count": 32,
   "metadata": {
    "collapsed": false
   },
   "outputs": [],
   "source": [
    "pop_2016 = pd.read_csv('pop_2016.txt', delim_whitespace=True)\n",
    "pop_2016 = clean_pop_new(pop_2016, 2016)"
   ]
  },
  {
   "cell_type": "code",
   "execution_count": 36,
   "metadata": {
    "collapsed": false
   },
   "outputs": [],
   "source": [
    "pop_all = pd.concat([pop_2000, pop_2001, pop_2002, pop_2003, pop_2004, pop_2005,\n",
    "                          pop_2006, pop_2007, pop_2008, pop_2009, pop_2010, pop_2011, \n",
    "                     pop_2012, pop_2013, pop_2014, pop_2015, pop_2016], ignore_index=True)\n",
    "pop_all.to_csv('distribution_by_pop.csv', index=False)"
   ]
  },
  {
   "cell_type": "code",
   "execution_count": null,
   "metadata": {
    "collapsed": true
   },
   "outputs": [],
   "source": []
  }
 ],
 "metadata": {
  "anaconda-cloud": {},
  "kernelspec": {
   "display_name": "Python [default]",
   "language": "python",
   "name": "python3"
  },
  "language_info": {
   "codemirror_mode": {
    "name": "ipython",
    "version": 3
   },
   "file_extension": ".py",
   "mimetype": "text/x-python",
   "name": "python",
   "nbconvert_exporter": "python",
   "pygments_lexer": "ipython3",
   "version": "3.5.2"
  }
 },
 "nbformat": 4,
 "nbformat_minor": 1
}
