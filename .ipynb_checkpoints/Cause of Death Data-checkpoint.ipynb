{
 "cells": [
  {
   "cell_type": "code",
   "execution_count": 1,
   "metadata": {
    "collapsed": true
   },
   "outputs": [],
   "source": [
    "import pandas as pd\n",
    "import numpy as np\n",
    "import matplotlib.pyplot as plt\n",
    "%matplotlib inline"
   ]
  },
  {
   "cell_type": "code",
   "execution_count": 150,
   "metadata": {
    "collapsed": true
   },
   "outputs": [],
   "source": [
    "def clean_df(dfname):\n",
    "    dfname = dfname.drop(['Notes', 'Year Code', 'State Code'], axis=1)\n",
    "    dfname = dfname.drop(dfname.loc[pd.isnull(dfname['Year'])].index)\n",
    "    dfname.loc[pd.isnull(dfname['State']), 'State'] = 'Total'\n",
    "    cols = ['Deaths', \"Population\", 'Crude Rate', 'Age Adjusted Rate']\n",
    "    for col in cols:\n",
    "        if dfname[col].dtype != 'float64':\n",
    "            dfname.loc[dfname[col]=='Unreliable', col] = None\n",
    "            dfname[col] = dfname[col].astype(float)\n",
    "    return dfname"
   ]
  },
  {
   "cell_type": "code",
   "execution_count": 151,
   "metadata": {
    "collapsed": false
   },
   "outputs": [],
   "source": [
    "cancer_deaths = pd.read_csv('malignant_neoplasms.txt', sep='\\t')\n",
    "cancer_deaths = clean_df(cancer_deaths)\n"
   ]
  },
  {
   "cell_type": "code",
   "execution_count": 152,
   "metadata": {
    "collapsed": false
   },
   "outputs": [
    {
     "data": {
      "text/html": [
       "<div>\n",
       "<table border=\"1\" class=\"dataframe\">\n",
       "  <thead>\n",
       "    <tr style=\"text-align: right;\">\n",
       "      <th></th>\n",
       "      <th>Year</th>\n",
       "      <th>State</th>\n",
       "      <th>Deaths</th>\n",
       "      <th>Population</th>\n",
       "      <th>Crude Rate</th>\n",
       "      <th>Age Adjusted Rate</th>\n",
       "    </tr>\n",
       "  </thead>\n",
       "  <tbody>\n",
       "    <tr>\n",
       "      <th>879</th>\n",
       "      <td>2015.0</td>\n",
       "      <td>Washington</td>\n",
       "      <td>12687.0</td>\n",
       "      <td>7170351.0</td>\n",
       "      <td>176.9</td>\n",
       "      <td>156.4</td>\n",
       "    </tr>\n",
       "    <tr>\n",
       "      <th>880</th>\n",
       "      <td>2015.0</td>\n",
       "      <td>West Virginia</td>\n",
       "      <td>4839.0</td>\n",
       "      <td>1844128.0</td>\n",
       "      <td>262.4</td>\n",
       "      <td>190.4</td>\n",
       "    </tr>\n",
       "    <tr>\n",
       "      <th>881</th>\n",
       "      <td>2015.0</td>\n",
       "      <td>Wisconsin</td>\n",
       "      <td>11423.0</td>\n",
       "      <td>5771337.0</td>\n",
       "      <td>197.9</td>\n",
       "      <td>159.3</td>\n",
       "    </tr>\n",
       "    <tr>\n",
       "      <th>882</th>\n",
       "      <td>2015.0</td>\n",
       "      <td>Wyoming</td>\n",
       "      <td>931.0</td>\n",
       "      <td>586107.0</td>\n",
       "      <td>158.8</td>\n",
       "      <td>139.4</td>\n",
       "    </tr>\n",
       "    <tr>\n",
       "      <th>883</th>\n",
       "      <td>2015.0</td>\n",
       "      <td>Total</td>\n",
       "      <td>595930.0</td>\n",
       "      <td>321418820.0</td>\n",
       "      <td>185.4</td>\n",
       "      <td>158.5</td>\n",
       "    </tr>\n",
       "  </tbody>\n",
       "</table>\n",
       "</div>"
      ],
      "text/plain": [
       "       Year          State    Deaths   Population  Crude Rate  \\\n",
       "879  2015.0     Washington   12687.0    7170351.0       176.9   \n",
       "880  2015.0  West Virginia    4839.0    1844128.0       262.4   \n",
       "881  2015.0      Wisconsin   11423.0    5771337.0       197.9   \n",
       "882  2015.0        Wyoming     931.0     586107.0       158.8   \n",
       "883  2015.0          Total  595930.0  321418820.0       185.4   \n",
       "\n",
       "     Age Adjusted Rate  \n",
       "879              156.4  \n",
       "880              190.4  \n",
       "881              159.3  \n",
       "882              139.4  \n",
       "883              158.5  "
      ]
     },
     "execution_count": 152,
     "metadata": {},
     "output_type": "execute_result"
    }
   ],
   "source": [
    "cancer_deaths.tail()"
   ]
  },
  {
   "cell_type": "code",
   "execution_count": 153,
   "metadata": {
    "collapsed": true
   },
   "outputs": [],
   "source": [
    "diabetes_deaths = pd.read_csv('diabetes.txt', sep=\"\\t\")\n",
    "diabetes_deaths = clean_df(diabetes_deaths)"
   ]
  },
  {
   "cell_type": "code",
   "execution_count": 154,
   "metadata": {
    "collapsed": false
   },
   "outputs": [
    {
     "data": {
      "text/html": [
       "<div>\n",
       "<table border=\"1\" class=\"dataframe\">\n",
       "  <thead>\n",
       "    <tr style=\"text-align: right;\">\n",
       "      <th></th>\n",
       "      <th>Year</th>\n",
       "      <th>State</th>\n",
       "      <th>Deaths</th>\n",
       "      <th>Population</th>\n",
       "      <th>Crude Rate</th>\n",
       "      <th>Age Adjusted Rate</th>\n",
       "    </tr>\n",
       "  </thead>\n",
       "  <tbody>\n",
       "    <tr>\n",
       "      <th>879</th>\n",
       "      <td>2015.0</td>\n",
       "      <td>Washington</td>\n",
       "      <td>1811.0</td>\n",
       "      <td>7170351.0</td>\n",
       "      <td>25.3</td>\n",
       "      <td>22.4</td>\n",
       "    </tr>\n",
       "    <tr>\n",
       "      <th>880</th>\n",
       "      <td>2015.0</td>\n",
       "      <td>West Virginia</td>\n",
       "      <td>784.0</td>\n",
       "      <td>1844128.0</td>\n",
       "      <td>42.5</td>\n",
       "      <td>31.7</td>\n",
       "    </tr>\n",
       "    <tr>\n",
       "      <th>881</th>\n",
       "      <td>2015.0</td>\n",
       "      <td>Wisconsin</td>\n",
       "      <td>1382.0</td>\n",
       "      <td>5771337.0</td>\n",
       "      <td>23.9</td>\n",
       "      <td>19.4</td>\n",
       "    </tr>\n",
       "    <tr>\n",
       "      <th>882</th>\n",
       "      <td>2015.0</td>\n",
       "      <td>Wyoming</td>\n",
       "      <td>136.0</td>\n",
       "      <td>586107.0</td>\n",
       "      <td>23.2</td>\n",
       "      <td>20.8</td>\n",
       "    </tr>\n",
       "    <tr>\n",
       "      <th>883</th>\n",
       "      <td>2015.0</td>\n",
       "      <td>Total</td>\n",
       "      <td>79535.0</td>\n",
       "      <td>321418820.0</td>\n",
       "      <td>24.7</td>\n",
       "      <td>21.3</td>\n",
       "    </tr>\n",
       "  </tbody>\n",
       "</table>\n",
       "</div>"
      ],
      "text/plain": [
       "       Year          State   Deaths   Population  Crude Rate  \\\n",
       "879  2015.0     Washington   1811.0    7170351.0        25.3   \n",
       "880  2015.0  West Virginia    784.0    1844128.0        42.5   \n",
       "881  2015.0      Wisconsin   1382.0    5771337.0        23.9   \n",
       "882  2015.0        Wyoming    136.0     586107.0        23.2   \n",
       "883  2015.0          Total  79535.0  321418820.0        24.7   \n",
       "\n",
       "     Age Adjusted Rate  \n",
       "879               22.4  \n",
       "880               31.7  \n",
       "881               19.4  \n",
       "882               20.8  \n",
       "883               21.3  "
      ]
     },
     "execution_count": 154,
     "metadata": {},
     "output_type": "execute_result"
    }
   ],
   "source": [
    "diabetes_deaths.tail()"
   ]
  },
  {
   "cell_type": "code",
   "execution_count": 155,
   "metadata": {
    "collapsed": true
   },
   "outputs": [],
   "source": [
    "heart_disease_deaths = pd.read_csv('heart_disease.txt', sep='\\t')\n",
    "heart_disease_deaths = clean_df(heart_disease_deaths)"
   ]
  },
  {
   "cell_type": "code",
   "execution_count": 156,
   "metadata": {
    "collapsed": false
   },
   "outputs": [
    {
     "data": {
      "text/html": [
       "<div>\n",
       "<table border=\"1\" class=\"dataframe\">\n",
       "  <thead>\n",
       "    <tr style=\"text-align: right;\">\n",
       "      <th></th>\n",
       "      <th>Year</th>\n",
       "      <th>State</th>\n",
       "      <th>Deaths</th>\n",
       "      <th>Population</th>\n",
       "      <th>Crude Rate</th>\n",
       "      <th>Age Adjusted Rate</th>\n",
       "    </tr>\n",
       "  </thead>\n",
       "  <tbody>\n",
       "    <tr>\n",
       "      <th>879</th>\n",
       "      <td>2015.0</td>\n",
       "      <td>Washington</td>\n",
       "      <td>11025.0</td>\n",
       "      <td>7170351.0</td>\n",
       "      <td>153.8</td>\n",
       "      <td>137.6</td>\n",
       "    </tr>\n",
       "    <tr>\n",
       "      <th>880</th>\n",
       "      <td>2015.0</td>\n",
       "      <td>West Virginia</td>\n",
       "      <td>4727.0</td>\n",
       "      <td>1844128.0</td>\n",
       "      <td>256.3</td>\n",
       "      <td>191.3</td>\n",
       "    </tr>\n",
       "    <tr>\n",
       "      <th>881</th>\n",
       "      <td>2015.0</td>\n",
       "      <td>Wisconsin</td>\n",
       "      <td>11473.0</td>\n",
       "      <td>5771337.0</td>\n",
       "      <td>198.8</td>\n",
       "      <td>156.0</td>\n",
       "    </tr>\n",
       "    <tr>\n",
       "      <th>882</th>\n",
       "      <td>2015.0</td>\n",
       "      <td>Wyoming</td>\n",
       "      <td>1030.0</td>\n",
       "      <td>586107.0</td>\n",
       "      <td>175.7</td>\n",
       "      <td>159.4</td>\n",
       "    </tr>\n",
       "    <tr>\n",
       "      <th>883</th>\n",
       "      <td>2015.0</td>\n",
       "      <td>Total</td>\n",
       "      <td>633842.0</td>\n",
       "      <td>321418820.0</td>\n",
       "      <td>197.2</td>\n",
       "      <td>168.5</td>\n",
       "    </tr>\n",
       "  </tbody>\n",
       "</table>\n",
       "</div>"
      ],
      "text/plain": [
       "       Year          State    Deaths   Population  Crude Rate  \\\n",
       "879  2015.0     Washington   11025.0    7170351.0       153.8   \n",
       "880  2015.0  West Virginia    4727.0    1844128.0       256.3   \n",
       "881  2015.0      Wisconsin   11473.0    5771337.0       198.8   \n",
       "882  2015.0        Wyoming    1030.0     586107.0       175.7   \n",
       "883  2015.0          Total  633842.0  321418820.0       197.2   \n",
       "\n",
       "     Age Adjusted Rate  \n",
       "879              137.6  \n",
       "880              191.3  \n",
       "881              156.0  \n",
       "882              159.4  \n",
       "883              168.5  "
      ]
     },
     "execution_count": 156,
     "metadata": {},
     "output_type": "execute_result"
    }
   ],
   "source": [
    "heart_disease_deaths.tail()"
   ]
  },
  {
   "cell_type": "code",
   "execution_count": 157,
   "metadata": {
    "collapsed": false
   },
   "outputs": [],
   "source": [
    "drug_overdose_deaths = pd.read_csv('overdose_deaths.txt', sep=\"\\t\")\n",
    "drug_overdose_deaths = clean_df(drug_overdose_deaths)\n"
   ]
  },
  {
   "cell_type": "code",
   "execution_count": 158,
   "metadata": {
    "collapsed": false
   },
   "outputs": [
    {
     "data": {
      "text/html": [
       "<div>\n",
       "<table border=\"1\" class=\"dataframe\">\n",
       "  <thead>\n",
       "    <tr style=\"text-align: right;\">\n",
       "      <th></th>\n",
       "      <th>Year</th>\n",
       "      <th>State</th>\n",
       "      <th>Deaths</th>\n",
       "      <th>Population</th>\n",
       "      <th>Crude Rate</th>\n",
       "      <th>Age Adjusted Rate</th>\n",
       "    </tr>\n",
       "  </thead>\n",
       "  <tbody>\n",
       "    <tr>\n",
       "      <th>879</th>\n",
       "      <td>2015.0</td>\n",
       "      <td>Washington</td>\n",
       "      <td>1094.0</td>\n",
       "      <td>7170351.0</td>\n",
       "      <td>15.3</td>\n",
       "      <td>14.7</td>\n",
       "    </tr>\n",
       "    <tr>\n",
       "      <th>880</th>\n",
       "      <td>2015.0</td>\n",
       "      <td>West Virginia</td>\n",
       "      <td>725.0</td>\n",
       "      <td>1844128.0</td>\n",
       "      <td>39.3</td>\n",
       "      <td>41.5</td>\n",
       "    </tr>\n",
       "    <tr>\n",
       "      <th>881</th>\n",
       "      <td>2015.0</td>\n",
       "      <td>Wisconsin</td>\n",
       "      <td>878.0</td>\n",
       "      <td>5771337.0</td>\n",
       "      <td>15.2</td>\n",
       "      <td>15.5</td>\n",
       "    </tr>\n",
       "    <tr>\n",
       "      <th>882</th>\n",
       "      <td>2015.0</td>\n",
       "      <td>Wyoming</td>\n",
       "      <td>96.0</td>\n",
       "      <td>586107.0</td>\n",
       "      <td>16.4</td>\n",
       "      <td>16.4</td>\n",
       "    </tr>\n",
       "    <tr>\n",
       "      <th>883</th>\n",
       "      <td>2015.0</td>\n",
       "      <td>Total</td>\n",
       "      <td>52404.0</td>\n",
       "      <td>321418820.0</td>\n",
       "      <td>16.3</td>\n",
       "      <td>16.3</td>\n",
       "    </tr>\n",
       "  </tbody>\n",
       "</table>\n",
       "</div>"
      ],
      "text/plain": [
       "       Year          State   Deaths   Population  Crude Rate  \\\n",
       "879  2015.0     Washington   1094.0    7170351.0        15.3   \n",
       "880  2015.0  West Virginia    725.0    1844128.0        39.3   \n",
       "881  2015.0      Wisconsin    878.0    5771337.0        15.2   \n",
       "882  2015.0        Wyoming     96.0     586107.0        16.4   \n",
       "883  2015.0          Total  52404.0  321418820.0        16.3   \n",
       "\n",
       "     Age Adjusted Rate  \n",
       "879               14.7  \n",
       "880               41.5  \n",
       "881               15.5  \n",
       "882               16.4  \n",
       "883               16.3  "
      ]
     },
     "execution_count": 158,
     "metadata": {},
     "output_type": "execute_result"
    }
   ],
   "source": [
    "drug_overdose_deaths.tail()"
   ]
  },
  {
   "cell_type": "code",
   "execution_count": 159,
   "metadata": {
    "collapsed": true
   },
   "outputs": [],
   "source": [
    "mv_accident_deaths = pd.read_csv('motor_vehicle_accidents.txt', sep=\"\\t\")\n",
    "mv_accident_deaths = clean_df(mv_accident_deaths)"
   ]
  },
  {
   "cell_type": "code",
   "execution_count": 160,
   "metadata": {
    "collapsed": false
   },
   "outputs": [],
   "source": [
    "heroin_od_deaths = pd.read_csv('heroin_od.txt', sep=\"\\t\")\n",
    "heroin_od_deaths = clean_df(heroin_od_deaths)\n",
    "\n"
   ]
  },
  {
   "cell_type": "code",
   "execution_count": 161,
   "metadata": {
    "collapsed": false
   },
   "outputs": [],
   "source": [
    "opioid_od_deaths = pd.read_csv('other_opioid_od.txt', sep=\"\\t\")\n",
    "opioid_od_deaths = clean_df(opioid_od_deaths)\n"
   ]
  },
  {
   "cell_type": "code",
   "execution_count": 162,
   "metadata": {
    "collapsed": false
   },
   "outputs": [],
   "source": [
    "\n",
    "causes = {'Drug Overdose': drug_overdose_deaths, 'Heart Diseases': heart_disease_deaths, 'Diabetes': diabetes_deaths,\n",
    "          'Cancer': cancer_deaths, 'Motor Vehicle Accident': mv_accident_deaths, 'Heroin Overdose': heroin_od_deaths,\n",
    "         \"Other Opioid Overdose\": opioid_od_deaths}\n",
    "cols = ['Deaths', 'Population', 'Crude Rate', 'Age Adjusted Rate']\n",
    "for cause in causes.keys():\n",
    "    causes[cause].rename(columns={'Deaths': \"{} Deaths\".format(cause), 'Crude Rate': \"{} Crude Rate\".format(cause),\n",
    "                                  'Age Adjusted Rate': \"{} Age Adjusted Rate\".format(cause)}, inplace=True)\n",
    "\n"
   ]
  },
  {
   "cell_type": "code",
   "execution_count": null,
   "metadata": {
    "collapsed": false
   },
   "outputs": [],
   "source": []
  },
  {
   "cell_type": "code",
   "execution_count": 163,
   "metadata": {
    "collapsed": false
   },
   "outputs": [],
   "source": [
    "cause_of_death = drug_overdose_deaths.merge(right=heroin_od_deaths.drop('Population', axis=1), \n",
    "                                            how='left', left_on=['Year', 'State'], right_on=['Year', 'State'])\n",
    "\n",
    "\n",
    "for cause in causes.keys():\n",
    "    if cause != 'Drug Overdose' and cause != 'Heroin Overdose':        cause_of_death = cause_of_death.merge(right=causes[cause].drop(\"Population\", axis=1), how='left',\n",
    "                                              left_on=['Year', 'State'], right_on=['Year', 'State'])\n",
    "\n"
   ]
  },
  {
   "cell_type": "code",
   "execution_count": 165,
   "metadata": {
    "collapsed": false
   },
   "outputs": [],
   "source": [
    "cause_of_death.to_csv('cod_aggregate.csv')"
   ]
  },
  {
   "cell_type": "code",
   "execution_count": null,
   "metadata": {
    "collapsed": false
   },
   "outputs": [],
   "source": []
  },
  {
   "cell_type": "code",
   "execution_count": 41,
   "metadata": {
    "collapsed": false
   },
   "outputs": [
    {
     "data": {
      "text/plain": [
       "<matplotlib.legend.Legend at 0x1130cc0b8>"
      ]
     },
     "execution_count": 41,
     "metadata": {},
     "output_type": "execute_result"
    },
    {
     "data": {
      "image/png": "[encoded data removed]",
      "text/plain": [
       "<matplotlib.figure.Figure at 0x1130cccc0>"
      ]
     },
     "metadata": {},
     "output_type": "display_data"
    }
   ],
   "source": [
    "fig, ax = plt.subplots()\n",
    "labels = []\n",
    "for cause in causes.keys():\n",
    "    labels.append(cause)\n",
    "    cause_of_death[cause_of_death['State']=='Total'].plot(kind='line', y='{} Age Adjusted Rate'.format(cause), x='Year', ax=ax)\n",
    "\n",
    "ax.legend(labels=labels, loc=2, fontsize=8)"
   ]
  },
  {
   "cell_type": "code",
   "execution_count": 42,
   "metadata": {
    "collapsed": true
   },
   "outputs": [],
   "source": [
    "def plot_state_cod(state):\n",
    "    fig, ax = plt.subplots()\n",
    "    labels = []\n",
    "    for cause in causes.keys():\n",
    "        labels.append(cause)\n",
    "        cause_of_death[cause_of_death['State']==state].plot(kind='line', y='{} Age Adjusted Rate'.format(cause), x='Year', ax=ax)\n",
    "\n",
    "    ax.legend(labels=labels, loc=2, fontsize=8)\n",
    "    \n",
    "def plot_state_cod_list(state, cod_list):\n",
    "    fig, ax = plt.subplots()\n",
    "    labels = []\n",
    "    for cause in cod_list:\n",
    "        labels.append(cause)\n",
    "        cause_of_death[cause_of_death['State']==state].plot(kind='line', y='{} Age Adjusted Rate'.format(cause), x='Year', ax=ax)\n",
    "\n",
    "    ax.legend(labels=labels, loc=2, fontsize=8)"
   ]
  },
  {
   "cell_type": "code",
   "execution_count": 43,
   "metadata": {
    "collapsed": false
   },
   "outputs": [
    {
     "data": {
      "image/png": "[encoded data removed]",
      "text/plain": [
       "<matplotlib.figure.Figure at 0x11379b208>"
      ]
     },
     "metadata": {},
     "output_type": "display_data"
    }
   ],
   "source": [
    "plot_state_cod('Oregon')"
   ]
  },
  {
   "cell_type": "code",
   "execution_count": 44,
   "metadata": {
    "collapsed": false
   },
   "outputs": [
    {
     "data": {
      "image/png": "[encoded data removed]",
      "text/plain": [
       "<matplotlib.figure.Figure at 0x104512080>"
      ]
     },
     "metadata": {},
     "output_type": "display_data"
    }
   ],
   "source": [
    "plot_state_cod_list('Florida', ['Heroin Overdose', 'Drug Overdose', 'Other Opioid Overdose'])"
   ]
  },
  {
   "cell_type": "code",
   "execution_count": null,
   "metadata": {
    "collapsed": true
   },
   "outputs": [],
   "source": []
  },
  {
   "cell_type": "code",
   "execution_count": 113,
   "metadata": {
    "collapsed": false
   },
   "outputs": [],
   "source": [
    "def clean_age(dfname):\n",
    "    dfname.rename(columns={'Ten-Year Age Groups': 'Age Group'}, inplace=True)\n",
    "    dfname.loc[dfname['Notes']=='Total', 'Age Group'] = 'Total'\n",
    "    dfname.drop(['Notes', 'Year Code', 'State Code', 'Ten-Year Age Groups Code'], axis=1, inplace=True)\n",
    "    dfname = dfname.drop(dfname.loc[pd.isnull(dfname['State'])].index)\n",
    "    cols = ['Deaths', \"Population\", 'Crude Rate']\n",
    "    for col in cols:\n",
    "        if dfname[col].dtype != 'float64':\n",
    "            dfname.loc[dfname[col]=='Unreliable', col] = None\n",
    "            dfname.loc[dfname[col]=='Not Applicable', col] = None\n",
    "            dfname[col] = dfname[col].astype(float)  \n",
    "    return dfname\n",
    "\n",
    "\n"
   ]
  },
  {
   "cell_type": "code",
   "execution_count": 136,
   "metadata": {
    "collapsed": false
   },
   "outputs": [],
   "source": [
    "opioids_age = pd.read_csv('opioids_age.txt', sep='\\t')\n",
    "opioids_age= clean_age(opioids_age)"
   ]
  },
  {
   "cell_type": "code",
   "execution_count": 137,
   "metadata": {
    "collapsed": false
   },
   "outputs": [],
   "source": [
    "heroin_age = pd.read_csv('heroin_age.txt', sep=\"\\t\")\n",
    "heroin_age = clean_age(heroin_age)"
   ]
  },
  {
   "cell_type": "code",
   "execution_count": 138,
   "metadata": {
    "collapsed": false
   },
   "outputs": [],
   "source": [
    "drug_od_age = pd.read_csv('drug_od_age.txt', sep='\\t')\n",
    "drug_od_age = clean_age(drug_od_age)"
   ]
  },
  {
   "cell_type": "code",
   "execution_count": 139,
   "metadata": {
    "collapsed": false
   },
   "outputs": [],
   "source": [
    "cancer_age = pd.read_csv('cancer_age.txt', sep='\\t')\n",
    "cancer_age = clean_age(cancer_age)"
   ]
  },
  {
   "cell_type": "code",
   "execution_count": 140,
   "metadata": {
    "collapsed": false
   },
   "outputs": [],
   "source": [
    "mv_age = pd.read_csv('motor_vehicle_age.txt', sep='\\t')\n",
    "mv_age=clean_age(mv_age)"
   ]
  },
  {
   "cell_type": "code",
   "execution_count": 141,
   "metadata": {
    "collapsed": false
   },
   "outputs": [],
   "source": [
    "diabetes_age = pd.read_csv('diabetes_age.txt', sep='\\t')\n",
    "diabetes_age=clean_age(diabetes_age)"
   ]
  },
  {
   "cell_type": "code",
   "execution_count": 142,
   "metadata": {
    "collapsed": false
   },
   "outputs": [],
   "source": [
    "heart_disease_age = pd.read_csv('heart_disease_age.txt', sep='\\t')\n",
    "heart_disease_age = clean_age(heart_disease_age)"
   ]
  },
  {
   "cell_type": "code",
   "execution_count": 143,
   "metadata": {
    "collapsed": false
   },
   "outputs": [],
   "source": [
    "causes_age = {'Drug Overdose': drug_od_age, 'Heart Diseases': heart_disease_age, 'Diabetes': diabetes_age,\n",
    "          'Cancer': cancer_age, 'Motor Vehicle Accident': mv_age, 'Heroin Overdose': heroin_age,\n",
    "         \"Other Opioid Overdose\": opioids_age}\n",
    "for cause in causes_age.keys():\n",
    "    causes_age[cause].rename(columns={'Deaths': \"{} Deaths\".format(cause), \n",
    "                                      'Crude Rate': \"{} Crude Rate\".format(cause)}, inplace=True)"
   ]
  },
  {
   "cell_type": "code",
   "execution_count": null,
   "metadata": {
    "collapsed": false
   },
   "outputs": [],
   "source": []
  },
  {
   "cell_type": "code",
   "execution_count": 145,
   "metadata": {
    "collapsed": false
   },
   "outputs": [],
   "source": [
    "cod_age = cancer_age.merge(right=heart_disease_age.drop('Population', axis=1), \n",
    "                                  how='outer', on=['Year', 'State', 'Age Group'],)\n",
    "for cause in causes_age.keys():\n",
    "    if cause != 'Cancer' and cause !='Heart Diseases':\n",
    "        cod_age = cod_age.merge(right=causes_age[cause].drop(\"Population\", axis=1),\n",
    "                               how=\"outer\", on=['Year', 'State', 'Age Group'])\n",
    "\n"
   ]
  },
  {
   "cell_type": "code",
   "execution_count": 146,
   "metadata": {
    "collapsed": false
   },
   "outputs": [],
   "source": [
    "cod_age = cod_age.sort_values(['Year', 'State', 'Age Group']).reset_index(drop=True)"
   ]
  },
  {
   "cell_type": "code",
   "execution_count": 166,
   "metadata": {
    "collapsed": false
   },
   "outputs": [],
   "source": [
    "cod_age.to_csv('cod_age.csv')"
   ]
  },
  {
   "cell_type": "code",
   "execution_count": 218,
   "metadata": {
    "collapsed": true
   },
   "outputs": [],
   "source": [
    "def clean_df_gender(dfname):\n",
    "    dfname.loc[dfname['Notes']=='Total', 'Gender'] = 'Total'\n",
    "    dfname = dfname.drop(['Notes', 'Gender Code', 'Year Code', 'State Code'], axis=1)\n",
    "    dfname = dfname.drop(dfname.loc[pd.isnull(dfname['Year'])].index)\n",
    "    dfname.loc[pd.isnull(dfname['State']), 'State'] = 'Total'\n",
    "    cols = ['Deaths', \"Population\", 'Crude Rate', 'Age Adjusted Rate']\n",
    "    for col in cols:\n",
    "        if dfname[col].dtype != 'float64':\n",
    "            dfname.loc[dfname[col]=='Unreliable', col] = None\n",
    "            dfname[col] = dfname[col].astype(float)\n",
    "    return dfname"
   ]
  },
  {
   "cell_type": "code",
   "execution_count": 219,
   "metadata": {
    "collapsed": false
   },
   "outputs": [],
   "source": [
    "cancer_gender = pd.read_csv('cancer_sex.txt', sep='\\t')\n",
    "cancer_gender=clean_df_gender(cancer_gender)"
   ]
  },
  {
   "cell_type": "code",
   "execution_count": 220,
   "metadata": {
    "collapsed": false
   },
   "outputs": [],
   "source": [
    "heart_disease_gender = pd.read_csv('heart_disease_sex.txt', sep='\\t')\n",
    "heart_disease_gender=clean_df_gender(heart_disease_gender)"
   ]
  },
  {
   "cell_type": "code",
   "execution_count": 221,
   "metadata": {
    "collapsed": false
   },
   "outputs": [],
   "source": [
    "mv_gender = pd.read_csv('motor_vehicle_sex.txt', sep='\\t')\n",
    "mv_gender = clean_df_gender(mv_gender)"
   ]
  },
  {
   "cell_type": "code",
   "execution_count": 222,
   "metadata": {
    "collapsed": false
   },
   "outputs": [],
   "source": [
    "diabetes_gender=pd.read_csv('diabetes_sex.txt', sep='\\t')\n",
    "diabetes_gender = clean_df_gender(diabetes_gender)"
   ]
  },
  {
   "cell_type": "code",
   "execution_count": 223,
   "metadata": {
    "collapsed": false
   },
   "outputs": [],
   "source": [
    "heroin_gender = pd.read_csv('heroin_sex.txt', sep='\\t')\n",
    "heroin_gender = clean_df_gender(heroin_gender)"
   ]
  },
  {
   "cell_type": "code",
   "execution_count": 224,
   "metadata": {
    "collapsed": false
   },
   "outputs": [],
   "source": [
    "drug_od_gender = pd.read_csv('drug_od_sex.txt', sep='\\t')\n",
    "drug_od_gender = clean_df_gender(drug_od_gender)"
   ]
  },
  {
   "cell_type": "code",
   "execution_count": 225,
   "metadata": {
    "collapsed": false
   },
   "outputs": [],
   "source": [
    "opioids_gender = pd.read_csv('opioids_sex.txt', sep='\\t')\n",
    "opioids_gender = clean_df_gender(opioids_gender)"
   ]
  },
  {
   "cell_type": "code",
   "execution_count": 226,
   "metadata": {
    "collapsed": false
   },
   "outputs": [],
   "source": [
    "causes_gender = {'Cancer': cancer_gender, 'Heart Diseases': heart_disease_gender, \n",
    "                 'Motor Vehicle Accident': mv_gender, 'Diabetes': diabetes_gender,\n",
    "                'Heroin Overdose': heroin_gender, 'Drug Overdose': drug_od_gender, \n",
    "                'Other Opioid Overdose': opioids_gender}"
   ]
  },
  {
   "cell_type": "code",
   "execution_count": 227,
   "metadata": {
    "collapsed": true
   },
   "outputs": [],
   "source": [
    "for cause in causes_gender.keys():\n",
    "    causes_gender[cause].rename(columns={'Deaths': \"{} Deaths\".format(cause), \n",
    "                                      'Crude Rate': \"{} Crude Rate\".format(cause),\n",
    "                                         'Age Adjusted Rate': \"{} Age Adjusted Rate\".format(cause)}, inplace=True)"
   ]
  },
  {
   "cell_type": "code",
   "execution_count": 228,
   "metadata": {
    "collapsed": true
   },
   "outputs": [],
   "source": [
    "cod_gender = cancer_gender.merge(right=heart_disease_gender.drop('Population', axis=1), \n",
    "                                  how='outer', on=['Year', 'State', 'Gender'],)\n",
    "for cause in causes_gender.keys():\n",
    "    if cause != 'Cancer' and cause !='Heart Diseases':\n",
    "        cod_gender = cod_gender.merge(right=causes_gender[cause].drop(\"Population\", axis=1),\n",
    "                               how=\"outer\", on=['Year', 'State', 'Gender'])\n"
   ]
  },
  {
   "cell_type": "code",
   "execution_count": 229,
   "metadata": {
    "collapsed": false
   },
   "outputs": [],
   "source": [
    "cod_gender.to_csv('cod_gender.csv')"
   ]
  },
  {
   "cell_type": "code",
   "execution_count": 230,
   "metadata": {
    "collapsed": false
   },
   "outputs": [
    {
     "data": {
      "text/html": [
       "<div>\n",
       "<table border=\"1\" class=\"dataframe\">\n",
       "  <thead>\n",
       "    <tr style=\"text-align: right;\">\n",
       "      <th></th>\n",
       "      <th>Year</th>\n",
       "      <th>State</th>\n",
       "      <th>Gender</th>\n",
       "      <th>Cancer Deaths</th>\n",
       "      <th>Population</th>\n",
       "      <th>Cancer Crude Rate</th>\n",
       "      <th>Cancer Age Adjusted Rate</th>\n",
       "      <th>Heart Diseases Deaths</th>\n",
       "      <th>Heart Diseases Crude Rate</th>\n",
       "      <th>Heart Diseases Age Adjusted Rate</th>\n",
       "      <th>...</th>\n",
       "      <th>Heroin Overdose Age Adjusted Rate</th>\n",
       "      <th>Other Opioid Overdose Deaths</th>\n",
       "      <th>Other Opioid Overdose Crude Rate</th>\n",
       "      <th>Other Opioid Overdose Age Adjusted Rate</th>\n",
       "      <th>Motor Vehicle Accident Deaths</th>\n",
       "      <th>Motor Vehicle Accident Crude Rate</th>\n",
       "      <th>Motor Vehicle Accident Age Adjusted Rate</th>\n",
       "      <th>Drug Overdose Deaths</th>\n",
       "      <th>Drug Overdose Crude Rate</th>\n",
       "      <th>Drug Overdose Age Adjusted Rate</th>\n",
       "    </tr>\n",
       "  </thead>\n",
       "  <tbody>\n",
       "    <tr>\n",
       "      <th>0</th>\n",
       "      <td>1999.0</td>\n",
       "      <td>Alabama</td>\n",
       "      <td>Female</td>\n",
       "      <td>4366.0</td>\n",
       "      <td>2293259.0</td>\n",
       "      <td>190.4</td>\n",
       "      <td>165.8</td>\n",
       "      <td>6918.0</td>\n",
       "      <td>301.7</td>\n",
       "      <td>247.1</td>\n",
       "      <td>...</td>\n",
       "      <td>NaN</td>\n",
       "      <td>13.0</td>\n",
       "      <td>NaN</td>\n",
       "      <td>NaN</td>\n",
       "      <td>422.0</td>\n",
       "      <td>18.4</td>\n",
       "      <td>18.1</td>\n",
       "      <td>78.0</td>\n",
       "      <td>3.4</td>\n",
       "      <td>3.4</td>\n",
       "    </tr>\n",
       "    <tr>\n",
       "      <th>1</th>\n",
       "      <td>1999.0</td>\n",
       "      <td>Alabama</td>\n",
       "      <td>Male</td>\n",
       "      <td>5140.0</td>\n",
       "      <td>2136882.0</td>\n",
       "      <td>240.5</td>\n",
       "      <td>281.8</td>\n",
       "      <td>6501.0</td>\n",
       "      <td>304.2</td>\n",
       "      <td>380.5</td>\n",
       "      <td>...</td>\n",
       "      <td>NaN</td>\n",
       "      <td>20.0</td>\n",
       "      <td>0.9</td>\n",
       "      <td>0.9</td>\n",
       "      <td>740.0</td>\n",
       "      <td>34.6</td>\n",
       "      <td>35.0</td>\n",
       "      <td>91.0</td>\n",
       "      <td>4.3</td>\n",
       "      <td>4.3</td>\n",
       "    </tr>\n",
       "    <tr>\n",
       "      <th>2</th>\n",
       "      <td>1999.0</td>\n",
       "      <td>Alabama</td>\n",
       "      <td>Total</td>\n",
       "      <td>9506.0</td>\n",
       "      <td>4430141.0</td>\n",
       "      <td>214.6</td>\n",
       "      <td>210.9</td>\n",
       "      <td>13419.0</td>\n",
       "      <td>302.9</td>\n",
       "      <td>303.0</td>\n",
       "      <td>...</td>\n",
       "      <td>NaN</td>\n",
       "      <td>NaN</td>\n",
       "      <td>NaN</td>\n",
       "      <td>NaN</td>\n",
       "      <td>NaN</td>\n",
       "      <td>NaN</td>\n",
       "      <td>NaN</td>\n",
       "      <td>NaN</td>\n",
       "      <td>NaN</td>\n",
       "      <td>NaN</td>\n",
       "    </tr>\n",
       "    <tr>\n",
       "      <th>3</th>\n",
       "      <td>1999.0</td>\n",
       "      <td>Alaska</td>\n",
       "      <td>Female</td>\n",
       "      <td>295.0</td>\n",
       "      <td>301266.0</td>\n",
       "      <td>97.9</td>\n",
       "      <td>166.2</td>\n",
       "      <td>235.0</td>\n",
       "      <td>78.0</td>\n",
       "      <td>164.7</td>\n",
       "      <td>...</td>\n",
       "      <td>NaN</td>\n",
       "      <td>NaN</td>\n",
       "      <td>NaN</td>\n",
       "      <td>NaN</td>\n",
       "      <td>19.0</td>\n",
       "      <td>NaN</td>\n",
       "      <td>NaN</td>\n",
       "      <td>23.0</td>\n",
       "      <td>7.6</td>\n",
       "      <td>8.1</td>\n",
       "    </tr>\n",
       "    <tr>\n",
       "      <th>4</th>\n",
       "      <td>1999.0</td>\n",
       "      <td>Alaska</td>\n",
       "      <td>Male</td>\n",
       "      <td>338.0</td>\n",
       "      <td>323513.0</td>\n",
       "      <td>104.5</td>\n",
       "      <td>223.4</td>\n",
       "      <td>328.0</td>\n",
       "      <td>101.4</td>\n",
       "      <td>233.5</td>\n",
       "      <td>...</td>\n",
       "      <td>NaN</td>\n",
       "      <td>NaN</td>\n",
       "      <td>NaN</td>\n",
       "      <td>NaN</td>\n",
       "      <td>68.0</td>\n",
       "      <td>21.0</td>\n",
       "      <td>23.5</td>\n",
       "      <td>23.0</td>\n",
       "      <td>7.1</td>\n",
       "      <td>6.5</td>\n",
       "    </tr>\n",
       "  </tbody>\n",
       "</table>\n",
       "<p>5 rows × 25 columns</p>\n",
       "</div>"
      ],
      "text/plain": [
       "     Year    State  Gender  Cancer Deaths  Population  Cancer Crude Rate  \\\n",
       "0  1999.0  Alabama  Female         4366.0   2293259.0              190.4   \n",
       "1  1999.0  Alabama    Male         5140.0   2136882.0              240.5   \n",
       "2  1999.0  Alabama   Total         9506.0   4430141.0              214.6   \n",
       "3  1999.0   Alaska  Female          295.0    301266.0               97.9   \n",
       "4  1999.0   Alaska    Male          338.0    323513.0              104.5   \n",
       "\n",
       "   Cancer Age Adjusted Rate  Heart Diseases Deaths  Heart Diseases Crude Rate  \\\n",
       "0                     165.8                 6918.0                      301.7   \n",
       "1                     281.8                 6501.0                      304.2   \n",
       "2                     210.9                13419.0                      302.9   \n",
       "3                     166.2                  235.0                       78.0   \n",
       "4                     223.4                  328.0                      101.4   \n",
       "\n",
       "   Heart Diseases Age Adjusted Rate               ...                 \\\n",
       "0                             247.1               ...                  \n",
       "1                             380.5               ...                  \n",
       "2                             303.0               ...                  \n",
       "3                             164.7               ...                  \n",
       "4                             233.5               ...                  \n",
       "\n",
       "   Heroin Overdose Age Adjusted Rate  Other Opioid Overdose Deaths  \\\n",
       "0                                NaN                          13.0   \n",
       "1                                NaN                          20.0   \n",
       "2                                NaN                           NaN   \n",
       "3                                NaN                           NaN   \n",
       "4                                NaN                           NaN   \n",
       "\n",
       "   Other Opioid Overdose Crude Rate  Other Opioid Overdose Age Adjusted Rate  \\\n",
       "0                               NaN                                      NaN   \n",
       "1                               0.9                                      0.9   \n",
       "2                               NaN                                      NaN   \n",
       "3                               NaN                                      NaN   \n",
       "4                               NaN                                      NaN   \n",
       "\n",
       "   Motor Vehicle Accident Deaths  Motor Vehicle Accident Crude Rate  \\\n",
       "0                          422.0                               18.4   \n",
       "1                          740.0                               34.6   \n",
       "2                            NaN                                NaN   \n",
       "3                           19.0                                NaN   \n",
       "4                           68.0                               21.0   \n",
       "\n",
       "   Motor Vehicle Accident Age Adjusted Rate  Drug Overdose Deaths  \\\n",
       "0                                      18.1                  78.0   \n",
       "1                                      35.0                  91.0   \n",
       "2                                       NaN                   NaN   \n",
       "3                                       NaN                  23.0   \n",
       "4                                      23.5                  23.0   \n",
       "\n",
       "   Drug Overdose Crude Rate  Drug Overdose Age Adjusted Rate  \n",
       "0                       3.4                              3.4  \n",
       "1                       4.3                              4.3  \n",
       "2                       NaN                              NaN  \n",
       "3                       7.6                              8.1  \n",
       "4                       7.1                              6.5  \n",
       "\n",
       "[5 rows x 25 columns]"
      ]
     },
     "execution_count": 230,
     "metadata": {},
     "output_type": "execute_result"
    }
   ],
   "source": [
    "cod_gender.head()"
   ]
  },
  {
   "cell_type": "code",
   "execution_count": 236,
   "metadata": {
    "collapsed": true
   },
   "outputs": [],
   "source": [
    "def clean_df_race(dfname):\n",
    "    #dfname.loc[dfname['Notes']=='Total', 'Race'] = 'Total'\n",
    "    dfname = dfname.drop(['Notes', 'Race Code', 'Year Code', 'State Code'], axis=1)\n",
    "    dfname = dfname.drop(dfname.loc[pd.isnull(dfname['Year'])].index)\n",
    "    #dfname.loc[pd.isnull(dfname['State']), 'State'] = 'Total'\n",
    "    cols = ['Deaths', \"Population\", 'Crude Rate', 'Age Adjusted Rate']\n",
    "    for col in cols:\n",
    "        if dfname[col].dtype != 'float64':\n",
    "            dfname.loc[dfname[col]=='Unreliable', col] = None\n",
    "            dfname[col] = dfname[col].astype(float)\n",
    "    return dfname"
   ]
  },
  {
   "cell_type": "code",
   "execution_count": 237,
   "metadata": {
    "collapsed": false
   },
   "outputs": [],
   "source": [
    "cancer_race = pd.read_csv('cancer_race.txt', sep='\\t')\n",
    "cancer_race = clean_df_race(cancer_race)"
   ]
  },
  {
   "cell_type": "code",
   "execution_count": 240,
   "metadata": {
    "collapsed": false
   },
   "outputs": [],
   "source": [
    "heart_disease_race = pd.read_csv('heart_disease_race.txt', sep='\\t')\n",
    "heart_disease_race = clean_df_race(heart_disease_race)"
   ]
  },
  {
   "cell_type": "code",
   "execution_count": 243,
   "metadata": {
    "collapsed": false
   },
   "outputs": [],
   "source": [
    "diabetes_race = pd.read_csv('diabetes_race.txt', sep='\\t')\n",
    "diabetes_race = clean_df_race(diabetes_race)"
   ]
  },
  {
   "cell_type": "code",
   "execution_count": 245,
   "metadata": {
    "collapsed": false
   },
   "outputs": [],
   "source": [
    "mv_race = pd.read_csv('motor_vehicle_race.txt', sep='\\t')\n",
    "mv_race = clean_df_race(mv_race)"
   ]
  },
  {
   "cell_type": "code",
   "execution_count": 247,
   "metadata": {
    "collapsed": false
   },
   "outputs": [],
   "source": [
    "heroin_race = pd.read_csv('heroin_race.txt', sep='\\t')\n",
    "heroin_race = clean_df_race(heroin_race)"
   ]
  },
  {
   "cell_type": "code",
   "execution_count": 250,
   "metadata": {
    "collapsed": false
   },
   "outputs": [],
   "source": [
    "drug_od_race = pd.read_csv('drug_od_race.txt', sep='\\t')\n",
    "drug_od_race = clean_df_race(drug_od_race)"
   ]
  },
  {
   "cell_type": "code",
   "execution_count": 256,
   "metadata": {
    "collapsed": false
   },
   "outputs": [],
   "source": [
    "opioids_race = pd.read_csv('opioids_race.txt', sep='\\t')\n",
    "opioids_race = clean_df_race(opioids_race)"
   ]
  },
  {
   "cell_type": "code",
   "execution_count": 253,
   "metadata": {
    "collapsed": false
   },
   "outputs": [
    {
     "data": {
      "text/html": [
       "<div>\n",
       "<table border=\"1\" class=\"dataframe\">\n",
       "  <thead>\n",
       "    <tr style=\"text-align: right;\">\n",
       "      <th></th>\n",
       "      <th>Year</th>\n",
       "      <th>State</th>\n",
       "      <th>Race</th>\n",
       "      <th>Deaths</th>\n",
       "      <th>Population</th>\n",
       "      <th>Crude Rate</th>\n",
       "      <th>Age Adjusted Rate</th>\n",
       "    </tr>\n",
       "  </thead>\n",
       "  <tbody>\n",
       "    <tr>\n",
       "      <th>1277</th>\n",
       "      <td>2015.0</td>\n",
       "      <td>Virginia</td>\n",
       "      <td>White</td>\n",
       "      <td>458.0</td>\n",
       "      <td>6003584.0</td>\n",
       "      <td>7.6</td>\n",
       "      <td>7.8</td>\n",
       "    </tr>\n",
       "    <tr>\n",
       "      <th>1278</th>\n",
       "      <td>2015.0</td>\n",
       "      <td>Washington</td>\n",
       "      <td>American Indian or Alaska Native</td>\n",
       "      <td>10.0</td>\n",
       "      <td>163021.0</td>\n",
       "      <td>NaN</td>\n",
       "      <td>NaN</td>\n",
       "    </tr>\n",
       "    <tr>\n",
       "      <th>1279</th>\n",
       "      <td>2015.0</td>\n",
       "      <td>Washington</td>\n",
       "      <td>Black or African American</td>\n",
       "      <td>13.0</td>\n",
       "      <td>366391.0</td>\n",
       "      <td>NaN</td>\n",
       "      <td>NaN</td>\n",
       "    </tr>\n",
       "    <tr>\n",
       "      <th>1280</th>\n",
       "      <td>2015.0</td>\n",
       "      <td>Washington</td>\n",
       "      <td>White</td>\n",
       "      <td>373.0</td>\n",
       "      <td>5923371.0</td>\n",
       "      <td>6.3</td>\n",
       "      <td>5.9</td>\n",
       "    </tr>\n",
       "    <tr>\n",
       "      <th>1281</th>\n",
       "      <td>2015.0</td>\n",
       "      <td>West Virginia</td>\n",
       "      <td>Black or African American</td>\n",
       "      <td>26.0</td>\n",
       "      <td>76375.0</td>\n",
       "      <td>34.0</td>\n",
       "      <td>36.6</td>\n",
       "    </tr>\n",
       "    <tr>\n",
       "      <th>1282</th>\n",
       "      <td>2015.0</td>\n",
       "      <td>West Virginia</td>\n",
       "      <td>White</td>\n",
       "      <td>486.0</td>\n",
       "      <td>1745625.0</td>\n",
       "      <td>27.8</td>\n",
       "      <td>28.9</td>\n",
       "    </tr>\n",
       "    <tr>\n",
       "      <th>1283</th>\n",
       "      <td>2015.0</td>\n",
       "      <td>Wisconsin</td>\n",
       "      <td>American Indian or Alaska Native</td>\n",
       "      <td>10.0</td>\n",
       "      <td>73079.0</td>\n",
       "      <td>NaN</td>\n",
       "      <td>NaN</td>\n",
       "    </tr>\n",
       "    <tr>\n",
       "      <th>1284</th>\n",
       "      <td>2015.0</td>\n",
       "      <td>Wisconsin</td>\n",
       "      <td>Black or African American</td>\n",
       "      <td>47.0</td>\n",
       "      <td>415631.0</td>\n",
       "      <td>11.3</td>\n",
       "      <td>12.5</td>\n",
       "    </tr>\n",
       "    <tr>\n",
       "      <th>1285</th>\n",
       "      <td>2015.0</td>\n",
       "      <td>Wisconsin</td>\n",
       "      <td>White</td>\n",
       "      <td>328.0</td>\n",
       "      <td>5111213.0</td>\n",
       "      <td>6.4</td>\n",
       "      <td>6.6</td>\n",
       "    </tr>\n",
       "    <tr>\n",
       "      <th>1286</th>\n",
       "      <td>2015.0</td>\n",
       "      <td>Wyoming</td>\n",
       "      <td>White</td>\n",
       "      <td>33.0</td>\n",
       "      <td>550547.0</td>\n",
       "      <td>6.0</td>\n",
       "      <td>6.0</td>\n",
       "    </tr>\n",
       "  </tbody>\n",
       "</table>\n",
       "</div>"
      ],
      "text/plain": [
       "        Year          State                              Race  Deaths  \\\n",
       "1277  2015.0       Virginia                             White   458.0   \n",
       "1278  2015.0     Washington  American Indian or Alaska Native    10.0   \n",
       "1279  2015.0     Washington         Black or African American    13.0   \n",
       "1280  2015.0     Washington                             White   373.0   \n",
       "1281  2015.0  West Virginia         Black or African American    26.0   \n",
       "1282  2015.0  West Virginia                             White   486.0   \n",
       "1283  2015.0      Wisconsin  American Indian or Alaska Native    10.0   \n",
       "1284  2015.0      Wisconsin         Black or African American    47.0   \n",
       "1285  2015.0      Wisconsin                             White   328.0   \n",
       "1286  2015.0        Wyoming                             White    33.0   \n",
       "\n",
       "      Population  Crude Rate  Age Adjusted Rate  \n",
       "1277   6003584.0         7.6                7.8  \n",
       "1278    163021.0         NaN                NaN  \n",
       "1279    366391.0         NaN                NaN  \n",
       "1280   5923371.0         6.3                5.9  \n",
       "1281     76375.0        34.0               36.6  \n",
       "1282   1745625.0        27.8               28.9  \n",
       "1283     73079.0         NaN                NaN  \n",
       "1284    415631.0        11.3               12.5  \n",
       "1285   5111213.0         6.4                6.6  \n",
       "1286    550547.0         6.0                6.0  "
      ]
     },
     "execution_count": 253,
     "metadata": {},
     "output_type": "execute_result"
    }
   ],
   "source": [
    "opioids_race.tail(10)"
   ]
  },
  {
   "cell_type": "code",
   "execution_count": 258,
   "metadata": {
    "collapsed": false
   },
   "outputs": [],
   "source": [
    "causes_race = {'Cancer': cancer_race, 'Heart Diseases': heart_disease_race, \n",
    "                 'Motor Vehicle Accident': mv_race, 'Diabetes': diabetes_race,\n",
    "                'Heroin Overdose': heroin_race, 'Drug Overdose': drug_od_race, \n",
    "                'Other Opioid Overdose': opioids_race}\n",
    "\n",
    "for cause in causes_race.keys():\n",
    "    causes_race[cause].rename(columns={'Deaths': \"{} Deaths\".format(cause), \n",
    "                                      'Crude Rate': \"{} Crude Rate\".format(cause),\n",
    "                                         'Age Adjusted Rate': \"{} Age Adjusted Rate\".format(cause)}, inplace=True)\n",
    "\n",
    "cod_race = cancer_race.merge(right=heart_disease_race.drop('Population', axis=1), \n",
    "                                  how='outer', on=['Year', 'State', 'Race'],)\n",
    "for cause in causes_race.keys():\n",
    "    if cause != 'Cancer' and cause !='Heart Diseases':\n",
    "        cod_race = cod_race.merge(right=causes_race[cause].drop(\"Population\", axis=1),\n",
    "                               how=\"outer\", on=['Year', 'State', 'Race'])\n"
   ]
  },
  {
   "cell_type": "code",
   "execution_count": 262,
   "metadata": {
    "collapsed": false
   },
   "outputs": [],
   "source": [
    "cod_race.to_csv('cod_race.csv')"
   ]
  },
  {
   "cell_type": "code",
   "execution_count": 286,
   "metadata": {
    "collapsed": true
   },
   "outputs": [],
   "source": [
    "def clean_df_urban(dfname):\n",
    "    dfname.loc[dfname['Notes']=='Total', '2013 Urbanization'] = 'Total'\n",
    "    dfname = dfname.drop(['Notes', '2013 Urbanization Code', 'Year Code', 'State Code'], axis=1)\n",
    "    dfname = dfname.drop(dfname.loc[pd.isnull(dfname['Year'])].index)\n",
    "    dfname.loc[pd.isnull(dfname['State']), 'State'] = 'Total'\n",
    "    cols = ['Deaths', \"Population\", 'Crude Rate', 'Age Adjusted Rate']\n",
    "    for col in cols:\n",
    "        if dfname[col].dtype != 'float64':\n",
    "            dfname.loc[dfname[col]=='Unreliable', col] = None\n",
    "            dfname[col] = dfname[col].astype(float)\n",
    "    return dfname"
   ]
  },
  {
   "cell_type": "code",
   "execution_count": 287,
   "metadata": {
    "collapsed": false
   },
   "outputs": [],
   "source": [
    "cancer_urban = pd.read_csv('cancer_urban.txt', sep='\\t')\n",
    "cancer_urban = clean_df_urban(cancer_urban)"
   ]
  },
  {
   "cell_type": "code",
   "execution_count": 288,
   "metadata": {
    "collapsed": false
   },
   "outputs": [],
   "source": [
    "heart_disease_urban = pd.read_csv('heart_disease_urban.txt', sep='\\t')\n",
    "heart_disease_urban = clean_df_urban(heart_disease_urban)"
   ]
  },
  {
   "cell_type": "code",
   "execution_count": 289,
   "metadata": {
    "collapsed": false
   },
   "outputs": [],
   "source": [
    "mv_urban = pd.read_csv('motor_vehicle_urban.txt', sep='\\t')\n",
    "mv_urban = clean_df_urban(mv_urban)"
   ]
  },
  {
   "cell_type": "code",
   "execution_count": 290,
   "metadata": {
    "collapsed": false
   },
   "outputs": [],
   "source": [
    "heroin_urban = pd.read_csv('heroin_urban.txt', sep='\\t')\n",
    "heroin_urban = clean_df_urban(heroin_urban)"
   ]
  },
  {
   "cell_type": "code",
   "execution_count": 291,
   "metadata": {
    "collapsed": false
   },
   "outputs": [],
   "source": [
    "drug_od_urban = pd.read_csv('drug_od_urban.txt', sep='\\t')\n",
    "drug_od_urban = clean_df_urban(drug_od_urban)"
   ]
  },
  {
   "cell_type": "code",
   "execution_count": 292,
   "metadata": {
    "collapsed": false
   },
   "outputs": [],
   "source": [
    "opioids_urban = pd.read_csv('opioids_urban.txt', sep='\\t')\n",
    "opioids_urban = clean_df_urban(opioids_urban)"
   ]
  },
  {
   "cell_type": "code",
   "execution_count": 293,
   "metadata": {
    "collapsed": false
   },
   "outputs": [],
   "source": [
    "diabetes_urban = pd.read_csv('diabetes_urban.txt', sep='\\t')\n",
    "diabetes_urban = clean_df_urban(diabetes_urban)"
   ]
  },
  {
   "cell_type": "code",
   "execution_count": 294,
   "metadata": {
    "collapsed": false
   },
   "outputs": [],
   "source": [
    "causes_urban = {'Cancer': cancer_urban, 'Heart Diseases': heart_disease_urban, \n",
    "                 'Motor Vehicle Accident': mv_urban, 'Diabetes': diabetes_urban,\n",
    "                'Heroin Overdose': heroin_urban, 'Drug Overdose': drug_od_urban, \n",
    "                'Other Opioid Overdose': opioids_urban}\n",
    "\n",
    "for cause in causes_urban.keys():\n",
    "    causes_urban[cause].rename(columns={'Deaths': \"{} Deaths\".format(cause), \n",
    "                                      'Crude Rate': \"{} Crude Rate\".format(cause),\n",
    "                                         'Age Adjusted Rate': \"{} Age Adjusted Rate\".format(cause)}, inplace=True)\n",
    "\n",
    "cod_urban = cancer_urban.merge(right=heart_disease_urban.drop('Population', axis=1), \n",
    "                                  how='outer', on=['Year', 'State', '2013 Urbanization'],)\n",
    "for cause in causes_urban.keys():\n",
    "    if cause != 'Cancer' and cause !='Heart Diseases':\n",
    "        cod_urban = cod_urban.merge(right=causes_urban[cause].drop(\"Population\", axis=1),\n",
    "                               how=\"outer\", on=['Year', 'State', '2013 Urbanization'])"
   ]
  },
  {
   "cell_type": "code",
   "execution_count": 296,
   "metadata": {
    "collapsed": false
   },
   "outputs": [],
   "source": [
    "cod_urban.to_csv('cod_urban.csv')"
   ]
  },
  {
   "cell_type": "code",
   "execution_count": 297,
   "metadata": {
    "collapsed": false
   },
   "outputs": [
    {
     "data": {
      "text/html": [
       "<div>\n",
       "<table border=\"1\" class=\"dataframe\">\n",
       "  <thead>\n",
       "    <tr style=\"text-align: right;\">\n",
       "      <th></th>\n",
       "      <th>Year</th>\n",
       "      <th>State</th>\n",
       "      <th>2013 Urbanization</th>\n",
       "      <th>Cancer Deaths</th>\n",
       "      <th>Population</th>\n",
       "      <th>Cancer Crude Rate</th>\n",
       "      <th>Cancer Age Adjusted Rate</th>\n",
       "      <th>Heart Diseases Deaths</th>\n",
       "      <th>Heart Diseases Crude Rate</th>\n",
       "      <th>Heart Diseases Age Adjusted Rate</th>\n",
       "      <th>...</th>\n",
       "      <th>Heroin Overdose Age Adjusted Rate</th>\n",
       "      <th>Other Opioid Overdose Deaths</th>\n",
       "      <th>Other Opioid Overdose Crude Rate</th>\n",
       "      <th>Other Opioid Overdose Age Adjusted Rate</th>\n",
       "      <th>Motor Vehicle Accident Deaths</th>\n",
       "      <th>Motor Vehicle Accident Crude Rate</th>\n",
       "      <th>Motor Vehicle Accident Age Adjusted Rate</th>\n",
       "      <th>Drug Overdose Deaths</th>\n",
       "      <th>Drug Overdose Crude Rate</th>\n",
       "      <th>Drug Overdose Age Adjusted Rate</th>\n",
       "    </tr>\n",
       "  </thead>\n",
       "  <tbody>\n",
       "    <tr>\n",
       "      <th>0</th>\n",
       "      <td>1999.0</td>\n",
       "      <td>Alabama</td>\n",
       "      <td>Large Central Metro</td>\n",
       "      <td>1566.0</td>\n",
       "      <td>662845.0</td>\n",
       "      <td>236.3</td>\n",
       "      <td>223.9</td>\n",
       "      <td>1802.0</td>\n",
       "      <td>271.9</td>\n",
       "      <td>254.4</td>\n",
       "      <td>...</td>\n",
       "      <td>NaN</td>\n",
       "      <td>13.0</td>\n",
       "      <td>NaN</td>\n",
       "      <td>NaN</td>\n",
       "      <td>151.0</td>\n",
       "      <td>22.8</td>\n",
       "      <td>22.6</td>\n",
       "      <td>34.0</td>\n",
       "      <td>5.1</td>\n",
       "      <td>5.1</td>\n",
       "    </tr>\n",
       "    <tr>\n",
       "      <th>1</th>\n",
       "      <td>1999.0</td>\n",
       "      <td>Alabama</td>\n",
       "      <td>Large Fringe Metro</td>\n",
       "      <td>717.0</td>\n",
       "      <td>384595.0</td>\n",
       "      <td>186.4</td>\n",
       "      <td>201.4</td>\n",
       "      <td>1078.0</td>\n",
       "      <td>280.3</td>\n",
       "      <td>325.4</td>\n",
       "      <td>...</td>\n",
       "      <td>NaN</td>\n",
       "      <td>NaN</td>\n",
       "      <td>NaN</td>\n",
       "      <td>NaN</td>\n",
       "      <td>116.0</td>\n",
       "      <td>30.2</td>\n",
       "      <td>31.4</td>\n",
       "      <td>11.0</td>\n",
       "      <td>NaN</td>\n",
       "      <td>NaN</td>\n",
       "    </tr>\n",
       "    <tr>\n",
       "      <th>2</th>\n",
       "      <td>1999.0</td>\n",
       "      <td>Alabama</td>\n",
       "      <td>Medium Metro</td>\n",
       "      <td>2224.0</td>\n",
       "      <td>1133417.0</td>\n",
       "      <td>196.2</td>\n",
       "      <td>214.2</td>\n",
       "      <td>3031.0</td>\n",
       "      <td>267.4</td>\n",
       "      <td>303.7</td>\n",
       "      <td>...</td>\n",
       "      <td>NaN</td>\n",
       "      <td>12.0</td>\n",
       "      <td>NaN</td>\n",
       "      <td>NaN</td>\n",
       "      <td>235.0</td>\n",
       "      <td>20.7</td>\n",
       "      <td>20.8</td>\n",
       "      <td>57.0</td>\n",
       "      <td>5.0</td>\n",
       "      <td>5.1</td>\n",
       "    </tr>\n",
       "    <tr>\n",
       "      <th>3</th>\n",
       "      <td>1999.0</td>\n",
       "      <td>Alabama</td>\n",
       "      <td>Small Metro</td>\n",
       "      <td>2306.0</td>\n",
       "      <td>1089276.0</td>\n",
       "      <td>211.7</td>\n",
       "      <td>205.6</td>\n",
       "      <td>3227.0</td>\n",
       "      <td>296.3</td>\n",
       "      <td>295.5</td>\n",
       "      <td>...</td>\n",
       "      <td>NaN</td>\n",
       "      <td>NaN</td>\n",
       "      <td>NaN</td>\n",
       "      <td>NaN</td>\n",
       "      <td>259.0</td>\n",
       "      <td>23.8</td>\n",
       "      <td>23.4</td>\n",
       "      <td>43.0</td>\n",
       "      <td>3.9</td>\n",
       "      <td>4.0</td>\n",
       "    </tr>\n",
       "    <tr>\n",
       "      <th>4</th>\n",
       "      <td>1999.0</td>\n",
       "      <td>Alabama</td>\n",
       "      <td>Micropolitan (non-metro)</td>\n",
       "      <td>1142.0</td>\n",
       "      <td>510099.0</td>\n",
       "      <td>223.9</td>\n",
       "      <td>209.1</td>\n",
       "      <td>1760.0</td>\n",
       "      <td>345.0</td>\n",
       "      <td>328.6</td>\n",
       "      <td>...</td>\n",
       "      <td>NaN</td>\n",
       "      <td>NaN</td>\n",
       "      <td>NaN</td>\n",
       "      <td>NaN</td>\n",
       "      <td>160.0</td>\n",
       "      <td>31.4</td>\n",
       "      <td>31.0</td>\n",
       "      <td>NaN</td>\n",
       "      <td>NaN</td>\n",
       "      <td>NaN</td>\n",
       "    </tr>\n",
       "    <tr>\n",
       "      <th>5</th>\n",
       "      <td>1999.0</td>\n",
       "      <td>Alabama</td>\n",
       "      <td>NonCore (non-metro)</td>\n",
       "      <td>1551.0</td>\n",
       "      <td>649909.0</td>\n",
       "      <td>238.6</td>\n",
       "      <td>210.0</td>\n",
       "      <td>2521.0</td>\n",
       "      <td>387.9</td>\n",
       "      <td>335.5</td>\n",
       "      <td>...</td>\n",
       "      <td>NaN</td>\n",
       "      <td>NaN</td>\n",
       "      <td>NaN</td>\n",
       "      <td>NaN</td>\n",
       "      <td>241.0</td>\n",
       "      <td>37.1</td>\n",
       "      <td>37.0</td>\n",
       "      <td>16.0</td>\n",
       "      <td>NaN</td>\n",
       "      <td>NaN</td>\n",
       "    </tr>\n",
       "    <tr>\n",
       "      <th>6</th>\n",
       "      <td>1999.0</td>\n",
       "      <td>Alabama</td>\n",
       "      <td>Total</td>\n",
       "      <td>9506.0</td>\n",
       "      <td>4430141.0</td>\n",
       "      <td>214.6</td>\n",
       "      <td>210.9</td>\n",
       "      <td>NaN</td>\n",
       "      <td>NaN</td>\n",
       "      <td>NaN</td>\n",
       "      <td>...</td>\n",
       "      <td>NaN</td>\n",
       "      <td>NaN</td>\n",
       "      <td>NaN</td>\n",
       "      <td>NaN</td>\n",
       "      <td>NaN</td>\n",
       "      <td>NaN</td>\n",
       "      <td>NaN</td>\n",
       "      <td>NaN</td>\n",
       "      <td>NaN</td>\n",
       "      <td>NaN</td>\n",
       "    </tr>\n",
       "    <tr>\n",
       "      <th>7</th>\n",
       "      <td>1999.0</td>\n",
       "      <td>Alaska</td>\n",
       "      <td>Medium Metro</td>\n",
       "      <td>287.0</td>\n",
       "      <td>317172.0</td>\n",
       "      <td>90.5</td>\n",
       "      <td>172.5</td>\n",
       "      <td>296.0</td>\n",
       "      <td>93.3</td>\n",
       "      <td>211.4</td>\n",
       "      <td>...</td>\n",
       "      <td>NaN</td>\n",
       "      <td>NaN</td>\n",
       "      <td>NaN</td>\n",
       "      <td>NaN</td>\n",
       "      <td>40.0</td>\n",
       "      <td>12.6</td>\n",
       "      <td>13.4</td>\n",
       "      <td>26.0</td>\n",
       "      <td>8.2</td>\n",
       "      <td>8.6</td>\n",
       "    </tr>\n",
       "    <tr>\n",
       "      <th>8</th>\n",
       "      <td>1999.0</td>\n",
       "      <td>Alaska</td>\n",
       "      <td>Small Metro</td>\n",
       "      <td>79.0</td>\n",
       "      <td>83390.0</td>\n",
       "      <td>94.7</td>\n",
       "      <td>184.9</td>\n",
       "      <td>76.0</td>\n",
       "      <td>91.1</td>\n",
       "      <td>238.5</td>\n",
       "      <td>...</td>\n",
       "      <td>NaN</td>\n",
       "      <td>NaN</td>\n",
       "      <td>NaN</td>\n",
       "      <td>NaN</td>\n",
       "      <td>14.0</td>\n",
       "      <td>NaN</td>\n",
       "      <td>NaN</td>\n",
       "      <td>NaN</td>\n",
       "      <td>NaN</td>\n",
       "      <td>NaN</td>\n",
       "    </tr>\n",
       "    <tr>\n",
       "      <th>9</th>\n",
       "      <td>1999.0</td>\n",
       "      <td>Alaska</td>\n",
       "      <td>Micropolitan (non-metro)</td>\n",
       "      <td>65.0</td>\n",
       "      <td>45026.0</td>\n",
       "      <td>144.4</td>\n",
       "      <td>247.8</td>\n",
       "      <td>34.0</td>\n",
       "      <td>75.5</td>\n",
       "      <td>138.5</td>\n",
       "      <td>...</td>\n",
       "      <td>NaN</td>\n",
       "      <td>NaN</td>\n",
       "      <td>NaN</td>\n",
       "      <td>NaN</td>\n",
       "      <td>NaN</td>\n",
       "      <td>NaN</td>\n",
       "      <td>NaN</td>\n",
       "      <td>NaN</td>\n",
       "      <td>NaN</td>\n",
       "      <td>NaN</td>\n",
       "    </tr>\n",
       "  </tbody>\n",
       "</table>\n",
       "<p>10 rows × 25 columns</p>\n",
       "</div>"
      ],
      "text/plain": [
       "     Year    State         2013 Urbanization  Cancer Deaths  Population  \\\n",
       "0  1999.0  Alabama       Large Central Metro         1566.0    662845.0   \n",
       "1  1999.0  Alabama        Large Fringe Metro          717.0    384595.0   \n",
       "2  1999.0  Alabama              Medium Metro         2224.0   1133417.0   \n",
       "3  1999.0  Alabama               Small Metro         2306.0   1089276.0   \n",
       "4  1999.0  Alabama  Micropolitan (non-metro)         1142.0    510099.0   \n",
       "5  1999.0  Alabama       NonCore (non-metro)         1551.0    649909.0   \n",
       "6  1999.0  Alabama                     Total         9506.0   4430141.0   \n",
       "7  1999.0   Alaska              Medium Metro          287.0    317172.0   \n",
       "8  1999.0   Alaska               Small Metro           79.0     83390.0   \n",
       "9  1999.0   Alaska  Micropolitan (non-metro)           65.0     45026.0   \n",
       "\n",
       "   Cancer Crude Rate  Cancer Age Adjusted Rate  Heart Diseases Deaths  \\\n",
       "0              236.3                     223.9                 1802.0   \n",
       "1              186.4                     201.4                 1078.0   \n",
       "2              196.2                     214.2                 3031.0   \n",
       "3              211.7                     205.6                 3227.0   \n",
       "4              223.9                     209.1                 1760.0   \n",
       "5              238.6                     210.0                 2521.0   \n",
       "6              214.6                     210.9                    NaN   \n",
       "7               90.5                     172.5                  296.0   \n",
       "8               94.7                     184.9                   76.0   \n",
       "9              144.4                     247.8                   34.0   \n",
       "\n",
       "   Heart Diseases Crude Rate  Heart Diseases Age Adjusted Rate  \\\n",
       "0                      271.9                             254.4   \n",
       "1                      280.3                             325.4   \n",
       "2                      267.4                             303.7   \n",
       "3                      296.3                             295.5   \n",
       "4                      345.0                             328.6   \n",
       "5                      387.9                             335.5   \n",
       "6                        NaN                               NaN   \n",
       "7                       93.3                             211.4   \n",
       "8                       91.1                             238.5   \n",
       "9                       75.5                             138.5   \n",
       "\n",
       "                ...                 Heroin Overdose Age Adjusted Rate  \\\n",
       "0               ...                                               NaN   \n",
       "1               ...                                               NaN   \n",
       "2               ...                                               NaN   \n",
       "3               ...                                               NaN   \n",
       "4               ...                                               NaN   \n",
       "5               ...                                               NaN   \n",
       "6               ...                                               NaN   \n",
       "7               ...                                               NaN   \n",
       "8               ...                                               NaN   \n",
       "9               ...                                               NaN   \n",
       "\n",
       "   Other Opioid Overdose Deaths  Other Opioid Overdose Crude Rate  \\\n",
       "0                          13.0                               NaN   \n",
       "1                           NaN                               NaN   \n",
       "2                          12.0                               NaN   \n",
       "3                           NaN                               NaN   \n",
       "4                           NaN                               NaN   \n",
       "5                           NaN                               NaN   \n",
       "6                           NaN                               NaN   \n",
       "7                           NaN                               NaN   \n",
       "8                           NaN                               NaN   \n",
       "9                           NaN                               NaN   \n",
       "\n",
       "   Other Opioid Overdose Age Adjusted Rate  Motor Vehicle Accident Deaths  \\\n",
       "0                                      NaN                          151.0   \n",
       "1                                      NaN                          116.0   \n",
       "2                                      NaN                          235.0   \n",
       "3                                      NaN                          259.0   \n",
       "4                                      NaN                          160.0   \n",
       "5                                      NaN                          241.0   \n",
       "6                                      NaN                            NaN   \n",
       "7                                      NaN                           40.0   \n",
       "8                                      NaN                           14.0   \n",
       "9                                      NaN                            NaN   \n",
       "\n",
       "   Motor Vehicle Accident Crude Rate  \\\n",
       "0                               22.8   \n",
       "1                               30.2   \n",
       "2                               20.7   \n",
       "3                               23.8   \n",
       "4                               31.4   \n",
       "5                               37.1   \n",
       "6                                NaN   \n",
       "7                               12.6   \n",
       "8                                NaN   \n",
       "9                                NaN   \n",
       "\n",
       "   Motor Vehicle Accident Age Adjusted Rate  Drug Overdose Deaths  \\\n",
       "0                                      22.6                  34.0   \n",
       "1                                      31.4                  11.0   \n",
       "2                                      20.8                  57.0   \n",
       "3                                      23.4                  43.0   \n",
       "4                                      31.0                   NaN   \n",
       "5                                      37.0                  16.0   \n",
       "6                                       NaN                   NaN   \n",
       "7                                      13.4                  26.0   \n",
       "8                                       NaN                   NaN   \n",
       "9                                       NaN                   NaN   \n",
       "\n",
       "   Drug Overdose Crude Rate  Drug Overdose Age Adjusted Rate  \n",
       "0                       5.1                              5.1  \n",
       "1                       NaN                              NaN  \n",
       "2                       5.0                              5.1  \n",
       "3                       3.9                              4.0  \n",
       "4                       NaN                              NaN  \n",
       "5                       NaN                              NaN  \n",
       "6                       NaN                              NaN  \n",
       "7                       8.2                              8.6  \n",
       "8                       NaN                              NaN  \n",
       "9                       NaN                              NaN  \n",
       "\n",
       "[10 rows x 25 columns]"
      ]
     },
     "execution_count": 297,
     "metadata": {},
     "output_type": "execute_result"
    }
   ],
   "source": [
    "cod_urban.head(10)"
   ]
  },
  {
   "cell_type": "code",
   "execution_count": 4,
   "metadata": {
    "collapsed": true
   },
   "outputs": [],
   "source": [
    "def clean_df_hispanic(dfname):\n",
    "    dfname = dfname.drop(['Notes', 'Hispanic Origin Code', 'Year Code', 'State Code'], axis=1)\n",
    "    dfname = dfname.drop(dfname.loc[pd.isnull(dfname['Year'])].index)\n",
    "    cols = ['Deaths', \"Population\", 'Crude Rate', 'Age Adjusted Rate']\n",
    "    for col in cols:\n",
    "        if dfname[col].dtype != 'float64':\n",
    "            dfname.loc[dfname[col]=='Unreliable', col] = None\n",
    "            dfname.loc[dfname[col]=='Not Applicable', col] = None\n",
    "            dfname[col] = dfname[col].astype(float)\n",
    "    return dfname"
   ]
  },
  {
   "cell_type": "code",
   "execution_count": 5,
   "metadata": {
    "collapsed": false
   },
   "outputs": [],
   "source": [
    "cancer_hispanic = pd.read_csv('cancer_hispanic.txt', sep='\\t')\n",
    "cancer_hispanic = clean_df_hispanic(cancer_hispanic)"
   ]
  },
  {
   "cell_type": "code",
   "execution_count": 6,
   "metadata": {
    "collapsed": false
   },
   "outputs": [],
   "source": [
    "heart_disease_hispanic = pd.read_csv('heart_disease_hispanic.txt', sep='\\t')\n",
    "heart_disease_hispanic = clean_df_hispanic(heart_disease_hispanic)"
   ]
  },
  {
   "cell_type": "code",
   "execution_count": 8,
   "metadata": {
    "collapsed": true
   },
   "outputs": [],
   "source": [
    "mv_hispanic = pd.read_csv('motor_vehicle_hispanic.txt', sep='\\t')\n",
    "mv_hispanic = clean_df_hispanic(mv_hispanic)"
   ]
  },
  {
   "cell_type": "code",
   "execution_count": 10,
   "metadata": {
    "collapsed": true
   },
   "outputs": [],
   "source": [
    "heroin_hispanic = pd.read_csv('heroin_hispanic.txt', sep='\\t')\n",
    "heroin_hispanic = clean_df_hispanic(heroin_hispanic)"
   ]
  },
  {
   "cell_type": "code",
   "execution_count": 12,
   "metadata": {
    "collapsed": true
   },
   "outputs": [],
   "source": [
    "drug_od_hispanic = pd.read_csv('drug_od_hispanic.txt', sep='\\t')\n",
    "drug_od_hispanic = clean_df_hispanic(drug_od_hispanic)"
   ]
  },
  {
   "cell_type": "code",
   "execution_count": 18,
   "metadata": {
    "collapsed": true
   },
   "outputs": [],
   "source": [
    "diabetes_hispanic = pd.read_csv('diabetes_hispanic.txt', sep='\\t')\n",
    "diabetes_hispanic = clean_df_hispanic(diabetes_hispanic)"
   ]
  },
  {
   "cell_type": "code",
   "execution_count": 15,
   "metadata": {
    "collapsed": false
   },
   "outputs": [],
   "source": [
    "opioids_hispanic = pd.read_csv('opioids_hispanic.txt', sep='\\t')\n",
    "opioids_hispanic = clean_df_hispanic(opioids_hispanic)"
   ]
  },
  {
   "cell_type": "code",
   "execution_count": 20,
   "metadata": {
    "collapsed": false
   },
   "outputs": [
    {
     "data": {
      "text/html": [
       "<div>\n",
       "<table border=\"1\" class=\"dataframe\">\n",
       "  <thead>\n",
       "    <tr style=\"text-align: right;\">\n",
       "      <th></th>\n",
       "      <th>Year</th>\n",
       "      <th>State</th>\n",
       "      <th>Hispanic Origin</th>\n",
       "      <th>Deaths</th>\n",
       "      <th>Population</th>\n",
       "      <th>Crude Rate</th>\n",
       "      <th>Age Adjusted Rate</th>\n",
       "    </tr>\n",
       "  </thead>\n",
       "  <tbody>\n",
       "    <tr>\n",
       "      <th>1508</th>\n",
       "      <td>2015.0</td>\n",
       "      <td>West Virginia</td>\n",
       "      <td>Not Hispanic or Latino</td>\n",
       "      <td>780.0</td>\n",
       "      <td>1816319.0</td>\n",
       "      <td>42.9</td>\n",
       "      <td>31.7</td>\n",
       "    </tr>\n",
       "    <tr>\n",
       "      <th>1509</th>\n",
       "      <td>2015.0</td>\n",
       "      <td>Wisconsin</td>\n",
       "      <td>Hispanic or Latino</td>\n",
       "      <td>34.0</td>\n",
       "      <td>381877.0</td>\n",
       "      <td>8.9</td>\n",
       "      <td>25.4</td>\n",
       "    </tr>\n",
       "    <tr>\n",
       "      <th>1510</th>\n",
       "      <td>2015.0</td>\n",
       "      <td>Wisconsin</td>\n",
       "      <td>Not Hispanic or Latino</td>\n",
       "      <td>1348.0</td>\n",
       "      <td>5389460.0</td>\n",
       "      <td>25.0</td>\n",
       "      <td>19.3</td>\n",
       "    </tr>\n",
       "    <tr>\n",
       "      <th>1511</th>\n",
       "      <td>2015.0</td>\n",
       "      <td>Wyoming</td>\n",
       "      <td>Hispanic or Latino</td>\n",
       "      <td>14.0</td>\n",
       "      <td>58207.0</td>\n",
       "      <td>NaN</td>\n",
       "      <td>NaN</td>\n",
       "    </tr>\n",
       "    <tr>\n",
       "      <th>1512</th>\n",
       "      <td>2015.0</td>\n",
       "      <td>Wyoming</td>\n",
       "      <td>Not Hispanic or Latino</td>\n",
       "      <td>122.0</td>\n",
       "      <td>527900.0</td>\n",
       "      <td>23.1</td>\n",
       "      <td>19.7</td>\n",
       "    </tr>\n",
       "  </tbody>\n",
       "</table>\n",
       "</div>"
      ],
      "text/plain": [
       "        Year          State         Hispanic Origin  Deaths  Population  \\\n",
       "1508  2015.0  West Virginia  Not Hispanic or Latino   780.0   1816319.0   \n",
       "1509  2015.0      Wisconsin      Hispanic or Latino    34.0    381877.0   \n",
       "1510  2015.0      Wisconsin  Not Hispanic or Latino  1348.0   5389460.0   \n",
       "1511  2015.0        Wyoming      Hispanic or Latino    14.0     58207.0   \n",
       "1512  2015.0        Wyoming  Not Hispanic or Latino   122.0    527900.0   \n",
       "\n",
       "      Crude Rate  Age Adjusted Rate  \n",
       "1508        42.9               31.7  \n",
       "1509         8.9               25.4  \n",
       "1510        25.0               19.3  \n",
       "1511         NaN                NaN  \n",
       "1512        23.1               19.7  "
      ]
     },
     "execution_count": 20,
     "metadata": {},
     "output_type": "execute_result"
    }
   ],
   "source": [
    "diabetes_hispanic.tail()"
   ]
  },
  {
   "cell_type": "code",
   "execution_count": 21,
   "metadata": {
    "collapsed": true
   },
   "outputs": [],
   "source": [
    "causes_hispanic = {'Cancer': cancer_hispanic, 'Heart Diseases': heart_disease_hispanic, \n",
    "                 'Motor Vehicle Accident': mv_hispanic, 'Diabetes': diabetes_hispanic,\n",
    "                'Heroin Overdose': heroin_hispanic, 'Drug Overdose': drug_od_hispanic, \n",
    "                'Other Opioid Overdose': opioids_hispanic}\n",
    "\n",
    "for cause in causes_hispanic.keys():\n",
    "    causes_hispanic[cause].rename(columns={'Deaths': \"{} Deaths\".format(cause), \n",
    "                                      'Crude Rate': \"{} Crude Rate\".format(cause),\n",
    "                                         'Age Adjusted Rate': \"{} Age Adjusted Rate\".format(cause)}, inplace=True)\n",
    "\n",
    "cod_hispanic = cancer_hispanic.merge(right=heart_disease_hispanic.drop('Population', axis=1), \n",
    "                                  how='outer', on=['Year', 'State', 'Hispanic Origin'],)\n",
    "for cause in causes_hispanic.keys():\n",
    "    if cause != 'Cancer' and cause !='Heart Diseases':\n",
    "        cod_hispanic = cod_hispanic.merge(right=causes_hispanic[cause].drop(\"Population\", axis=1),\n",
    "                               how=\"outer\", on=['Year', 'State', 'Hispanic Origin'])"
   ]
  },
  {
   "cell_type": "code",
   "execution_count": 24,
   "metadata": {
    "collapsed": false
   },
   "outputs": [],
   "source": [
    "cod_hispanic.to_csv('cod_hispanic.csv')"
   ]
  },
  {
   "cell_type": "code",
   "execution_count": null,
   "metadata": {
    "collapsed": true
   },
   "outputs": [],
   "source": []
  }
 ],
 "metadata": {
  "anaconda-cloud": {},
  "kernelspec": {
   "display_name": "Python [default]",
   "language": "python",
   "name": "python3"
  },
  "language_info": {
   "codemirror_mode": {
    "name": "ipython",
    "version": 3
   },
   "file_extension": ".py",
   "mimetype": "text/x-python",
   "name": "python",
   "nbconvert_exporter": "python",
   "pygments_lexer": "ipython3",
   "version": "3.5.2"
  }
 },
 "nbformat": 4,
 "nbformat_minor": 1
}
